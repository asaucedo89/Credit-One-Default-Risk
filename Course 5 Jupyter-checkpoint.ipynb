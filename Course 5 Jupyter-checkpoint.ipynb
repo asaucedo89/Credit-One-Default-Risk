{
 "cells": [
  {
   "cell_type": "code",
   "execution_count": 185,
   "metadata": {},
   "outputs": [],
   "source": [
    "import math"
   ]
  },
  {
   "cell_type": "code",
   "execution_count": 186,
   "metadata": {},
   "outputs": [
    {
     "data": {
      "text/plain": [
       "3.141592653589793"
      ]
     },
     "execution_count": 186,
     "metadata": {},
     "output_type": "execute_result"
    }
   ],
   "source": [
    "math.pi"
   ]
  },
  {
   "cell_type": "code",
   "execution_count": 187,
   "metadata": {},
   "outputs": [
    {
     "data": {
      "text/plain": [
       "5.0"
      ]
     },
     "execution_count": 187,
     "metadata": {},
     "output_type": "execute_result"
    }
   ],
   "source": [
    "math.sqrt(25)\n",
    "\n"
   ]
  },
  {
   "cell_type": "code",
   "execution_count": 188,
   "metadata": {},
   "outputs": [],
   "source": [
    "import math as mt\n",
    "\n",
    "mt.sqrt(25)\n",
    "\n",
    "import numpy \n"
   ]
  },
  {
   "cell_type": "code",
   "execution_count": 189,
   "metadata": {},
   "outputs": [],
   "source": [
    "import scipy.stats"
   ]
  },
  {
   "cell_type": "code",
   "execution_count": 190,
   "metadata": {},
   "outputs": [],
   "source": [
    "from numpy import random\n",
    "\n",
    "\n"
   ]
  },
  {
   "cell_type": "code",
   "execution_count": 191,
   "metadata": {},
   "outputs": [],
   "source": [
    "import numpy as np"
   ]
  },
  {
   "cell_type": "code",
   "execution_count": 192,
   "metadata": {},
   "outputs": [],
   "source": [
    "# uniform random numbers in [0,1]\n",
    "dataOne = random.rand(5,5)"
   ]
  },
  {
   "cell_type": "code",
   "execution_count": 193,
   "metadata": {},
   "outputs": [],
   "source": [
    "import numpy as np "
   ]
  },
  {
   "cell_type": "code",
   "execution_count": 194,
   "metadata": {},
   "outputs": [
    {
     "data": {
      "text/plain": [
       "array([[1., 0., 0., 0., 0.],\n",
       "       [0., 1., 0., 0., 0.],\n",
       "       [0., 0., 1., 0., 0.],\n",
       "       [0., 0., 0., 1., 0.],\n",
       "       [0., 0., 0., 0., 1.]])"
      ]
     },
     "execution_count": 194,
     "metadata": {},
     "output_type": "execute_result"
    }
   ],
   "source": [
    "np.eye(5)"
   ]
  },
  {
   "cell_type": "code",
   "execution_count": 195,
   "metadata": {},
   "outputs": [],
   "source": [
    "dataOne = random.rand(5,5)"
   ]
  },
  {
   "cell_type": "code",
   "execution_count": 196,
   "metadata": {},
   "outputs": [
    {
     "ename": "AttributeError",
     "evalue": "module 'numpy' has no attribute 'dataOne'",
     "output_type": "error",
     "traceback": [
      "\u001b[1;31m---------------------------------------------------------------------------\u001b[0m",
      "\u001b[1;31mAttributeError\u001b[0m                            Traceback (most recent call last)",
      "\u001b[1;32m<ipython-input-196-44c6983015be>\u001b[0m in \u001b[0;36m<module>\u001b[1;34m\u001b[0m\n\u001b[1;32m----> 1\u001b[1;33m \u001b[0mnp\u001b[0m\u001b[1;33m.\u001b[0m\u001b[0mdataOne\u001b[0m\u001b[1;33m\u001b[0m\u001b[1;33m\u001b[0m\u001b[0m\n\u001b[0m",
      "\u001b[1;32m~\\anaconda3\\lib\\site-packages\\numpy\\__init__.py\u001b[0m in \u001b[0;36m__getattr__\u001b[1;34m(attr)\u001b[0m\n\u001b[0;32m    218\u001b[0m             \u001b[1;32melse\u001b[0m\u001b[1;33m:\u001b[0m\u001b[1;33m\u001b[0m\u001b[1;33m\u001b[0m\u001b[0m\n\u001b[0;32m    219\u001b[0m                 raise AttributeError(\"module {!r} has no attribute \"\n\u001b[1;32m--> 220\u001b[1;33m                                      \"{!r}\".format(__name__, attr))\n\u001b[0m\u001b[0;32m    221\u001b[0m \u001b[1;33m\u001b[0m\u001b[0m\n\u001b[0;32m    222\u001b[0m         \u001b[1;32mdef\u001b[0m \u001b[0m__dir__\u001b[0m\u001b[1;33m(\u001b[0m\u001b[1;33m)\u001b[0m\u001b[1;33m:\u001b[0m\u001b[1;33m\u001b[0m\u001b[1;33m\u001b[0m\u001b[0m\n",
      "\u001b[1;31mAttributeError\u001b[0m: module 'numpy' has no attribute 'dataOne'"
     ]
    }
   ],
   "source": [
    "np.dataOne"
   ]
  },
  {
   "cell_type": "code",
   "execution_count": null,
   "metadata": {},
   "outputs": [],
   "source": [
    "np.mean(dataOne)\n"
   ]
  },
  {
   "cell_type": "code",
   "execution_count": null,
   "metadata": {},
   "outputs": [],
   "source": [
    "np.mode(dataOne)"
   ]
  },
  {
   "cell_type": "code",
   "execution_count": null,
   "metadata": {},
   "outputs": [],
   "source": [
    "#1 \n",
    "np.std(dataOne)"
   ]
  },
  {
   "cell_type": "code",
   "execution_count": null,
   "metadata": {},
   "outputs": [],
   "source": [
    "#2\n",
    "np.sum(dataOne)"
   ]
  },
  {
   "cell_type": "code",
   "execution_count": null,
   "metadata": {},
   "outputs": [],
   "source": [
    "#3\n",
    "np.median(dataOne)"
   ]
  },
  {
   "cell_type": "code",
   "execution_count": 197,
   "metadata": {},
   "outputs": [
    {
     "name": "stdout",
     "output_type": "stream",
     "text": [
      "I Love data Science\n"
     ]
    }
   ],
   "source": [
    "print('I Love data Science')"
   ]
  },
  {
   "cell_type": "code",
   "execution_count": 198,
   "metadata": {},
   "outputs": [],
   "source": [
    "variableName = 25"
   ]
  },
  {
   "cell_type": "code",
   "execution_count": 199,
   "metadata": {},
   "outputs": [],
   "source": [
    "variableName1 = 'I Love data Science'"
   ]
  },
  {
   "cell_type": "code",
   "execution_count": 200,
   "metadata": {},
   "outputs": [
    {
     "name": "stdout",
     "output_type": "stream",
     "text": [
      "I Love data Science\n"
     ]
    }
   ],
   "source": [
    "print(variableName1)"
   ]
  },
  {
   "cell_type": "code",
   "execution_count": 201,
   "metadata": {},
   "outputs": [],
   "source": [
    "variableName = 25"
   ]
  },
  {
   "cell_type": "code",
   "execution_count": 202,
   "metadata": {},
   "outputs": [
    {
     "data": {
      "text/plain": [
       "int"
      ]
     },
     "execution_count": 202,
     "metadata": {},
     "output_type": "execute_result"
    }
   ],
   "source": [
    "type(variableName)"
   ]
  },
  {
   "cell_type": "code",
   "execution_count": 203,
   "metadata": {},
   "outputs": [],
   "source": [
    "variableName = 25.0"
   ]
  },
  {
   "cell_type": "code",
   "execution_count": 204,
   "metadata": {},
   "outputs": [
    {
     "data": {
      "text/plain": [
       "float"
      ]
     },
     "execution_count": 204,
     "metadata": {},
     "output_type": "execute_result"
    }
   ],
   "source": [
    "type(variableName)"
   ]
  },
  {
   "cell_type": "code",
   "execution_count": 205,
   "metadata": {},
   "outputs": [
    {
     "name": "stdout",
     "output_type": "stream",
     "text": [
      "50.0\n"
     ]
    }
   ],
   "source": [
    "varOne = 25\n",
    "\n",
    "varTwo = 25.0\n",
    "\n",
    "varThree = varOne + varTwo\n",
    "\n",
    "print(varThree)"
   ]
  },
  {
   "cell_type": "raw",
   "metadata": {},
   "source": [
    "    "
   ]
  },
  {
   "cell_type": "code",
   "execution_count": 206,
   "metadata": {},
   "outputs": [
    {
     "ename": "TypeError",
     "evalue": "unsupported operand type(s) for +: 'int' and 'str'",
     "output_type": "error",
     "traceback": [
      "\u001b[1;31m---------------------------------------------------------------------------\u001b[0m",
      "\u001b[1;31mTypeError\u001b[0m                                 Traceback (most recent call last)",
      "\u001b[1;32m<ipython-input-206-87d4664cabc8>\u001b[0m in \u001b[0;36m<module>\u001b[1;34m\u001b[0m\n\u001b[0;32m      3\u001b[0m \u001b[0mvarTwo\u001b[0m \u001b[1;33m=\u001b[0m \u001b[1;34m'Hello'\u001b[0m\u001b[1;33m\u001b[0m\u001b[1;33m\u001b[0m\u001b[0m\n\u001b[0;32m      4\u001b[0m \u001b[1;33m\u001b[0m\u001b[0m\n\u001b[1;32m----> 5\u001b[1;33m \u001b[0mvarThree\u001b[0m \u001b[1;33m=\u001b[0m \u001b[0mvarOne\u001b[0m \u001b[1;33m+\u001b[0m \u001b[0mvarTwo\u001b[0m\u001b[1;33m\u001b[0m\u001b[1;33m\u001b[0m\u001b[0m\n\u001b[0m\u001b[0;32m      6\u001b[0m \u001b[1;33m\u001b[0m\u001b[0m\n\u001b[0;32m      7\u001b[0m \u001b[0mprint\u001b[0m\u001b[1;33m(\u001b[0m\u001b[0mvarThree\u001b[0m\u001b[1;33m)\u001b[0m\u001b[1;33m\u001b[0m\u001b[1;33m\u001b[0m\u001b[0m\n",
      "\u001b[1;31mTypeError\u001b[0m: unsupported operand type(s) for +: 'int' and 'str'"
     ]
    }
   ],
   "source": [
    "varOne = 25\n",
    "\n",
    "varTwo = 'Hello'\n",
    "\n",
    "varThree = varOne + varTwo\n",
    "\n",
    "print(varThree)\n",
    "##Error due to different data types "
   ]
  },
  {
   "cell_type": "code",
   "execution_count": null,
   "metadata": {},
   "outputs": [],
   "source": [
    "listOne = [1,2,3,4]"
   ]
  },
  {
   "cell_type": "code",
   "execution_count": null,
   "metadata": {},
   "outputs": [],
   "source": [
    "print(listOne[1:3])"
   ]
  },
  {
   "cell_type": "code",
   "execution_count": null,
   "metadata": {},
   "outputs": [],
   "source": [
    "tel = {'jack': 4098, 'sape': 4139}"
   ]
  },
  {
   "cell_type": "code",
   "execution_count": 207,
   "metadata": {},
   "outputs": [
    {
     "data": {
      "text/plain": [
       "4098"
      ]
     },
     "execution_count": 207,
     "metadata": {},
     "output_type": "execute_result"
    }
   ],
   "source": [
    "tel['jack']"
   ]
  },
  {
   "cell_type": "code",
   "execution_count": 208,
   "metadata": {},
   "outputs": [
    {
     "name": "stdout",
     "output_type": "stream",
     "text": [
      "[1, 2, 3, 4, 5]\n"
     ]
    }
   ],
   "source": [
    "cat1 = {\"andres\":[1,2,3,4,5]}\n",
    "print(cat1['andres'])"
   ]
  },
  {
   "cell_type": "code",
   "execution_count": 209,
   "metadata": {},
   "outputs": [],
   "source": [
    "import math "
   ]
  },
  {
   "cell_type": "code",
   "execution_count": 210,
   "metadata": {},
   "outputs": [
    {
     "data": {
      "text/plain": [
       "5.0"
      ]
     },
     "execution_count": 210,
     "metadata": {},
     "output_type": "execute_result"
    }
   ],
   "source": [
    "math.sqrt(25)"
   ]
  },
  {
   "cell_type": "code",
   "execution_count": 211,
   "metadata": {},
   "outputs": [],
   "source": [
    "import math as mt"
   ]
  },
  {
   "cell_type": "code",
   "execution_count": 212,
   "metadata": {},
   "outputs": [
    {
     "data": {
      "text/plain": [
       "5.0"
      ]
     },
     "execution_count": 212,
     "metadata": {},
     "output_type": "execute_result"
    }
   ],
   "source": [
    "mt.sqrt(25)"
   ]
  },
  {
   "cell_type": "code",
   "execution_count": 213,
   "metadata": {},
   "outputs": [],
   "source": [
    "cat1 = {\"andres\":[1,2,3,4,5]}\n",
    "x = cat1['andres'][2]\n",
    "y = cat1['andres'][3]\n",
    "z = cat1['andres'][4]"
   ]
  },
  {
   "cell_type": "code",
   "execution_count": 214,
   "metadata": {},
   "outputs": [
    {
     "data": {
      "text/plain": [
       "2.6457513110645907"
      ]
     },
     "execution_count": 214,
     "metadata": {},
     "output_type": "execute_result"
    }
   ],
   "source": [
    "mt.sqrt(x+y)"
   ]
  },
  {
   "cell_type": "code",
   "execution_count": 215,
   "metadata": {},
   "outputs": [
    {
     "data": {
      "text/plain": [
       "81.0"
      ]
     },
     "execution_count": 215,
     "metadata": {},
     "output_type": "execute_result"
    }
   ],
   "source": [
    "mt.pow(x,y)"
   ]
  },
  {
   "cell_type": "code",
   "execution_count": 216,
   "metadata": {},
   "outputs": [
    {
     "data": {
      "text/plain": [
       "3.0"
      ]
     },
     "execution_count": 216,
     "metadata": {},
     "output_type": "execute_result"
    }
   ],
   "source": [
    "mt.fabs(x)"
   ]
  },
  {
   "cell_type": "markdown",
   "metadata": {},
   "source": [
    "Was it straightforward to install Python and all of the libraries? Yes\n"
   ]
  },
  {
   "cell_type": "markdown",
   "metadata": {},
   "source": [
    "Was the tutorial useful? Would you recommend it to others? Yes"
   ]
  },
  {
   "cell_type": "markdown",
   "metadata": {},
   "source": [
    "What are the main lessons you've learned from this experience? How to use python and Github"
   ]
  },
  {
   "cell_type": "markdown",
   "metadata": {},
   "source": [
    "# Importing Libraries"
   ]
  },
  {
   "cell_type": "code",
   "execution_count": 217,
   "metadata": {},
   "outputs": [],
   "source": [
    "#Import Libraries \n",
    "import numpy as np\n",
    "import pandas as pd\n",
    "from pandas import Series, DataFrame, set_option\n",
    "from pandas.plotting import scatter_matrix\n",
    "import matplotlib as mpl\n",
    "import matplotlib.pyplot as plt\n",
    "import seaborn as sns\n",
    "import statsmodels.api as sm\n",
    "import pylab"
   ]
  },
  {
   "cell_type": "code",
   "execution_count": 218,
   "metadata": {},
   "outputs": [],
   "source": [
    "%matplotlib inline\n",
    "\n",
    "set_option('display.width', 100)\n",
    "set_option('precision', 3)\n",
    "\n",
    "# set default matplot figure size\n",
    "pylab.rcParams['figure.figsize'] = (10.0, 8.0)"
   ]
  },
  {
   "cell_type": "code",
   "execution_count": 219,
   "metadata": {
    "scrolled": true
   },
   "outputs": [
    {
     "data": {
      "text/plain": [
       "'C:\\\\Users\\\\admin\\\\Desktop\\\\Course 5 Task 1'"
      ]
     },
     "execution_count": 219,
     "metadata": {},
     "output_type": "execute_result"
    }
   ],
   "source": [
    "pwd"
   ]
  },
  {
   "cell_type": "code",
   "execution_count": 220,
   "metadata": {},
   "outputs": [],
   "source": [
    "# changing row names \n",
    "names = ['Id', 'TotalLoan', 'Gender', 'Education', 'MaritalStatus', 'Age', \n",
    "         'HstPaySep15', 'HstPayAug15', 'HstPayJul15', 'HstPayJun15', 'HstPayMay15', 'HstPayApr15', \n",
    "         'BillSep15', 'BillAug15', 'BillJul15', 'BillJun15', 'BillMay15', 'BillApr15', \n",
    "         'PaySep15', 'PayAug15', 'PayJul15', 'PayJun15', 'PayMay15', 'PayApr15', \n",
    "         'DefaultPayment']"
   ]
  },
  {
   "cell_type": "code",
   "execution_count": 221,
   "metadata": {},
   "outputs": [
    {
     "name": "stdout",
     "output_type": "stream",
     "text": [
      "Rows and columns count: (30000, 25)\n"
     ]
    }
   ],
   "source": [
    "credit = pd.read_csv('default of credit card clients.csv', header =1,names=names)\n",
    "credit.head()\n",
    "print('Rows and columns count:', credit.shape)"
   ]
  },
  {
   "cell_type": "code",
   "execution_count": 222,
   "metadata": {},
   "outputs": [
    {
     "name": "stdout",
     "output_type": "stream",
     "text": [
      "Columns names: Index(['Id', 'TotalLoan', 'Gender', 'Education', 'MaritalStatus', 'Age', 'HstPaySep15',\n",
      "       'HstPayAug15', 'HstPayJul15', 'HstPayJun15', 'HstPayMay15', 'HstPayApr15', 'BillSep15',\n",
      "       'BillAug15', 'BillJul15', 'BillJun15', 'BillMay15', 'BillApr15', 'PaySep15', 'PayAug15',\n",
      "       'PayJul15', 'PayJun15', 'PayMay15', 'PayApr15', 'DefaultPayment'],\n",
      "      dtype='object')\n"
     ]
    }
   ],
   "source": [
    "print('Columns names:', credit.columns)"
   ]
  },
  {
   "cell_type": "code",
   "execution_count": 223,
   "metadata": {},
   "outputs": [
    {
     "data": {
      "text/html": [
       "<div>\n",
       "<style scoped>\n",
       "    .dataframe tbody tr th:only-of-type {\n",
       "        vertical-align: middle;\n",
       "    }\n",
       "\n",
       "    .dataframe tbody tr th {\n",
       "        vertical-align: top;\n",
       "    }\n",
       "\n",
       "    .dataframe thead th {\n",
       "        text-align: right;\n",
       "    }\n",
       "</style>\n",
       "<table border=\"1\" class=\"dataframe\">\n",
       "  <thead>\n",
       "    <tr style=\"text-align: right;\">\n",
       "      <th></th>\n",
       "      <th>Id</th>\n",
       "      <th>TotalLoan</th>\n",
       "      <th>Gender</th>\n",
       "      <th>Education</th>\n",
       "      <th>MaritalStatus</th>\n",
       "      <th>Age</th>\n",
       "      <th>HstPaySep15</th>\n",
       "      <th>HstPayAug15</th>\n",
       "      <th>HstPayJul15</th>\n",
       "      <th>HstPayJun15</th>\n",
       "      <th>...</th>\n",
       "      <th>BillJun15</th>\n",
       "      <th>BillMay15</th>\n",
       "      <th>BillApr15</th>\n",
       "      <th>PaySep15</th>\n",
       "      <th>PayAug15</th>\n",
       "      <th>PayJul15</th>\n",
       "      <th>PayJun15</th>\n",
       "      <th>PayMay15</th>\n",
       "      <th>PayApr15</th>\n",
       "      <th>DefaultPayment</th>\n",
       "    </tr>\n",
       "  </thead>\n",
       "  <tbody>\n",
       "    <tr>\n",
       "      <th>count</th>\n",
       "      <td>30000.000</td>\n",
       "      <td>30000.000</td>\n",
       "      <td>30000.000</td>\n",
       "      <td>30000.000</td>\n",
       "      <td>30000.000</td>\n",
       "      <td>30000.000</td>\n",
       "      <td>30000.000</td>\n",
       "      <td>30000.000</td>\n",
       "      <td>30000.000</td>\n",
       "      <td>30000.000</td>\n",
       "      <td>...</td>\n",
       "      <td>30000.000</td>\n",
       "      <td>30000.000</td>\n",
       "      <td>30000.000</td>\n",
       "      <td>30000.000</td>\n",
       "      <td>3.000e+04</td>\n",
       "      <td>30000.000</td>\n",
       "      <td>30000.000</td>\n",
       "      <td>30000.000</td>\n",
       "      <td>30000.000</td>\n",
       "      <td>30000.000</td>\n",
       "    </tr>\n",
       "    <tr>\n",
       "      <th>mean</th>\n",
       "      <td>15000.500</td>\n",
       "      <td>167484.323</td>\n",
       "      <td>1.604</td>\n",
       "      <td>1.853</td>\n",
       "      <td>1.552</td>\n",
       "      <td>35.486</td>\n",
       "      <td>-0.017</td>\n",
       "      <td>-0.134</td>\n",
       "      <td>-0.166</td>\n",
       "      <td>-0.221</td>\n",
       "      <td>...</td>\n",
       "      <td>43262.949</td>\n",
       "      <td>40311.401</td>\n",
       "      <td>38871.760</td>\n",
       "      <td>5663.581</td>\n",
       "      <td>5.921e+03</td>\n",
       "      <td>5225.681</td>\n",
       "      <td>4826.077</td>\n",
       "      <td>4799.388</td>\n",
       "      <td>5215.503</td>\n",
       "      <td>0.221</td>\n",
       "    </tr>\n",
       "    <tr>\n",
       "      <th>std</th>\n",
       "      <td>8660.398</td>\n",
       "      <td>129747.662</td>\n",
       "      <td>0.489</td>\n",
       "      <td>0.790</td>\n",
       "      <td>0.522</td>\n",
       "      <td>9.218</td>\n",
       "      <td>1.124</td>\n",
       "      <td>1.197</td>\n",
       "      <td>1.197</td>\n",
       "      <td>1.169</td>\n",
       "      <td>...</td>\n",
       "      <td>64332.856</td>\n",
       "      <td>60797.156</td>\n",
       "      <td>59554.108</td>\n",
       "      <td>16563.280</td>\n",
       "      <td>2.304e+04</td>\n",
       "      <td>17606.961</td>\n",
       "      <td>15666.160</td>\n",
       "      <td>15278.306</td>\n",
       "      <td>17777.466</td>\n",
       "      <td>0.415</td>\n",
       "    </tr>\n",
       "    <tr>\n",
       "      <th>min</th>\n",
       "      <td>1.000</td>\n",
       "      <td>10000.000</td>\n",
       "      <td>1.000</td>\n",
       "      <td>0.000</td>\n",
       "      <td>0.000</td>\n",
       "      <td>21.000</td>\n",
       "      <td>-2.000</td>\n",
       "      <td>-2.000</td>\n",
       "      <td>-2.000</td>\n",
       "      <td>-2.000</td>\n",
       "      <td>...</td>\n",
       "      <td>-170000.000</td>\n",
       "      <td>-81334.000</td>\n",
       "      <td>-339603.000</td>\n",
       "      <td>0.000</td>\n",
       "      <td>0.000e+00</td>\n",
       "      <td>0.000</td>\n",
       "      <td>0.000</td>\n",
       "      <td>0.000</td>\n",
       "      <td>0.000</td>\n",
       "      <td>0.000</td>\n",
       "    </tr>\n",
       "    <tr>\n",
       "      <th>25%</th>\n",
       "      <td>7500.750</td>\n",
       "      <td>50000.000</td>\n",
       "      <td>1.000</td>\n",
       "      <td>1.000</td>\n",
       "      <td>1.000</td>\n",
       "      <td>28.000</td>\n",
       "      <td>-1.000</td>\n",
       "      <td>-1.000</td>\n",
       "      <td>-1.000</td>\n",
       "      <td>-1.000</td>\n",
       "      <td>...</td>\n",
       "      <td>2326.750</td>\n",
       "      <td>1763.000</td>\n",
       "      <td>1256.000</td>\n",
       "      <td>1000.000</td>\n",
       "      <td>8.330e+02</td>\n",
       "      <td>390.000</td>\n",
       "      <td>296.000</td>\n",
       "      <td>252.500</td>\n",
       "      <td>117.750</td>\n",
       "      <td>0.000</td>\n",
       "    </tr>\n",
       "    <tr>\n",
       "      <th>50%</th>\n",
       "      <td>15000.500</td>\n",
       "      <td>140000.000</td>\n",
       "      <td>2.000</td>\n",
       "      <td>2.000</td>\n",
       "      <td>2.000</td>\n",
       "      <td>34.000</td>\n",
       "      <td>0.000</td>\n",
       "      <td>0.000</td>\n",
       "      <td>0.000</td>\n",
       "      <td>0.000</td>\n",
       "      <td>...</td>\n",
       "      <td>19052.000</td>\n",
       "      <td>18104.500</td>\n",
       "      <td>17071.000</td>\n",
       "      <td>2100.000</td>\n",
       "      <td>2.009e+03</td>\n",
       "      <td>1800.000</td>\n",
       "      <td>1500.000</td>\n",
       "      <td>1500.000</td>\n",
       "      <td>1500.000</td>\n",
       "      <td>0.000</td>\n",
       "    </tr>\n",
       "    <tr>\n",
       "      <th>75%</th>\n",
       "      <td>22500.250</td>\n",
       "      <td>240000.000</td>\n",
       "      <td>2.000</td>\n",
       "      <td>2.000</td>\n",
       "      <td>2.000</td>\n",
       "      <td>41.000</td>\n",
       "      <td>0.000</td>\n",
       "      <td>0.000</td>\n",
       "      <td>0.000</td>\n",
       "      <td>0.000</td>\n",
       "      <td>...</td>\n",
       "      <td>54506.000</td>\n",
       "      <td>50190.500</td>\n",
       "      <td>49198.250</td>\n",
       "      <td>5006.000</td>\n",
       "      <td>5.000e+03</td>\n",
       "      <td>4505.000</td>\n",
       "      <td>4013.250</td>\n",
       "      <td>4031.500</td>\n",
       "      <td>4000.000</td>\n",
       "      <td>0.000</td>\n",
       "    </tr>\n",
       "    <tr>\n",
       "      <th>max</th>\n",
       "      <td>30000.000</td>\n",
       "      <td>1000000.000</td>\n",
       "      <td>2.000</td>\n",
       "      <td>6.000</td>\n",
       "      <td>3.000</td>\n",
       "      <td>79.000</td>\n",
       "      <td>8.000</td>\n",
       "      <td>8.000</td>\n",
       "      <td>8.000</td>\n",
       "      <td>8.000</td>\n",
       "      <td>...</td>\n",
       "      <td>891586.000</td>\n",
       "      <td>927171.000</td>\n",
       "      <td>961664.000</td>\n",
       "      <td>873552.000</td>\n",
       "      <td>1.684e+06</td>\n",
       "      <td>896040.000</td>\n",
       "      <td>621000.000</td>\n",
       "      <td>426529.000</td>\n",
       "      <td>528666.000</td>\n",
       "      <td>1.000</td>\n",
       "    </tr>\n",
       "  </tbody>\n",
       "</table>\n",
       "<p>8 rows × 25 columns</p>\n",
       "</div>"
      ],
      "text/plain": [
       "              Id    TotalLoan     Gender  Education  MaritalStatus        Age  HstPaySep15  \\\n",
       "count  30000.000    30000.000  30000.000  30000.000      30000.000  30000.000    30000.000   \n",
       "mean   15000.500   167484.323      1.604      1.853          1.552     35.486       -0.017   \n",
       "std     8660.398   129747.662      0.489      0.790          0.522      9.218        1.124   \n",
       "min        1.000    10000.000      1.000      0.000          0.000     21.000       -2.000   \n",
       "25%     7500.750    50000.000      1.000      1.000          1.000     28.000       -1.000   \n",
       "50%    15000.500   140000.000      2.000      2.000          2.000     34.000        0.000   \n",
       "75%    22500.250   240000.000      2.000      2.000          2.000     41.000        0.000   \n",
       "max    30000.000  1000000.000      2.000      6.000          3.000     79.000        8.000   \n",
       "\n",
       "       HstPayAug15  HstPayJul15  HstPayJun15  ...   BillJun15   BillMay15   BillApr15    PaySep15  \\\n",
       "count    30000.000    30000.000    30000.000  ...   30000.000   30000.000   30000.000   30000.000   \n",
       "mean        -0.134       -0.166       -0.221  ...   43262.949   40311.401   38871.760    5663.581   \n",
       "std          1.197        1.197        1.169  ...   64332.856   60797.156   59554.108   16563.280   \n",
       "min         -2.000       -2.000       -2.000  ... -170000.000  -81334.000 -339603.000       0.000   \n",
       "25%         -1.000       -1.000       -1.000  ...    2326.750    1763.000    1256.000    1000.000   \n",
       "50%          0.000        0.000        0.000  ...   19052.000   18104.500   17071.000    2100.000   \n",
       "75%          0.000        0.000        0.000  ...   54506.000   50190.500   49198.250    5006.000   \n",
       "max          8.000        8.000        8.000  ...  891586.000  927171.000  961664.000  873552.000   \n",
       "\n",
       "        PayAug15    PayJul15    PayJun15    PayMay15    PayApr15  DefaultPayment  \n",
       "count  3.000e+04   30000.000   30000.000   30000.000   30000.000       30000.000  \n",
       "mean   5.921e+03    5225.681    4826.077    4799.388    5215.503           0.221  \n",
       "std    2.304e+04   17606.961   15666.160   15278.306   17777.466           0.415  \n",
       "min    0.000e+00       0.000       0.000       0.000       0.000           0.000  \n",
       "25%    8.330e+02     390.000     296.000     252.500     117.750           0.000  \n",
       "50%    2.009e+03    1800.000    1500.000    1500.000    1500.000           0.000  \n",
       "75%    5.000e+03    4505.000    4013.250    4031.500    4000.000           0.000  \n",
       "max    1.684e+06  896040.000  621000.000  426529.000  528666.000           1.000  \n",
       "\n",
       "[8 rows x 25 columns]"
      ]
     },
     "execution_count": 223,
     "metadata": {},
     "output_type": "execute_result"
    }
   ],
   "source": [
    "credit.describe()"
   ]
  },
  {
   "cell_type": "code",
   "execution_count": 224,
   "metadata": {},
   "outputs": [
    {
     "name": "stdout",
     "output_type": "stream",
     "text": [
      "<class 'pandas.core.frame.DataFrame'>\n",
      "RangeIndex: 30000 entries, 0 to 29999\n",
      "Data columns (total 25 columns):\n",
      " #   Column          Non-Null Count  Dtype\n",
      "---  ------          --------------  -----\n",
      " 0   Id              30000 non-null  int64\n",
      " 1   TotalLoan       30000 non-null  int64\n",
      " 2   Gender          30000 non-null  int64\n",
      " 3   Education       30000 non-null  int64\n",
      " 4   MaritalStatus   30000 non-null  int64\n",
      " 5   Age             30000 non-null  int64\n",
      " 6   HstPaySep15     30000 non-null  int64\n",
      " 7   HstPayAug15     30000 non-null  int64\n",
      " 8   HstPayJul15     30000 non-null  int64\n",
      " 9   HstPayJun15     30000 non-null  int64\n",
      " 10  HstPayMay15     30000 non-null  int64\n",
      " 11  HstPayApr15     30000 non-null  int64\n",
      " 12  BillSep15       30000 non-null  int64\n",
      " 13  BillAug15       30000 non-null  int64\n",
      " 14  BillJul15       30000 non-null  int64\n",
      " 15  BillJun15       30000 non-null  int64\n",
      " 16  BillMay15       30000 non-null  int64\n",
      " 17  BillApr15       30000 non-null  int64\n",
      " 18  PaySep15        30000 non-null  int64\n",
      " 19  PayAug15        30000 non-null  int64\n",
      " 20  PayJul15        30000 non-null  int64\n",
      " 21  PayJun15        30000 non-null  int64\n",
      " 22  PayMay15        30000 non-null  int64\n",
      " 23  PayApr15        30000 non-null  int64\n",
      " 24  DefaultPayment  30000 non-null  int64\n",
      "dtypes: int64(25)\n",
      "memory usage: 5.7 MB\n"
     ]
    }
   ],
   "source": [
    "credit.info()"
   ]
  },
  {
   "cell_type": "code",
   "execution_count": 225,
   "metadata": {},
   "outputs": [
    {
     "data": {
      "text/plain": [
       "Id                0\n",
       "TotalLoan         0\n",
       "Gender            0\n",
       "Education         0\n",
       "MaritalStatus     0\n",
       "Age               0\n",
       "HstPaySep15       0\n",
       "HstPayAug15       0\n",
       "HstPayJul15       0\n",
       "HstPayJun15       0\n",
       "HstPayMay15       0\n",
       "HstPayApr15       0\n",
       "BillSep15         0\n",
       "BillAug15         0\n",
       "BillJul15         0\n",
       "BillJun15         0\n",
       "BillMay15         0\n",
       "BillApr15         0\n",
       "PaySep15          0\n",
       "PayAug15          0\n",
       "PayJul15          0\n",
       "PayJun15          0\n",
       "PayMay15          0\n",
       "PayApr15          0\n",
       "DefaultPayment    0\n",
       "dtype: int64"
      ]
     },
     "execution_count": 225,
     "metadata": {},
     "output_type": "execute_result"
    }
   ],
   "source": [
    "# finding missing values \n",
    "credit.isnull().sum()"
   ]
  },
  {
   "cell_type": "code",
   "execution_count": 226,
   "metadata": {},
   "outputs": [
    {
     "data": {
      "text/html": [
       "<div>\n",
       "<style scoped>\n",
       "    .dataframe tbody tr th:only-of-type {\n",
       "        vertical-align: middle;\n",
       "    }\n",
       "\n",
       "    .dataframe tbody tr th {\n",
       "        vertical-align: top;\n",
       "    }\n",
       "\n",
       "    .dataframe thead th {\n",
       "        text-align: right;\n",
       "    }\n",
       "</style>\n",
       "<table border=\"1\" class=\"dataframe\">\n",
       "  <thead>\n",
       "    <tr style=\"text-align: right;\">\n",
       "      <th></th>\n",
       "      <th>TotalLoan</th>\n",
       "      <th>Gender</th>\n",
       "      <th>Education</th>\n",
       "      <th>MaritalStatus</th>\n",
       "      <th>Age</th>\n",
       "      <th>HstPaySep15</th>\n",
       "      <th>HstPayAug15</th>\n",
       "      <th>HstPayJul15</th>\n",
       "      <th>HstPayJun15</th>\n",
       "      <th>HstPayMay15</th>\n",
       "      <th>...</th>\n",
       "      <th>BillJun15</th>\n",
       "      <th>BillMay15</th>\n",
       "      <th>BillApr15</th>\n",
       "      <th>PaySep15</th>\n",
       "      <th>PayAug15</th>\n",
       "      <th>PayJul15</th>\n",
       "      <th>PayJun15</th>\n",
       "      <th>PayMay15</th>\n",
       "      <th>PayApr15</th>\n",
       "      <th>DefaultPayment</th>\n",
       "    </tr>\n",
       "  </thead>\n",
       "  <tbody>\n",
       "    <tr>\n",
       "      <th>0</th>\n",
       "      <td>20000</td>\n",
       "      <td>2</td>\n",
       "      <td>2</td>\n",
       "      <td>1</td>\n",
       "      <td>24</td>\n",
       "      <td>2</td>\n",
       "      <td>2</td>\n",
       "      <td>-1</td>\n",
       "      <td>-1</td>\n",
       "      <td>-2</td>\n",
       "      <td>...</td>\n",
       "      <td>0</td>\n",
       "      <td>0</td>\n",
       "      <td>0</td>\n",
       "      <td>0</td>\n",
       "      <td>689</td>\n",
       "      <td>0</td>\n",
       "      <td>0</td>\n",
       "      <td>0</td>\n",
       "      <td>0</td>\n",
       "      <td>1</td>\n",
       "    </tr>\n",
       "    <tr>\n",
       "      <th>1</th>\n",
       "      <td>120000</td>\n",
       "      <td>2</td>\n",
       "      <td>2</td>\n",
       "      <td>2</td>\n",
       "      <td>26</td>\n",
       "      <td>-1</td>\n",
       "      <td>2</td>\n",
       "      <td>0</td>\n",
       "      <td>0</td>\n",
       "      <td>0</td>\n",
       "      <td>...</td>\n",
       "      <td>3272</td>\n",
       "      <td>3455</td>\n",
       "      <td>3261</td>\n",
       "      <td>0</td>\n",
       "      <td>1000</td>\n",
       "      <td>1000</td>\n",
       "      <td>1000</td>\n",
       "      <td>0</td>\n",
       "      <td>2000</td>\n",
       "      <td>1</td>\n",
       "    </tr>\n",
       "    <tr>\n",
       "      <th>2</th>\n",
       "      <td>90000</td>\n",
       "      <td>2</td>\n",
       "      <td>2</td>\n",
       "      <td>2</td>\n",
       "      <td>34</td>\n",
       "      <td>0</td>\n",
       "      <td>0</td>\n",
       "      <td>0</td>\n",
       "      <td>0</td>\n",
       "      <td>0</td>\n",
       "      <td>...</td>\n",
       "      <td>14331</td>\n",
       "      <td>14948</td>\n",
       "      <td>15549</td>\n",
       "      <td>1518</td>\n",
       "      <td>1500</td>\n",
       "      <td>1000</td>\n",
       "      <td>1000</td>\n",
       "      <td>1000</td>\n",
       "      <td>5000</td>\n",
       "      <td>0</td>\n",
       "    </tr>\n",
       "    <tr>\n",
       "      <th>3</th>\n",
       "      <td>50000</td>\n",
       "      <td>2</td>\n",
       "      <td>2</td>\n",
       "      <td>1</td>\n",
       "      <td>37</td>\n",
       "      <td>0</td>\n",
       "      <td>0</td>\n",
       "      <td>0</td>\n",
       "      <td>0</td>\n",
       "      <td>0</td>\n",
       "      <td>...</td>\n",
       "      <td>28314</td>\n",
       "      <td>28959</td>\n",
       "      <td>29547</td>\n",
       "      <td>2000</td>\n",
       "      <td>2019</td>\n",
       "      <td>1200</td>\n",
       "      <td>1100</td>\n",
       "      <td>1069</td>\n",
       "      <td>1000</td>\n",
       "      <td>0</td>\n",
       "    </tr>\n",
       "    <tr>\n",
       "      <th>4</th>\n",
       "      <td>50000</td>\n",
       "      <td>1</td>\n",
       "      <td>2</td>\n",
       "      <td>1</td>\n",
       "      <td>57</td>\n",
       "      <td>-1</td>\n",
       "      <td>0</td>\n",
       "      <td>-1</td>\n",
       "      <td>0</td>\n",
       "      <td>0</td>\n",
       "      <td>...</td>\n",
       "      <td>20940</td>\n",
       "      <td>19146</td>\n",
       "      <td>19131</td>\n",
       "      <td>2000</td>\n",
       "      <td>36681</td>\n",
       "      <td>10000</td>\n",
       "      <td>9000</td>\n",
       "      <td>689</td>\n",
       "      <td>679</td>\n",
       "      <td>0</td>\n",
       "    </tr>\n",
       "  </tbody>\n",
       "</table>\n",
       "<p>5 rows × 24 columns</p>\n",
       "</div>"
      ],
      "text/plain": [
       "   TotalLoan  Gender  Education  MaritalStatus  Age  HstPaySep15  HstPayAug15  HstPayJul15  \\\n",
       "0      20000       2          2              1   24            2            2           -1   \n",
       "1     120000       2          2              2   26           -1            2            0   \n",
       "2      90000       2          2              2   34            0            0            0   \n",
       "3      50000       2          2              1   37            0            0            0   \n",
       "4      50000       1          2              1   57           -1            0           -1   \n",
       "\n",
       "   HstPayJun15  HstPayMay15  ...  BillJun15  BillMay15  BillApr15  PaySep15  PayAug15  PayJul15  \\\n",
       "0           -1           -2  ...          0          0          0         0       689         0   \n",
       "1            0            0  ...       3272       3455       3261         0      1000      1000   \n",
       "2            0            0  ...      14331      14948      15549      1518      1500      1000   \n",
       "3            0            0  ...      28314      28959      29547      2000      2019      1200   \n",
       "4            0            0  ...      20940      19146      19131      2000     36681     10000   \n",
       "\n",
       "   PayJun15  PayMay15  PayApr15  DefaultPayment  \n",
       "0         0         0         0               1  \n",
       "1      1000         0      2000               1  \n",
       "2      1000      1000      5000               0  \n",
       "3      1100      1069      1000               0  \n",
       "4      9000       689       679               0  \n",
       "\n",
       "[5 rows x 24 columns]"
      ]
     },
     "execution_count": 226,
     "metadata": {},
     "output_type": "execute_result"
    }
   ],
   "source": [
    "# check the firsts rows\n",
    "creditcf = credit.iloc[:,1:]\n",
    "creditcf.head(5)"
   ]
  },
  {
   "cell_type": "markdown",
   "metadata": {},
   "source": [
    "# Subsetting Data where DefaultPayment = 1 (i.e. Default)"
   ]
  },
  {
   "cell_type": "code",
   "execution_count": 227,
   "metadata": {},
   "outputs": [],
   "source": [
    "filt1 = (credit['DefaultPayment'] == 1)"
   ]
  },
  {
   "cell_type": "code",
   "execution_count": 228,
   "metadata": {},
   "outputs": [
    {
     "data": {
      "text/html": [
       "<div>\n",
       "<style scoped>\n",
       "    .dataframe tbody tr th:only-of-type {\n",
       "        vertical-align: middle;\n",
       "    }\n",
       "\n",
       "    .dataframe tbody tr th {\n",
       "        vertical-align: top;\n",
       "    }\n",
       "\n",
       "    .dataframe thead th {\n",
       "        text-align: right;\n",
       "    }\n",
       "</style>\n",
       "<table border=\"1\" class=\"dataframe\">\n",
       "  <thead>\n",
       "    <tr style=\"text-align: right;\">\n",
       "      <th></th>\n",
       "      <th>Id</th>\n",
       "      <th>TotalLoan</th>\n",
       "      <th>Gender</th>\n",
       "      <th>Education</th>\n",
       "      <th>MaritalStatus</th>\n",
       "      <th>Age</th>\n",
       "      <th>HstPaySep15</th>\n",
       "      <th>HstPayAug15</th>\n",
       "      <th>HstPayJul15</th>\n",
       "      <th>HstPayJun15</th>\n",
       "      <th>...</th>\n",
       "      <th>BillJun15</th>\n",
       "      <th>BillMay15</th>\n",
       "      <th>BillApr15</th>\n",
       "      <th>PaySep15</th>\n",
       "      <th>PayAug15</th>\n",
       "      <th>PayJul15</th>\n",
       "      <th>PayJun15</th>\n",
       "      <th>PayMay15</th>\n",
       "      <th>PayApr15</th>\n",
       "      <th>DefaultPayment</th>\n",
       "    </tr>\n",
       "  </thead>\n",
       "  <tbody>\n",
       "    <tr>\n",
       "      <th>0</th>\n",
       "      <td>1</td>\n",
       "      <td>20000</td>\n",
       "      <td>2</td>\n",
       "      <td>2</td>\n",
       "      <td>1</td>\n",
       "      <td>24</td>\n",
       "      <td>2</td>\n",
       "      <td>2</td>\n",
       "      <td>-1</td>\n",
       "      <td>-1</td>\n",
       "      <td>...</td>\n",
       "      <td>0</td>\n",
       "      <td>0</td>\n",
       "      <td>0</td>\n",
       "      <td>0</td>\n",
       "      <td>689</td>\n",
       "      <td>0</td>\n",
       "      <td>0</td>\n",
       "      <td>0</td>\n",
       "      <td>0</td>\n",
       "      <td>1</td>\n",
       "    </tr>\n",
       "    <tr>\n",
       "      <th>1</th>\n",
       "      <td>2</td>\n",
       "      <td>120000</td>\n",
       "      <td>2</td>\n",
       "      <td>2</td>\n",
       "      <td>2</td>\n",
       "      <td>26</td>\n",
       "      <td>-1</td>\n",
       "      <td>2</td>\n",
       "      <td>0</td>\n",
       "      <td>0</td>\n",
       "      <td>...</td>\n",
       "      <td>3272</td>\n",
       "      <td>3455</td>\n",
       "      <td>3261</td>\n",
       "      <td>0</td>\n",
       "      <td>1000</td>\n",
       "      <td>1000</td>\n",
       "      <td>1000</td>\n",
       "      <td>0</td>\n",
       "      <td>2000</td>\n",
       "      <td>1</td>\n",
       "    </tr>\n",
       "    <tr>\n",
       "      <th>13</th>\n",
       "      <td>14</td>\n",
       "      <td>70000</td>\n",
       "      <td>1</td>\n",
       "      <td>2</td>\n",
       "      <td>2</td>\n",
       "      <td>30</td>\n",
       "      <td>1</td>\n",
       "      <td>2</td>\n",
       "      <td>2</td>\n",
       "      <td>0</td>\n",
       "      <td>...</td>\n",
       "      <td>66782</td>\n",
       "      <td>36137</td>\n",
       "      <td>36894</td>\n",
       "      <td>3200</td>\n",
       "      <td>0</td>\n",
       "      <td>3000</td>\n",
       "      <td>3000</td>\n",
       "      <td>1500</td>\n",
       "      <td>0</td>\n",
       "      <td>1</td>\n",
       "    </tr>\n",
       "    <tr>\n",
       "      <th>16</th>\n",
       "      <td>17</td>\n",
       "      <td>20000</td>\n",
       "      <td>1</td>\n",
       "      <td>1</td>\n",
       "      <td>2</td>\n",
       "      <td>24</td>\n",
       "      <td>0</td>\n",
       "      <td>0</td>\n",
       "      <td>2</td>\n",
       "      <td>2</td>\n",
       "      <td>...</td>\n",
       "      <td>18338</td>\n",
       "      <td>17905</td>\n",
       "      <td>19104</td>\n",
       "      <td>3200</td>\n",
       "      <td>0</td>\n",
       "      <td>1500</td>\n",
       "      <td>0</td>\n",
       "      <td>1650</td>\n",
       "      <td>0</td>\n",
       "      <td>1</td>\n",
       "    </tr>\n",
       "    <tr>\n",
       "      <th>21</th>\n",
       "      <td>22</td>\n",
       "      <td>120000</td>\n",
       "      <td>2</td>\n",
       "      <td>2</td>\n",
       "      <td>1</td>\n",
       "      <td>39</td>\n",
       "      <td>-1</td>\n",
       "      <td>-1</td>\n",
       "      <td>-1</td>\n",
       "      <td>-1</td>\n",
       "      <td>...</td>\n",
       "      <td>0</td>\n",
       "      <td>632</td>\n",
       "      <td>316</td>\n",
       "      <td>316</td>\n",
       "      <td>316</td>\n",
       "      <td>0</td>\n",
       "      <td>632</td>\n",
       "      <td>316</td>\n",
       "      <td>0</td>\n",
       "      <td>1</td>\n",
       "    </tr>\n",
       "    <tr>\n",
       "      <th>...</th>\n",
       "      <td>...</td>\n",
       "      <td>...</td>\n",
       "      <td>...</td>\n",
       "      <td>...</td>\n",
       "      <td>...</td>\n",
       "      <td>...</td>\n",
       "      <td>...</td>\n",
       "      <td>...</td>\n",
       "      <td>...</td>\n",
       "      <td>...</td>\n",
       "      <td>...</td>\n",
       "      <td>...</td>\n",
       "      <td>...</td>\n",
       "      <td>...</td>\n",
       "      <td>...</td>\n",
       "      <td>...</td>\n",
       "      <td>...</td>\n",
       "      <td>...</td>\n",
       "      <td>...</td>\n",
       "      <td>...</td>\n",
       "      <td>...</td>\n",
       "    </tr>\n",
       "    <tr>\n",
       "      <th>29991</th>\n",
       "      <td>29992</td>\n",
       "      <td>210000</td>\n",
       "      <td>1</td>\n",
       "      <td>2</td>\n",
       "      <td>1</td>\n",
       "      <td>34</td>\n",
       "      <td>3</td>\n",
       "      <td>2</td>\n",
       "      <td>2</td>\n",
       "      <td>2</td>\n",
       "      <td>...</td>\n",
       "      <td>2500</td>\n",
       "      <td>2500</td>\n",
       "      <td>2500</td>\n",
       "      <td>0</td>\n",
       "      <td>0</td>\n",
       "      <td>0</td>\n",
       "      <td>0</td>\n",
       "      <td>0</td>\n",
       "      <td>0</td>\n",
       "      <td>1</td>\n",
       "    </tr>\n",
       "    <tr>\n",
       "      <th>29994</th>\n",
       "      <td>29995</td>\n",
       "      <td>80000</td>\n",
       "      <td>1</td>\n",
       "      <td>2</td>\n",
       "      <td>2</td>\n",
       "      <td>34</td>\n",
       "      <td>2</td>\n",
       "      <td>2</td>\n",
       "      <td>2</td>\n",
       "      <td>2</td>\n",
       "      <td>...</td>\n",
       "      <td>77519</td>\n",
       "      <td>82607</td>\n",
       "      <td>81158</td>\n",
       "      <td>7000</td>\n",
       "      <td>3500</td>\n",
       "      <td>0</td>\n",
       "      <td>7000</td>\n",
       "      <td>0</td>\n",
       "      <td>4000</td>\n",
       "      <td>1</td>\n",
       "    </tr>\n",
       "    <tr>\n",
       "      <th>29997</th>\n",
       "      <td>29998</td>\n",
       "      <td>30000</td>\n",
       "      <td>1</td>\n",
       "      <td>2</td>\n",
       "      <td>2</td>\n",
       "      <td>37</td>\n",
       "      <td>4</td>\n",
       "      <td>3</td>\n",
       "      <td>2</td>\n",
       "      <td>-1</td>\n",
       "      <td>...</td>\n",
       "      <td>20878</td>\n",
       "      <td>20582</td>\n",
       "      <td>19357</td>\n",
       "      <td>0</td>\n",
       "      <td>0</td>\n",
       "      <td>22000</td>\n",
       "      <td>4200</td>\n",
       "      <td>2000</td>\n",
       "      <td>3100</td>\n",
       "      <td>1</td>\n",
       "    </tr>\n",
       "    <tr>\n",
       "      <th>29998</th>\n",
       "      <td>29999</td>\n",
       "      <td>80000</td>\n",
       "      <td>1</td>\n",
       "      <td>3</td>\n",
       "      <td>1</td>\n",
       "      <td>41</td>\n",
       "      <td>1</td>\n",
       "      <td>-1</td>\n",
       "      <td>0</td>\n",
       "      <td>0</td>\n",
       "      <td>...</td>\n",
       "      <td>52774</td>\n",
       "      <td>11855</td>\n",
       "      <td>48944</td>\n",
       "      <td>85900</td>\n",
       "      <td>3409</td>\n",
       "      <td>1178</td>\n",
       "      <td>1926</td>\n",
       "      <td>52964</td>\n",
       "      <td>1804</td>\n",
       "      <td>1</td>\n",
       "    </tr>\n",
       "    <tr>\n",
       "      <th>29999</th>\n",
       "      <td>30000</td>\n",
       "      <td>50000</td>\n",
       "      <td>1</td>\n",
       "      <td>2</td>\n",
       "      <td>1</td>\n",
       "      <td>46</td>\n",
       "      <td>0</td>\n",
       "      <td>0</td>\n",
       "      <td>0</td>\n",
       "      <td>0</td>\n",
       "      <td>...</td>\n",
       "      <td>36535</td>\n",
       "      <td>32428</td>\n",
       "      <td>15313</td>\n",
       "      <td>2078</td>\n",
       "      <td>1800</td>\n",
       "      <td>1430</td>\n",
       "      <td>1000</td>\n",
       "      <td>1000</td>\n",
       "      <td>1000</td>\n",
       "      <td>1</td>\n",
       "    </tr>\n",
       "  </tbody>\n",
       "</table>\n",
       "<p>6636 rows × 25 columns</p>\n",
       "</div>"
      ],
      "text/plain": [
       "          Id  TotalLoan  Gender  Education  MaritalStatus  Age  HstPaySep15  HstPayAug15  \\\n",
       "0          1      20000       2          2              1   24            2            2   \n",
       "1          2     120000       2          2              2   26           -1            2   \n",
       "13        14      70000       1          2              2   30            1            2   \n",
       "16        17      20000       1          1              2   24            0            0   \n",
       "21        22     120000       2          2              1   39           -1           -1   \n",
       "...      ...        ...     ...        ...            ...  ...          ...          ...   \n",
       "29991  29992     210000       1          2              1   34            3            2   \n",
       "29994  29995      80000       1          2              2   34            2            2   \n",
       "29997  29998      30000       1          2              2   37            4            3   \n",
       "29998  29999      80000       1          3              1   41            1           -1   \n",
       "29999  30000      50000       1          2              1   46            0            0   \n",
       "\n",
       "       HstPayJul15  HstPayJun15  ...  BillJun15  BillMay15  BillApr15  PaySep15  PayAug15  \\\n",
       "0               -1           -1  ...          0          0          0         0       689   \n",
       "1                0            0  ...       3272       3455       3261         0      1000   \n",
       "13               2            0  ...      66782      36137      36894      3200         0   \n",
       "16               2            2  ...      18338      17905      19104      3200         0   \n",
       "21              -1           -1  ...          0        632        316       316       316   \n",
       "...            ...          ...  ...        ...        ...        ...       ...       ...   \n",
       "29991            2            2  ...       2500       2500       2500         0         0   \n",
       "29994            2            2  ...      77519      82607      81158      7000      3500   \n",
       "29997            2           -1  ...      20878      20582      19357         0         0   \n",
       "29998            0            0  ...      52774      11855      48944     85900      3409   \n",
       "29999            0            0  ...      36535      32428      15313      2078      1800   \n",
       "\n",
       "       PayJul15  PayJun15  PayMay15  PayApr15  DefaultPayment  \n",
       "0             0         0         0         0               1  \n",
       "1          1000      1000         0      2000               1  \n",
       "13         3000      3000      1500         0               1  \n",
       "16         1500         0      1650         0               1  \n",
       "21            0       632       316         0               1  \n",
       "...         ...       ...       ...       ...             ...  \n",
       "29991         0         0         0         0               1  \n",
       "29994         0      7000         0      4000               1  \n",
       "29997     22000      4200      2000      3100               1  \n",
       "29998      1178      1926     52964      1804               1  \n",
       "29999      1430      1000      1000      1000               1  \n",
       "\n",
       "[6636 rows x 25 columns]"
      ]
     },
     "execution_count": 228,
     "metadata": {},
     "output_type": "execute_result"
    }
   ],
   "source": [
    "credit[filt1] #data frame is now filtered to defaulted persons "
   ]
  },
  {
   "cell_type": "code",
   "execution_count": 229,
   "metadata": {},
   "outputs": [
    {
     "data": {
      "text/html": [
       "<div>\n",
       "<style scoped>\n",
       "    .dataframe tbody tr th:only-of-type {\n",
       "        vertical-align: middle;\n",
       "    }\n",
       "\n",
       "    .dataframe tbody tr th {\n",
       "        vertical-align: top;\n",
       "    }\n",
       "\n",
       "    .dataframe thead th {\n",
       "        text-align: right;\n",
       "    }\n",
       "</style>\n",
       "<table border=\"1\" class=\"dataframe\">\n",
       "  <thead>\n",
       "    <tr style=\"text-align: right;\">\n",
       "      <th></th>\n",
       "      <th>Id</th>\n",
       "      <th>TotalLoan</th>\n",
       "      <th>Gender</th>\n",
       "      <th>Education</th>\n",
       "      <th>MaritalStatus</th>\n",
       "      <th>Age</th>\n",
       "      <th>HstPaySep15</th>\n",
       "      <th>HstPayAug15</th>\n",
       "      <th>HstPayJul15</th>\n",
       "      <th>HstPayJun15</th>\n",
       "      <th>...</th>\n",
       "      <th>BillJun15</th>\n",
       "      <th>BillMay15</th>\n",
       "      <th>BillApr15</th>\n",
       "      <th>PaySep15</th>\n",
       "      <th>PayAug15</th>\n",
       "      <th>PayJul15</th>\n",
       "      <th>PayJun15</th>\n",
       "      <th>PayMay15</th>\n",
       "      <th>PayApr15</th>\n",
       "      <th>DefaultPayment</th>\n",
       "    </tr>\n",
       "  </thead>\n",
       "  <tbody>\n",
       "    <tr>\n",
       "      <th>0</th>\n",
       "      <td>1</td>\n",
       "      <td>20000</td>\n",
       "      <td>2</td>\n",
       "      <td>2</td>\n",
       "      <td>1</td>\n",
       "      <td>24</td>\n",
       "      <td>2</td>\n",
       "      <td>2</td>\n",
       "      <td>-1</td>\n",
       "      <td>-1</td>\n",
       "      <td>...</td>\n",
       "      <td>0</td>\n",
       "      <td>0</td>\n",
       "      <td>0</td>\n",
       "      <td>0</td>\n",
       "      <td>689</td>\n",
       "      <td>0</td>\n",
       "      <td>0</td>\n",
       "      <td>0</td>\n",
       "      <td>0</td>\n",
       "      <td>1</td>\n",
       "    </tr>\n",
       "    <tr>\n",
       "      <th>1</th>\n",
       "      <td>2</td>\n",
       "      <td>120000</td>\n",
       "      <td>2</td>\n",
       "      <td>2</td>\n",
       "      <td>2</td>\n",
       "      <td>26</td>\n",
       "      <td>-1</td>\n",
       "      <td>2</td>\n",
       "      <td>0</td>\n",
       "      <td>0</td>\n",
       "      <td>...</td>\n",
       "      <td>3272</td>\n",
       "      <td>3455</td>\n",
       "      <td>3261</td>\n",
       "      <td>0</td>\n",
       "      <td>1000</td>\n",
       "      <td>1000</td>\n",
       "      <td>1000</td>\n",
       "      <td>0</td>\n",
       "      <td>2000</td>\n",
       "      <td>1</td>\n",
       "    </tr>\n",
       "    <tr>\n",
       "      <th>13</th>\n",
       "      <td>14</td>\n",
       "      <td>70000</td>\n",
       "      <td>1</td>\n",
       "      <td>2</td>\n",
       "      <td>2</td>\n",
       "      <td>30</td>\n",
       "      <td>1</td>\n",
       "      <td>2</td>\n",
       "      <td>2</td>\n",
       "      <td>0</td>\n",
       "      <td>...</td>\n",
       "      <td>66782</td>\n",
       "      <td>36137</td>\n",
       "      <td>36894</td>\n",
       "      <td>3200</td>\n",
       "      <td>0</td>\n",
       "      <td>3000</td>\n",
       "      <td>3000</td>\n",
       "      <td>1500</td>\n",
       "      <td>0</td>\n",
       "      <td>1</td>\n",
       "    </tr>\n",
       "    <tr>\n",
       "      <th>16</th>\n",
       "      <td>17</td>\n",
       "      <td>20000</td>\n",
       "      <td>1</td>\n",
       "      <td>1</td>\n",
       "      <td>2</td>\n",
       "      <td>24</td>\n",
       "      <td>0</td>\n",
       "      <td>0</td>\n",
       "      <td>2</td>\n",
       "      <td>2</td>\n",
       "      <td>...</td>\n",
       "      <td>18338</td>\n",
       "      <td>17905</td>\n",
       "      <td>19104</td>\n",
       "      <td>3200</td>\n",
       "      <td>0</td>\n",
       "      <td>1500</td>\n",
       "      <td>0</td>\n",
       "      <td>1650</td>\n",
       "      <td>0</td>\n",
       "      <td>1</td>\n",
       "    </tr>\n",
       "    <tr>\n",
       "      <th>21</th>\n",
       "      <td>22</td>\n",
       "      <td>120000</td>\n",
       "      <td>2</td>\n",
       "      <td>2</td>\n",
       "      <td>1</td>\n",
       "      <td>39</td>\n",
       "      <td>-1</td>\n",
       "      <td>-1</td>\n",
       "      <td>-1</td>\n",
       "      <td>-1</td>\n",
       "      <td>...</td>\n",
       "      <td>0</td>\n",
       "      <td>632</td>\n",
       "      <td>316</td>\n",
       "      <td>316</td>\n",
       "      <td>316</td>\n",
       "      <td>0</td>\n",
       "      <td>632</td>\n",
       "      <td>316</td>\n",
       "      <td>0</td>\n",
       "      <td>1</td>\n",
       "    </tr>\n",
       "    <tr>\n",
       "      <th>...</th>\n",
       "      <td>...</td>\n",
       "      <td>...</td>\n",
       "      <td>...</td>\n",
       "      <td>...</td>\n",
       "      <td>...</td>\n",
       "      <td>...</td>\n",
       "      <td>...</td>\n",
       "      <td>...</td>\n",
       "      <td>...</td>\n",
       "      <td>...</td>\n",
       "      <td>...</td>\n",
       "      <td>...</td>\n",
       "      <td>...</td>\n",
       "      <td>...</td>\n",
       "      <td>...</td>\n",
       "      <td>...</td>\n",
       "      <td>...</td>\n",
       "      <td>...</td>\n",
       "      <td>...</td>\n",
       "      <td>...</td>\n",
       "      <td>...</td>\n",
       "    </tr>\n",
       "    <tr>\n",
       "      <th>29991</th>\n",
       "      <td>29992</td>\n",
       "      <td>210000</td>\n",
       "      <td>1</td>\n",
       "      <td>2</td>\n",
       "      <td>1</td>\n",
       "      <td>34</td>\n",
       "      <td>3</td>\n",
       "      <td>2</td>\n",
       "      <td>2</td>\n",
       "      <td>2</td>\n",
       "      <td>...</td>\n",
       "      <td>2500</td>\n",
       "      <td>2500</td>\n",
       "      <td>2500</td>\n",
       "      <td>0</td>\n",
       "      <td>0</td>\n",
       "      <td>0</td>\n",
       "      <td>0</td>\n",
       "      <td>0</td>\n",
       "      <td>0</td>\n",
       "      <td>1</td>\n",
       "    </tr>\n",
       "    <tr>\n",
       "      <th>29994</th>\n",
       "      <td>29995</td>\n",
       "      <td>80000</td>\n",
       "      <td>1</td>\n",
       "      <td>2</td>\n",
       "      <td>2</td>\n",
       "      <td>34</td>\n",
       "      <td>2</td>\n",
       "      <td>2</td>\n",
       "      <td>2</td>\n",
       "      <td>2</td>\n",
       "      <td>...</td>\n",
       "      <td>77519</td>\n",
       "      <td>82607</td>\n",
       "      <td>81158</td>\n",
       "      <td>7000</td>\n",
       "      <td>3500</td>\n",
       "      <td>0</td>\n",
       "      <td>7000</td>\n",
       "      <td>0</td>\n",
       "      <td>4000</td>\n",
       "      <td>1</td>\n",
       "    </tr>\n",
       "    <tr>\n",
       "      <th>29997</th>\n",
       "      <td>29998</td>\n",
       "      <td>30000</td>\n",
       "      <td>1</td>\n",
       "      <td>2</td>\n",
       "      <td>2</td>\n",
       "      <td>37</td>\n",
       "      <td>4</td>\n",
       "      <td>3</td>\n",
       "      <td>2</td>\n",
       "      <td>-1</td>\n",
       "      <td>...</td>\n",
       "      <td>20878</td>\n",
       "      <td>20582</td>\n",
       "      <td>19357</td>\n",
       "      <td>0</td>\n",
       "      <td>0</td>\n",
       "      <td>22000</td>\n",
       "      <td>4200</td>\n",
       "      <td>2000</td>\n",
       "      <td>3100</td>\n",
       "      <td>1</td>\n",
       "    </tr>\n",
       "    <tr>\n",
       "      <th>29998</th>\n",
       "      <td>29999</td>\n",
       "      <td>80000</td>\n",
       "      <td>1</td>\n",
       "      <td>3</td>\n",
       "      <td>1</td>\n",
       "      <td>41</td>\n",
       "      <td>1</td>\n",
       "      <td>-1</td>\n",
       "      <td>0</td>\n",
       "      <td>0</td>\n",
       "      <td>...</td>\n",
       "      <td>52774</td>\n",
       "      <td>11855</td>\n",
       "      <td>48944</td>\n",
       "      <td>85900</td>\n",
       "      <td>3409</td>\n",
       "      <td>1178</td>\n",
       "      <td>1926</td>\n",
       "      <td>52964</td>\n",
       "      <td>1804</td>\n",
       "      <td>1</td>\n",
       "    </tr>\n",
       "    <tr>\n",
       "      <th>29999</th>\n",
       "      <td>30000</td>\n",
       "      <td>50000</td>\n",
       "      <td>1</td>\n",
       "      <td>2</td>\n",
       "      <td>1</td>\n",
       "      <td>46</td>\n",
       "      <td>0</td>\n",
       "      <td>0</td>\n",
       "      <td>0</td>\n",
       "      <td>0</td>\n",
       "      <td>...</td>\n",
       "      <td>36535</td>\n",
       "      <td>32428</td>\n",
       "      <td>15313</td>\n",
       "      <td>2078</td>\n",
       "      <td>1800</td>\n",
       "      <td>1430</td>\n",
       "      <td>1000</td>\n",
       "      <td>1000</td>\n",
       "      <td>1000</td>\n",
       "      <td>1</td>\n",
       "    </tr>\n",
       "  </tbody>\n",
       "</table>\n",
       "<p>6636 rows × 25 columns</p>\n",
       "</div>"
      ],
      "text/plain": [
       "          Id  TotalLoan  Gender  Education  MaritalStatus  Age  HstPaySep15  HstPayAug15  \\\n",
       "0          1      20000       2          2              1   24            2            2   \n",
       "1          2     120000       2          2              2   26           -1            2   \n",
       "13        14      70000       1          2              2   30            1            2   \n",
       "16        17      20000       1          1              2   24            0            0   \n",
       "21        22     120000       2          2              1   39           -1           -1   \n",
       "...      ...        ...     ...        ...            ...  ...          ...          ...   \n",
       "29991  29992     210000       1          2              1   34            3            2   \n",
       "29994  29995      80000       1          2              2   34            2            2   \n",
       "29997  29998      30000       1          2              2   37            4            3   \n",
       "29998  29999      80000       1          3              1   41            1           -1   \n",
       "29999  30000      50000       1          2              1   46            0            0   \n",
       "\n",
       "       HstPayJul15  HstPayJun15  ...  BillJun15  BillMay15  BillApr15  PaySep15  PayAug15  \\\n",
       "0               -1           -1  ...          0          0          0         0       689   \n",
       "1                0            0  ...       3272       3455       3261         0      1000   \n",
       "13               2            0  ...      66782      36137      36894      3200         0   \n",
       "16               2            2  ...      18338      17905      19104      3200         0   \n",
       "21              -1           -1  ...          0        632        316       316       316   \n",
       "...            ...          ...  ...        ...        ...        ...       ...       ...   \n",
       "29991            2            2  ...       2500       2500       2500         0         0   \n",
       "29994            2            2  ...      77519      82607      81158      7000      3500   \n",
       "29997            2           -1  ...      20878      20582      19357         0         0   \n",
       "29998            0            0  ...      52774      11855      48944     85900      3409   \n",
       "29999            0            0  ...      36535      32428      15313      2078      1800   \n",
       "\n",
       "       PayJul15  PayJun15  PayMay15  PayApr15  DefaultPayment  \n",
       "0             0         0         0         0               1  \n",
       "1          1000      1000         0      2000               1  \n",
       "13         3000      3000      1500         0               1  \n",
       "16         1500         0      1650         0               1  \n",
       "21            0       632       316         0               1  \n",
       "...         ...       ...       ...       ...             ...  \n",
       "29991         0         0         0         0               1  \n",
       "29994         0      7000         0      4000               1  \n",
       "29997     22000      4200      2000      3100               1  \n",
       "29998      1178      1926     52964      1804               1  \n",
       "29999      1430      1000      1000      1000               1  \n",
       "\n",
       "[6636 rows x 25 columns]"
      ]
     },
     "execution_count": 229,
     "metadata": {},
     "output_type": "execute_result"
    }
   ],
   "source": [
    "#creating a new dataframe \n",
    "credit1 = pd.DataFrame(credit[filt1])\n",
    "credit1"
   ]
  },
  {
   "cell_type": "code",
   "execution_count": 230,
   "metadata": {},
   "outputs": [
    {
     "data": {
      "text/plain": [
       "Gender\n",
       "1    2873\n",
       "2    3763\n",
       "Name: Gender, dtype: int64"
      ]
     },
     "execution_count": 230,
     "metadata": {},
     "output_type": "execute_result"
    }
   ],
   "source": [
    "# group description by gender \n",
    "# (1 = male; 2 = female)\n",
    "credit1.groupby('Gender')['Gender'].count()"
   ]
  },
  {
   "cell_type": "code",
   "execution_count": 231,
   "metadata": {},
   "outputs": [
    {
     "data": {
      "text/plain": [
       "<seaborn.axisgrid.FacetGrid at 0x1c777f06c88>"
      ]
     },
     "execution_count": 231,
     "metadata": {},
     "output_type": "execute_result"
    },
    {
     "data": {
      "image/png": "[encoded data removed]",
      "text/plain": [
       "<Figure size 306x360 with 1 Axes>"
      ]
     },
     "metadata": {
      "needs_background": "light"
     },
     "output_type": "display_data"
    }
   ],
   "source": [
    "fg = sns.catplot('Gender', data=credit1, kind='count', aspect=.85)\n",
    "fg.set_xlabels('Gender')\n",
    "fg.set_ylabels('Gender Count')"
   ]
  },
  {
   "cell_type": "code",
   "execution_count": 232,
   "metadata": {},
   "outputs": [
    {
     "data": {
      "text/plain": [
       "Education\n",
       "1    2036\n",
       "2    3330\n",
       "3    1237\n",
       "4       7\n",
       "5      18\n",
       "6       8\n",
       "Name: Education, dtype: int64"
      ]
     },
     "execution_count": 232,
     "metadata": {},
     "output_type": "execute_result"
    }
   ],
   "source": [
    "#group by education \n",
    "credit1.groupby('Education')['Education'].count()"
   ]
  },
  {
   "cell_type": "code",
   "execution_count": 233,
   "metadata": {},
   "outputs": [
    {
     "data": {
      "text/plain": [
       "<seaborn.axisgrid.FacetGrid at 0x1c77aec3fc8>"
      ]
     },
     "execution_count": 233,
     "metadata": {},
     "output_type": "execute_result"
    },
    {
     "data": {
      "image/png": "[encoded data removed]",
      "text/plain": [
       "<Figure size 306x360 with 1 Axes>"
      ]
     },
     "metadata": {
      "needs_background": "light"
     },
     "output_type": "display_data"
    }
   ],
   "source": [
    "fg = sns.catplot('Education', data=credit1, kind='count', aspect=.85)\n",
    "fg.set_xlabels('Education')\n",
    "fg.set_ylabels('Education Level Count')"
   ]
  },
  {
   "cell_type": "code",
   "execution_count": 234,
   "metadata": {},
   "outputs": [
    {
     "data": {
      "text/plain": [
       "MaritalStatus\n",
       "0       5\n",
       "1    3206\n",
       "2    3341\n",
       "3      84\n",
       "Name: MaritalStatus, dtype: int64"
      ]
     },
     "execution_count": 234,
     "metadata": {},
     "output_type": "execute_result"
    }
   ],
   "source": [
    "#Group by Marital Status\n",
    "credit1.groupby('MaritalStatus')['MaritalStatus'].count()"
   ]
  },
  {
   "cell_type": "code",
   "execution_count": 235,
   "metadata": {},
   "outputs": [
    {
     "data": {
      "text/plain": [
       "<seaborn.axisgrid.FacetGrid at 0x1c77af5ba48>"
      ]
     },
     "execution_count": 235,
     "metadata": {},
     "output_type": "execute_result"
    },
    {
     "data": {
      "image/png": "[encoded data removed]",
      "text/plain": [
       "<Figure size 306x360 with 1 Axes>"
      ]
     },
     "metadata": {
      "needs_background": "light"
     },
     "output_type": "display_data"
    }
   ],
   "source": [
    "fg = sns.catplot('MaritalStatus', data=credit1, kind='count', aspect=.85)\n",
    "fg.set_xlabels('MaritalStatus')\n",
    "fg.set_ylabels('Marital Status Count')"
   ]
  },
  {
   "cell_type": "code",
   "execution_count": 236,
   "metadata": {},
   "outputs": [
    {
     "data": {
      "text/plain": [
       "Gender  Education\n",
       "1       1             906\n",
       "        2            1408\n",
       "        3             545\n",
       "        4               4\n",
       "        5               6\n",
       "        6               4\n",
       "2       1            1130\n",
       "        2            1922\n",
       "        3             692\n",
       "        4               3\n",
       "        5              12\n",
       "        6               4\n",
       "Name: Gender, dtype: int64"
      ]
     },
     "execution_count": 236,
     "metadata": {},
     "output_type": "execute_result"
    }
   ],
   "source": [
    "# Educational distribution by gender\n",
    "credit1.groupby(['Gender','Education'])['Gender'].count()"
   ]
  },
  {
   "cell_type": "code",
   "execution_count": 237,
   "metadata": {},
   "outputs": [
    {
     "data": {
      "text/plain": [
       "<seaborn.axisgrid.FacetGrid at 0x1c77af5b048>"
      ]
     },
     "execution_count": 237,
     "metadata": {},
     "output_type": "execute_result"
    },
    {
     "data": {
      "image/png": "[encoded data removed]",
      "text/plain": [
       "<Figure size 597.75x360 with 1 Axes>"
      ]
     },
     "metadata": {
      "needs_background": "light"
     },
     "output_type": "display_data"
    }
   ],
   "source": [
    "g = sns.catplot('Gender', data=credit1, hue='Education', kind='count', aspect=1.5)\n",
    "g.set_xlabels('Education')\n",
    "g.set_ylabels('Gender Count By Education Level')"
   ]
  },
  {
   "cell_type": "code",
   "execution_count": 238,
   "metadata": {},
   "outputs": [
    {
     "data": {
      "text/plain": [
       "Gender  MaritalStatus\n",
       "1       0                   2\n",
       "        1                1346\n",
       "        2                1485\n",
       "        3                  40\n",
       "2       0                   3\n",
       "        1                1860\n",
       "        2                1856\n",
       "        3                  44\n",
       "Name: Gender, dtype: int64"
      ]
     },
     "execution_count": 238,
     "metadata": {},
     "output_type": "execute_result"
    }
   ],
   "source": [
    "# Marital Status distribution by Gender\n",
    "credit1.groupby(['Gender','MaritalStatus'])['Gender'].count()"
   ]
  },
  {
   "cell_type": "code",
   "execution_count": 239,
   "metadata": {},
   "outputs": [
    {
     "data": {
      "text/plain": [
       "<seaborn.axisgrid.FacetGrid at 0x1c77bd26c08>"
      ]
     },
     "execution_count": 239,
     "metadata": {},
     "output_type": "execute_result"
    },
    {
     "data": {
      "image/png": "[encoded data removed]",
      "text/plain": [
       "<Figure size 614.375x360 with 1 Axes>"
      ]
     },
     "metadata": {
      "needs_background": "light"
     },
     "output_type": "display_data"
    }
   ],
   "source": [
    "g = sns.catplot('Gender', data=credit1, hue='MaritalStatus', kind='count', aspect=1.5)\n",
    "g.set_xlabels('Gender')\n",
    "g.set_ylabels('Gender Count By Marital Status')"
   ]
  },
  {
   "cell_type": "code",
   "execution_count": 240,
   "metadata": {},
   "outputs": [
    {
     "ename": "TypeError",
     "evalue": "float() argument must be a string or a number, not 'AxesSubplot'",
     "output_type": "error",
     "traceback": [
      "\u001b[1;31m---------------------------------------------------------------------------\u001b[0m",
      "\u001b[1;31mTypeError\u001b[0m                                 Traceback (most recent call last)",
      "\u001b[1;32m<ipython-input-240-6431eae52d2c>\u001b[0m in \u001b[0;36m<module>\u001b[1;34m\u001b[0m\n\u001b[0;32m      2\u001b[0m \u001b[0mcredit1pc\u001b[0m \u001b[1;33m=\u001b[0m \u001b[0mcredit1\u001b[0m\u001b[1;33m.\u001b[0m\u001b[0miloc\u001b[0m\u001b[1;33m[\u001b[0m\u001b[1;33m:\u001b[0m\u001b[1;33m,\u001b[0m\u001b[1;36m1\u001b[0m\u001b[1;33m:\u001b[0m\u001b[1;33m]\u001b[0m\u001b[1;33m\u001b[0m\u001b[1;33m\u001b[0m\u001b[0m\n\u001b[0;32m      3\u001b[0m \u001b[0mplt\u001b[0m\u001b[1;33m.\u001b[0m\u001b[0mfigure\u001b[0m\u001b[1;33m(\u001b[0m\u001b[0mfigsize\u001b[0m\u001b[1;33m=\u001b[0m\u001b[1;33m(\u001b[0m\u001b[1;36m9\u001b[0m\u001b[1;33m,\u001b[0m \u001b[1;36m8\u001b[0m\u001b[1;33m)\u001b[0m\u001b[1;33m)\u001b[0m\u001b[1;33m\u001b[0m\u001b[1;33m\u001b[0m\u001b[0m\n\u001b[1;32m----> 4\u001b[1;33m \u001b[0msns\u001b[0m\u001b[1;33m.\u001b[0m\u001b[0mdistplot\u001b[0m\u001b[1;33m(\u001b[0m\u001b[0mcredit1pc\u001b[0m\u001b[1;33m.\u001b[0m\u001b[0mhist\u001b[0m\u001b[1;33m(\u001b[0m\u001b[0mfigsize\u001b[0m\u001b[1;33m=\u001b[0m\u001b[1;33m(\u001b[0m\u001b[1;36m16\u001b[0m\u001b[1;33m,\u001b[0m \u001b[1;36m20\u001b[0m\u001b[1;33m)\u001b[0m\u001b[1;33m,\u001b[0m \u001b[0mbins\u001b[0m\u001b[1;33m=\u001b[0m\u001b[1;36m6\u001b[0m\u001b[1;33m,\u001b[0m \u001b[0mxlabelsize\u001b[0m\u001b[1;33m=\u001b[0m\u001b[1;36m10\u001b[0m\u001b[1;33m,\u001b[0m \u001b[0mylabelsize\u001b[0m\u001b[1;33m=\u001b[0m\u001b[1;36m10\u001b[0m\u001b[1;33m)\u001b[0m\u001b[1;33m)\u001b[0m\u001b[1;33m;\u001b[0m\u001b[1;33m\u001b[0m\u001b[1;33m\u001b[0m\u001b[0m\n\u001b[0m",
      "\u001b[1;32m~\\anaconda3\\lib\\site-packages\\seaborn\\distributions.py\u001b[0m in \u001b[0;36mdistplot\u001b[1;34m(a, bins, hist, kde, rug, fit, hist_kws, kde_kws, rug_kws, fit_kws, color, vertical, norm_hist, axlabel, label, ax)\u001b[0m\n\u001b[0;32m    177\u001b[0m \u001b[1;33m\u001b[0m\u001b[0m\n\u001b[0;32m    178\u001b[0m     \u001b[1;31m# Make a a 1-d float array\u001b[0m\u001b[1;33m\u001b[0m\u001b[1;33m\u001b[0m\u001b[1;33m\u001b[0m\u001b[0m\n\u001b[1;32m--> 179\u001b[1;33m     \u001b[0ma\u001b[0m \u001b[1;33m=\u001b[0m \u001b[0mnp\u001b[0m\u001b[1;33m.\u001b[0m\u001b[0masarray\u001b[0m\u001b[1;33m(\u001b[0m\u001b[0ma\u001b[0m\u001b[1;33m,\u001b[0m \u001b[0mnp\u001b[0m\u001b[1;33m.\u001b[0m\u001b[0mfloat\u001b[0m\u001b[1;33m)\u001b[0m\u001b[1;33m\u001b[0m\u001b[1;33m\u001b[0m\u001b[0m\n\u001b[0m\u001b[0;32m    180\u001b[0m     \u001b[1;32mif\u001b[0m \u001b[0ma\u001b[0m\u001b[1;33m.\u001b[0m\u001b[0mndim\u001b[0m \u001b[1;33m>\u001b[0m \u001b[1;36m1\u001b[0m\u001b[1;33m:\u001b[0m\u001b[1;33m\u001b[0m\u001b[1;33m\u001b[0m\u001b[0m\n\u001b[0;32m    181\u001b[0m         \u001b[0ma\u001b[0m \u001b[1;33m=\u001b[0m \u001b[0ma\u001b[0m\u001b[1;33m.\u001b[0m\u001b[0msqueeze\u001b[0m\u001b[1;33m(\u001b[0m\u001b[1;33m)\u001b[0m\u001b[1;33m\u001b[0m\u001b[1;33m\u001b[0m\u001b[0m\n",
      "\u001b[1;32m~\\anaconda3\\lib\\site-packages\\numpy\\core\\_asarray.py\u001b[0m in \u001b[0;36masarray\u001b[1;34m(a, dtype, order)\u001b[0m\n\u001b[0;32m     83\u001b[0m \u001b[1;33m\u001b[0m\u001b[0m\n\u001b[0;32m     84\u001b[0m     \"\"\"\n\u001b[1;32m---> 85\u001b[1;33m     \u001b[1;32mreturn\u001b[0m \u001b[0marray\u001b[0m\u001b[1;33m(\u001b[0m\u001b[0ma\u001b[0m\u001b[1;33m,\u001b[0m \u001b[0mdtype\u001b[0m\u001b[1;33m,\u001b[0m \u001b[0mcopy\u001b[0m\u001b[1;33m=\u001b[0m\u001b[1;32mFalse\u001b[0m\u001b[1;33m,\u001b[0m \u001b[0morder\u001b[0m\u001b[1;33m=\u001b[0m\u001b[0morder\u001b[0m\u001b[1;33m)\u001b[0m\u001b[1;33m\u001b[0m\u001b[1;33m\u001b[0m\u001b[0m\n\u001b[0m\u001b[0;32m     86\u001b[0m \u001b[1;33m\u001b[0m\u001b[0m\n\u001b[0;32m     87\u001b[0m \u001b[1;33m\u001b[0m\u001b[0m\n",
      "\u001b[1;31mTypeError\u001b[0m: float() argument must be a string or a number, not 'AxesSubplot'"
     ]
    },
    {
     "data": {
      "text/plain": [
       "<Figure size 648x576 with 0 Axes>"
      ]
     },
     "metadata": {},
     "output_type": "display_data"
    },
    {
     "data": {
      "image/png": "[encoded data removed]",
      "text/plain": [
       "<Figure size 1152x1440 with 25 Axes>"
      ]
     },
     "metadata": {
      "needs_background": "light"
     },
     "output_type": "display_data"
    }
   ],
   "source": [
    "# plot all columns credit1\n",
    "credit1pc = credit1.iloc[:,1:]\n",
    "plt.figure(figsize=(9, 8))\n",
    "sns.distplot(credit1pc.hist(figsize=(16, 20), bins=6, xlabelsize=10, ylabelsize=10));"
   ]
  },
  {
   "cell_type": "code",
   "execution_count": null,
   "metadata": {},
   "outputs": [],
   "source": [
    "credit1.describe()"
   ]
  },
  {
   "cell_type": "markdown",
   "metadata": {},
   "source": [
    "# Subsetting Data where DefaultPayment = 0 (i.e. Paid)\n"
   ]
  },
  {
   "cell_type": "code",
   "execution_count": null,
   "metadata": {},
   "outputs": [],
   "source": [
    "#making new data frame for non-default \n",
    "filt0 = (credit['DefaultPayment'] == 0)\n",
    "credit0 = pd.DataFrame(credit[filt0])\n",
    "credit0"
   ]
  },
  {
   "cell_type": "code",
   "execution_count": null,
   "metadata": {},
   "outputs": [],
   "source": [
    "# group description by gender \n",
    "# (1 = male; 2 = female)\n",
    "credit0.groupby('Gender')['Gender'].count()"
   ]
  },
  {
   "cell_type": "code",
   "execution_count": null,
   "metadata": {},
   "outputs": [],
   "source": [
    "fg = sns.catplot('Gender', data=credit0, kind='count', aspect=.85)\n",
    "fg.set_xlabels('Gender')\n",
    "fg.set_ylabels('Gender Count')"
   ]
  },
  {
   "cell_type": "code",
   "execution_count": null,
   "metadata": {},
   "outputs": [],
   "source": [
    "#group by education \n",
    "credit0.groupby('Education')['Education'].count()"
   ]
  },
  {
   "cell_type": "code",
   "execution_count": null,
   "metadata": {},
   "outputs": [],
   "source": [
    "fg = sns.catplot('Education', data=credit0, kind='count', aspect=.85)\n",
    "fg.set_xlabels('Education')\n",
    "fg.set_ylabels('Education Level Count')"
   ]
  },
  {
   "cell_type": "code",
   "execution_count": null,
   "metadata": {},
   "outputs": [],
   "source": [
    "#Group by Marital Status\n",
    "credit0.groupby('MaritalStatus')['MaritalStatus'].count()"
   ]
  },
  {
   "cell_type": "code",
   "execution_count": null,
   "metadata": {},
   "outputs": [],
   "source": [
    "fg = sns.catplot('MaritalStatus', data=credit0, kind='count', aspect=.85)\n",
    "fg.set_xlabels('MaritalStatus')\n",
    "fg.set_ylabels('Marital Status Count')"
   ]
  },
  {
   "cell_type": "code",
   "execution_count": null,
   "metadata": {},
   "outputs": [],
   "source": [
    "# Educational distribution by gender\n",
    "credit0.groupby(['Gender','Education'])['Gender'].count()"
   ]
  },
  {
   "cell_type": "code",
   "execution_count": null,
   "metadata": {},
   "outputs": [],
   "source": [
    "g = sns.catplot('Gender', data=credit0, hue='Education', kind='count', aspect=1.5)\n",
    "g.set_xlabels('Education')\n",
    "g.set_ylabels('Gender Count By Education Level')"
   ]
  },
  {
   "cell_type": "code",
   "execution_count": null,
   "metadata": {},
   "outputs": [],
   "source": [
    "# Marital Status distribution by Gender\n",
    "credit0.groupby(['Gender','MaritalStatus'])['Gender'].count()"
   ]
  },
  {
   "cell_type": "code",
   "execution_count": null,
   "metadata": {},
   "outputs": [],
   "source": [
    "g = sns.catplot('Gender', data=credit0, hue='MaritalStatus', kind='count', aspect=1.5)\n",
    "g.set_xlabels('Gender')\n",
    "g.set_ylabels('Gender Count By Marital Status')"
   ]
  },
  {
   "cell_type": "code",
   "execution_count": null,
   "metadata": {},
   "outputs": [],
   "source": [
    "# plot all columns credit0\n",
    "credit1pc = credit0.iloc[:,1:]\n",
    "plt.figure(figsize=(9, 8))\n",
    "sns.distplot(credit1pc.hist(figsize=(16, 20), bins=6, xlabelsize=10, ylabelsize=10));"
   ]
  },
  {
   "cell_type": "code",
   "execution_count": null,
   "metadata": {},
   "outputs": [],
   "source": [
    "credit0.describe()"
   ]
  },
  {
   "cell_type": "code",
   "execution_count": null,
   "metadata": {},
   "outputs": [],
   "source": [
    "# plot: Total loan Distribution\n",
    "print(credit['TotalLoan'].describe())\n",
    "\n",
    "plt.figure(figsize=(12, 8))\n",
    "tl_dist = sns.distplot(credit['TotalLoan'], color='g', bins=75, hist_kws={'alpha': 0.4});\n",
    "tl_dist.set_title(\"Distribution by Total Loan\")"
   ]
  },
  {
   "cell_type": "markdown",
   "metadata": {},
   "source": [
    "# Adjust Categories Values"
   ]
  },
  {
   "cell_type": "markdown",
   "metadata": {},
   "source": [
    "Education"
   ]
  },
  {
   "cell_type": "markdown",
   "metadata": {},
   "source": [
    "(1 = graduate school; 2 = university; 3 = high school; 4 = others, 5 = Not defined, 6 = Not defined)."
   ]
  },
  {
   "cell_type": "code",
   "execution_count": null,
   "metadata": {
    "scrolled": true
   },
   "outputs": [],
   "source": [
    "# pre-check values\n",
    "edu_counts = credit.groupby('Education').size()\n",
    "print(edu_counts)\n",
    "print('\\n')\n",
    "\n",
    "# replace values\n",
    "credit.Education.replace({0 : 1, 5: 4, 6: 4}, inplace=True)\n",
    "\n",
    "# post-check values\n",
    "edu_counts = credit.groupby('Education').size()\n",
    "print(edu_counts)"
   ]
  },
  {
   "cell_type": "markdown",
   "metadata": {},
   "source": [
    "Data: MaritalStatus\n",
    "\n",
    "Marital status (0 = Not defined, 1 = married; 2 = single; 3 = others)."
   ]
  },
  {
   "cell_type": "code",
   "execution_count": null,
   "metadata": {
    "scrolled": true
   },
   "outputs": [],
   "source": [
    "mstatus_counts = credit.groupby('MaritalStatus').size()\n",
    "print(mstatus_counts)\n",
    "print('\\n')\n",
    "\n",
    "# replace values\n",
    "credit.MaritalStatus.replace({0 : 3}, inplace=True)\n",
    "\n",
    "mstatus_counts = credit.groupby('MaritalStatus').size()\n",
    "print(mstatus_counts)"
   ]
  },
  {
   "cell_type": "markdown",
   "metadata": {},
   "source": [
    "Binning Age "
   ]
  },
  {
   "cell_type": "code",
   "execution_count": null,
   "metadata": {},
   "outputs": [],
   "source": [
    "credit.describe()['Age']"
   ]
  },
  {
   "cell_type": "code",
   "execution_count": null,
   "metadata": {},
   "outputs": [],
   "source": [
    "# get bins\n",
    "pd.cut(credit['Age'], bins=6)"
   ]
  },
  {
   "cell_type": "code",
   "execution_count": null,
   "metadata": {},
   "outputs": [],
   "source": [
    "# get bins parameters \n",
    "cond = [\n",
    "            (credit.Age >= 20.942) & (credit.Age < 30.667),\n",
    "            (credit.Age >= 30.667) & (credit.Age < 40.333),\n",
    "            (credit.Age >= 40.333) & (credit.Age < 50.0),\n",
    "            (credit.Age >= 50.0) & (credit.Age < 59.667),\n",
    "            (credit.Age >= 59.667) & (credit.Age < 69.333),\n",
    "            (credit.Age >= 69.333) & (credit.Age < 79.0)\n",
    "        ]\n",
    "elecc = np.array((1, 2, 3, 4, 5, 6), dtype=\"int8\")"
   ]
  },
  {
   "cell_type": "code",
   "execution_count": null,
   "metadata": {},
   "outputs": [],
   "source": [
    "# add new attribute class\n",
    "credit['AgeGroupBin'] = np.select(cond, elecc, 1)\n",
    "\n",
    "# get counts by class\n",
    "agr_counts = credit.groupby('AgeGroupBin').size()\n",
    "print(agr_counts)"
   ]
  },
  {
   "cell_type": "code",
   "execution_count": null,
   "metadata": {},
   "outputs": [],
   "source": [
    "# plot: Age Agroups\n",
    "plt.figure(figsize=(12, 8))\n",
    "tl_dist = sns.distplot(credit['AgeGroupBin'], color='g', bins=75, hist_kws={'alpha': 0.4});\n",
    "tl_dist.set_title(\"Distribution by Age Group\")"
   ]
  },
  {
   "cell_type": "code",
   "execution_count": null,
   "metadata": {},
   "outputs": [],
   "source": [
    "# check columns\n",
    "cols = credit.columns.tolist()\n",
    "cols  #Notice 2 features with Age and Age Group!!"
   ]
  },
  {
   "cell_type": "code",
   "execution_count": null,
   "metadata": {},
   "outputs": [],
   "source": [
    "cols = cols[0:5] + cols[-1:] + cols[5:-1]\n",
    "cols"
   ]
  },
  {
   "cell_type": "code",
   "execution_count": null,
   "metadata": {},
   "outputs": [],
   "source": [
    "credit = credit[cols]"
   ]
  },
  {
   "cell_type": "code",
   "execution_count": null,
   "metadata": {},
   "outputs": [],
   "source": [
    "credit.columns.tolist()"
   ]
  },
  {
   "cell_type": "code",
   "execution_count": null,
   "metadata": {},
   "outputs": [],
   "source": [
    "credit.to_csv('CreditwithBin.csv')"
   ]
  },
  {
   "cell_type": "code",
   "execution_count": null,
   "metadata": {},
   "outputs": [],
   "source": [
    "credit = credit[cols] \n",
    "credit.columns"
   ]
  },
  {
   "cell_type": "code",
   "execution_count": null,
   "metadata": {},
   "outputs": [],
   "source": [
    "credit = credit.drop(['Age'], axis=1)"
   ]
  },
  {
   "cell_type": "code",
   "execution_count": null,
   "metadata": {},
   "outputs": [],
   "source": [
    "credit.columns"
   ]
  },
  {
   "cell_type": "code",
   "execution_count": null,
   "metadata": {},
   "outputs": [],
   "source": [
    "credit.info()"
   ]
  },
  {
   "cell_type": "markdown",
   "metadata": {},
   "source": [
    "# Correlation And Collinearity"
   ]
  },
  {
   "cell_type": "code",
   "execution_count": null,
   "metadata": {},
   "outputs": [],
   "source": [
    "corrMat = credit.corr()\n",
    "print(corrMat)\n",
    "corrMat.to_csv('CorrelationMatrixPython.csv')\n"
   ]
  },
  {
   "cell_type": "code",
   "execution_count": null,
   "metadata": {
    "scrolled": true
   },
   "outputs": [],
   "source": [
    "# Correlations between attributes\n",
    "\n",
    "# Pairwise Pearson correlations\n",
    "creditpp = credit.iloc[:,:]\n",
    "corr = creditpp.set_index('Id').corr(method='pearson')\n",
    "# print(corr)\n",
    "\n",
    "sm.graphics.plot_corr(corr, xnames=list(corr.columns))\n",
    "plt.show()\n",
    "plt.savefig(\"Correlation Heatmap\",  orientation='landscape')"
   ]
  },
  {
   "cell_type": "code",
   "execution_count": null,
   "metadata": {},
   "outputs": [],
   "source": [
    "# Correlation\n",
    "credit_corr = credit.corr()['DefaultPayment'][:-1]\n",
    "golden_features_list = credit_corr[abs(credit_corr) > 0.2].sort_values(ascending=False)\n",
    "\n",
    "print(\"Below {} are the top correlated values with DefaultPayment:\\n{}\".format(len(golden_features_list), golden_features_list))"
   ]
  },
  {
   "cell_type": "code",
   "execution_count": null,
   "metadata": {
    "scrolled": true
   },
   "outputs": [],
   "source": [
    "# Collinearity Heatmap\n",
    "corr = credit.drop('DefaultPayment', axis=1).corr()\n",
    "plt.figure(figsize=(12, 10))\n",
    "sns.heatmap(corr[(corr >= 0.9) | (corr <= -0.7)],\n",
    "            cmap='viridis', vmax=1.0, vmin=-1.0, linewidths=0.1,\n",
    "            annot=True, annot_kws={\"size\": 8}, square=True);\n",
    "plt.savefig(\"Collinearity Heatmap.png\")"
   ]
  },
  {
   "cell_type": "code",
   "execution_count": null,
   "metadata": {
    "scrolled": true
   },
   "outputs": [],
   "source": [
    "creditpp1 = credit.iloc[:,1:]\n",
    "covMat = creditpp1.cov() #creditpp1 excludes ID\n",
    "print(covMat)\n",
    "covMat.to_csv('CovarianceMatrixPython.csv')"
   ]
  },
  {
   "cell_type": "markdown",
   "metadata": {},
   "source": [
    "Collinearity (correlation between features)"
   ]
  },
  {
   "cell_type": "code",
   "execution_count": null,
   "metadata": {},
   "outputs": [],
   "source": [
    "creditCollinearity = credit[['BillApr15','BillMay15','BillJun15','BillJul15','BillAug15','BillSep15']]\n",
    "creditCollinearity"
   ]
  },
  {
   "cell_type": "code",
   "execution_count": null,
   "metadata": {},
   "outputs": [],
   "source": [
    "corrCollin = creditCollinearity.corr()\n",
    "print(corrCollin)\n",
    "corrCollin.to_csv('CollinearityMatrixPython.csv')"
   ]
  },
  {
   "cell_type": "code",
   "execution_count": null,
   "metadata": {},
   "outputs": [],
   "source": [
    "#Remove High Correlated attributes\n",
    "credit = credit.drop(['BillMay15'], axis=1)\n",
    "credit = credit.drop(['BillAug15'], axis=1)\n",
    "credit = credit.drop(['BillJul15'], axis=1)"
   ]
  },
  {
   "cell_type": "code",
   "execution_count": null,
   "metadata": {},
   "outputs": [],
   "source": [
    "print('Rows and columns count:', credit.shape)\n",
    "credit.head(5)"
   ]
  },
  {
   "cell_type": "code",
   "execution_count": null,
   "metadata": {},
   "outputs": [],
   "source": [
    "#drop ID Column \n",
    "credit = credit.drop(['Id'], axis=1)"
   ]
  },
  {
   "cell_type": "code",
   "execution_count": null,
   "metadata": {},
   "outputs": [],
   "source": [
    "credit.info()"
   ]
  },
  {
   "cell_type": "code",
   "execution_count": null,
   "metadata": {},
   "outputs": [],
   "source": [
    "credit.describe()"
   ]
  },
  {
   "cell_type": "code",
   "execution_count": null,
   "metadata": {},
   "outputs": [],
   "source": []
  }
 ],
 "metadata": {
  "kernelspec": {
   "display_name": "Python 3",
   "language": "python",
   "name": "python3"
  },
  "language_info": {
   "codemirror_mode": {
    "name": "ipython",
    "version": 3
   },
   "file_extension": ".py",
   "mimetype": "text/x-python",
   "name": "python",
   "nbconvert_exporter": "python",
   "pygments_lexer": "ipython3",
   "version": "3.7.6"
  }
 },
 "nbformat": 4,
 "nbformat_minor": 4
}
