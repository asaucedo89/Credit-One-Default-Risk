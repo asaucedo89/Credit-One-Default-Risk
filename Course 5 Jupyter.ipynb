{
 "cells": [
  {
   "cell_type": "code",
   "execution_count": 1,
   "metadata": {},
   "outputs": [],
   "source": [
    "import math"
   ]
  },
  {
   "cell_type": "code",
   "execution_count": 2,
   "metadata": {},
   "outputs": [
    {
     "data": {
      "text/plain": [
       "3.141592653589793"
      ]
     },
     "execution_count": 2,
     "metadata": {},
     "output_type": "execute_result"
    }
   ],
   "source": [
    "math.pi"
   ]
  },
  {
   "cell_type": "code",
   "execution_count": 3,
   "metadata": {},
   "outputs": [
    {
     "data": {
      "text/plain": [
       "5.0"
      ]
     },
     "execution_count": 3,
     "metadata": {},
     "output_type": "execute_result"
    }
   ],
   "source": [
    "math.sqrt(25)\n",
    "\n"
   ]
  },
  {
   "cell_type": "code",
   "execution_count": 4,
   "metadata": {},
   "outputs": [],
   "source": [
    "import math as mt\n",
    "\n",
    "mt.sqrt(25)\n",
    "\n",
    "import numpy \n"
   ]
  },
  {
   "cell_type": "code",
   "execution_count": 5,
   "metadata": {},
   "outputs": [],
   "source": [
    "import scipy.stats"
   ]
  },
  {
   "cell_type": "code",
   "execution_count": 6,
   "metadata": {},
   "outputs": [],
   "source": [
    "from numpy import random\n",
    "\n",
    "\n"
   ]
  },
  {
   "cell_type": "code",
   "execution_count": 7,
   "metadata": {},
   "outputs": [],
   "source": [
    "import numpy as np"
   ]
  },
  {
   "cell_type": "code",
   "execution_count": 8,
   "metadata": {},
   "outputs": [],
   "source": [
    "# uniform random numbers in [0,1]\n",
    "dataOne = random.rand(5,5)"
   ]
  },
  {
   "cell_type": "code",
   "execution_count": 9,
   "metadata": {},
   "outputs": [],
   "source": [
    "import numpy as np "
   ]
  },
  {
   "cell_type": "code",
   "execution_count": 10,
   "metadata": {},
   "outputs": [
    {
     "data": {
      "text/plain": [
       "array([[1., 0., 0., 0., 0.],\n",
       "       [0., 1., 0., 0., 0.],\n",
       "       [0., 0., 1., 0., 0.],\n",
       "       [0., 0., 0., 1., 0.],\n",
       "       [0., 0., 0., 0., 1.]])"
      ]
     },
     "execution_count": 10,
     "metadata": {},
     "output_type": "execute_result"
    }
   ],
   "source": [
    "np.eye(5)"
   ]
  },
  {
   "cell_type": "code",
   "execution_count": 11,
   "metadata": {},
   "outputs": [],
   "source": [
    "dataOne = random.rand(5,5)"
   ]
  },
  {
   "cell_type": "code",
   "execution_count": 13,
   "metadata": {},
   "outputs": [
    {
     "ename": "AttributeError",
     "evalue": "module 'numpy' has no attribute 'dataOne'",
     "output_type": "error",
     "traceback": [
      "\u001b[1;31m---------------------------------------------------------------------------\u001b[0m",
      "\u001b[1;31mAttributeError\u001b[0m                            Traceback (most recent call last)",
      "\u001b[1;32m<ipython-input-13-44c6983015be>\u001b[0m in \u001b[0;36m<module>\u001b[1;34m\u001b[0m\n\u001b[1;32m----> 1\u001b[1;33m \u001b[0mnp\u001b[0m\u001b[1;33m.\u001b[0m\u001b[0mdataOne\u001b[0m\u001b[1;33m\u001b[0m\u001b[1;33m\u001b[0m\u001b[0m\n\u001b[0m",
      "\u001b[1;32m~\\anaconda3\\lib\\site-packages\\numpy\\__init__.py\u001b[0m in \u001b[0;36m__getattr__\u001b[1;34m(attr)\u001b[0m\n\u001b[0;32m    218\u001b[0m             \u001b[1;32melse\u001b[0m\u001b[1;33m:\u001b[0m\u001b[1;33m\u001b[0m\u001b[1;33m\u001b[0m\u001b[0m\n\u001b[0;32m    219\u001b[0m                 raise AttributeError(\"module {!r} has no attribute \"\n\u001b[1;32m--> 220\u001b[1;33m                                      \"{!r}\".format(__name__, attr))\n\u001b[0m\u001b[0;32m    221\u001b[0m \u001b[1;33m\u001b[0m\u001b[0m\n\u001b[0;32m    222\u001b[0m         \u001b[1;32mdef\u001b[0m \u001b[0m__dir__\u001b[0m\u001b[1;33m(\u001b[0m\u001b[1;33m)\u001b[0m\u001b[1;33m:\u001b[0m\u001b[1;33m\u001b[0m\u001b[1;33m\u001b[0m\u001b[0m\n",
      "\u001b[1;31mAttributeError\u001b[0m: module 'numpy' has no attribute 'dataOne'"
     ]
    }
   ],
   "source": [
    "np.dataOne"
   ]
  },
  {
   "cell_type": "code",
   "execution_count": 19,
   "metadata": {},
   "outputs": [
    {
     "data": {
      "text/plain": [
       "0.5879216651700994"
      ]
     },
     "execution_count": 19,
     "metadata": {},
     "output_type": "execute_result"
    }
   ],
   "source": [
    "np.mean(dataOne)\n"
   ]
  },
  {
   "cell_type": "code",
   "execution_count": 20,
   "metadata": {},
   "outputs": [
    {
     "ename": "AttributeError",
     "evalue": "module 'numpy' has no attribute 'mode'",
     "output_type": "error",
     "traceback": [
      "\u001b[1;31m---------------------------------------------------------------------------\u001b[0m",
      "\u001b[1;31mAttributeError\u001b[0m                            Traceback (most recent call last)",
      "\u001b[1;32m<ipython-input-20-7b75370b91d0>\u001b[0m in \u001b[0;36m<module>\u001b[1;34m\u001b[0m\n\u001b[1;32m----> 1\u001b[1;33m \u001b[0mnp\u001b[0m\u001b[1;33m.\u001b[0m\u001b[0mmode\u001b[0m\u001b[1;33m(\u001b[0m\u001b[0mdataOne\u001b[0m\u001b[1;33m)\u001b[0m\u001b[1;33m\u001b[0m\u001b[1;33m\u001b[0m\u001b[0m\n\u001b[0m",
      "\u001b[1;32m~\\anaconda3\\lib\\site-packages\\numpy\\__init__.py\u001b[0m in \u001b[0;36m__getattr__\u001b[1;34m(attr)\u001b[0m\n\u001b[0;32m    218\u001b[0m             \u001b[1;32melse\u001b[0m\u001b[1;33m:\u001b[0m\u001b[1;33m\u001b[0m\u001b[1;33m\u001b[0m\u001b[0m\n\u001b[0;32m    219\u001b[0m                 raise AttributeError(\"module {!r} has no attribute \"\n\u001b[1;32m--> 220\u001b[1;33m                                      \"{!r}\".format(__name__, attr))\n\u001b[0m\u001b[0;32m    221\u001b[0m \u001b[1;33m\u001b[0m\u001b[0m\n\u001b[0;32m    222\u001b[0m         \u001b[1;32mdef\u001b[0m \u001b[0m__dir__\u001b[0m\u001b[1;33m(\u001b[0m\u001b[1;33m)\u001b[0m\u001b[1;33m:\u001b[0m\u001b[1;33m\u001b[0m\u001b[1;33m\u001b[0m\u001b[0m\n",
      "\u001b[1;31mAttributeError\u001b[0m: module 'numpy' has no attribute 'mode'"
     ]
    }
   ],
   "source": [
    "np.mode(dataOne)"
   ]
  },
  {
   "cell_type": "code",
   "execution_count": 21,
   "metadata": {},
   "outputs": [
    {
     "data": {
      "text/plain": [
       "0.24198300086834648"
      ]
     },
     "execution_count": 21,
     "metadata": {},
     "output_type": "execute_result"
    }
   ],
   "source": [
    "#1 \n",
    "np.std(dataOne)"
   ]
  },
  {
   "cell_type": "code",
   "execution_count": 22,
   "metadata": {},
   "outputs": [
    {
     "data": {
      "text/plain": [
       "14.698041629252483"
      ]
     },
     "execution_count": 22,
     "metadata": {},
     "output_type": "execute_result"
    }
   ],
   "source": [
    "#2\n",
    "np.sum(dataOne)"
   ]
  },
  {
   "cell_type": "code",
   "execution_count": 23,
   "metadata": {},
   "outputs": [
    {
     "data": {
      "text/plain": [
       "0.5477663306944134"
      ]
     },
     "execution_count": 23,
     "metadata": {},
     "output_type": "execute_result"
    }
   ],
   "source": [
    "#3\n",
    "np.median(dataOne)"
   ]
  },
  {
   "cell_type": "code",
   "execution_count": 24,
   "metadata": {},
   "outputs": [
    {
     "name": "stdout",
     "output_type": "stream",
     "text": [
      "I Love data Science\n"
     ]
    }
   ],
   "source": [
    "print('I Love data Science')"
   ]
  },
  {
   "cell_type": "code",
   "execution_count": 25,
   "metadata": {},
   "outputs": [],
   "source": [
    "variableName = 25"
   ]
  },
  {
   "cell_type": "code",
   "execution_count": 26,
   "metadata": {},
   "outputs": [],
   "source": [
    "variableName1 = 'I Love data Science'"
   ]
  },
  {
   "cell_type": "code",
   "execution_count": 27,
   "metadata": {},
   "outputs": [
    {
     "name": "stdout",
     "output_type": "stream",
     "text": [
      "I Love data Science\n"
     ]
    }
   ],
   "source": [
    "print(variableName1)"
   ]
  },
  {
   "cell_type": "code",
   "execution_count": 28,
   "metadata": {},
   "outputs": [],
   "source": [
    "variableName = 25"
   ]
  },
  {
   "cell_type": "code",
   "execution_count": 29,
   "metadata": {},
   "outputs": [
    {
     "data": {
      "text/plain": [
       "int"
      ]
     },
     "execution_count": 29,
     "metadata": {},
     "output_type": "execute_result"
    }
   ],
   "source": [
    "type(variableName)"
   ]
  },
  {
   "cell_type": "code",
   "execution_count": 30,
   "metadata": {},
   "outputs": [],
   "source": [
    "variableName = 25.0"
   ]
  },
  {
   "cell_type": "code",
   "execution_count": 31,
   "metadata": {},
   "outputs": [
    {
     "data": {
      "text/plain": [
       "float"
      ]
     },
     "execution_count": 31,
     "metadata": {},
     "output_type": "execute_result"
    }
   ],
   "source": [
    "type(variableName)"
   ]
  },
  {
   "cell_type": "code",
   "execution_count": 32,
   "metadata": {},
   "outputs": [
    {
     "name": "stdout",
     "output_type": "stream",
     "text": [
      "50.0\n"
     ]
    }
   ],
   "source": [
    "varOne = 25\n",
    "\n",
    "varTwo = 25.0\n",
    "\n",
    "varThree = varOne + varTwo\n",
    "\n",
    "print(varThree)"
   ]
  },
  {
   "cell_type": "raw",
   "metadata": {},
   "source": [
    "    "
   ]
  },
  {
   "cell_type": "code",
   "execution_count": 33,
   "metadata": {},
   "outputs": [
    {
     "ename": "TypeError",
     "evalue": "unsupported operand type(s) for +: 'int' and 'str'",
     "output_type": "error",
     "traceback": [
      "\u001b[1;31m---------------------------------------------------------------------------\u001b[0m",
      "\u001b[1;31mTypeError\u001b[0m                                 Traceback (most recent call last)",
      "\u001b[1;32m<ipython-input-33-87d4664cabc8>\u001b[0m in \u001b[0;36m<module>\u001b[1;34m\u001b[0m\n\u001b[0;32m      3\u001b[0m \u001b[0mvarTwo\u001b[0m \u001b[1;33m=\u001b[0m \u001b[1;34m'Hello'\u001b[0m\u001b[1;33m\u001b[0m\u001b[1;33m\u001b[0m\u001b[0m\n\u001b[0;32m      4\u001b[0m \u001b[1;33m\u001b[0m\u001b[0m\n\u001b[1;32m----> 5\u001b[1;33m \u001b[0mvarThree\u001b[0m \u001b[1;33m=\u001b[0m \u001b[0mvarOne\u001b[0m \u001b[1;33m+\u001b[0m \u001b[0mvarTwo\u001b[0m\u001b[1;33m\u001b[0m\u001b[1;33m\u001b[0m\u001b[0m\n\u001b[0m\u001b[0;32m      6\u001b[0m \u001b[1;33m\u001b[0m\u001b[0m\n\u001b[0;32m      7\u001b[0m \u001b[0mprint\u001b[0m\u001b[1;33m(\u001b[0m\u001b[0mvarThree\u001b[0m\u001b[1;33m)\u001b[0m\u001b[1;33m\u001b[0m\u001b[1;33m\u001b[0m\u001b[0m\n",
      "\u001b[1;31mTypeError\u001b[0m: unsupported operand type(s) for +: 'int' and 'str'"
     ]
    }
   ],
   "source": [
    "varOne = 25\n",
    "\n",
    "varTwo = 'Hello'\n",
    "\n",
    "varThree = varOne + varTwo\n",
    "\n",
    "print(varThree)\n",
    "##Error due to different data types "
   ]
  },
  {
   "cell_type": "code",
   "execution_count": 14,
   "metadata": {},
   "outputs": [],
   "source": [
    "listOne = [1,2,3,4]"
   ]
  },
  {
   "cell_type": "code",
   "execution_count": 15,
   "metadata": {},
   "outputs": [
    {
     "name": "stdout",
     "output_type": "stream",
     "text": [
      "[2, 3]\n"
     ]
    }
   ],
   "source": [
    "print(listOne[1:3])"
   ]
  },
  {
   "cell_type": "code",
   "execution_count": 16,
   "metadata": {},
   "outputs": [],
   "source": [
    "tel = {'jack': 4098, 'sape': 4139}"
   ]
  },
  {
   "cell_type": "code",
   "execution_count": 17,
   "metadata": {},
   "outputs": [
    {
     "data": {
      "text/plain": [
       "4098"
      ]
     },
     "execution_count": 17,
     "metadata": {},
     "output_type": "execute_result"
    }
   ],
   "source": [
    "tel['jack']"
   ]
  },
  {
   "cell_type": "code",
   "execution_count": 18,
   "metadata": {},
   "outputs": [
    {
     "name": "stdout",
     "output_type": "stream",
     "text": [
      "[1, 2, 3, 4, 5]\n"
     ]
    }
   ],
   "source": [
    "cat1 = {\"andres\":[1,2,3,4,5]}\n",
    "print(cat1['andres'])"
   ]
  },
  {
   "cell_type": "code",
   "execution_count": null,
   "metadata": {},
   "outputs": [],
   "source": [
    "import math "
   ]
  },
  {
   "cell_type": "code",
   "execution_count": null,
   "metadata": {},
   "outputs": [],
   "source": [
    "math.sqrt(25)"
   ]
  },
  {
   "cell_type": "code",
   "execution_count": null,
   "metadata": {},
   "outputs": [],
   "source": [
    "import math as mt"
   ]
  },
  {
   "cell_type": "code",
   "execution_count": null,
   "metadata": {},
   "outputs": [],
   "source": [
    "mt.sqrt(25)"
   ]
  },
  {
   "cell_type": "code",
   "execution_count": null,
   "metadata": {},
   "outputs": [],
   "source": [
    "cat1 = {\"andres\":[1,2,3,4,5]}\n",
    "x = cat1['andres'][2]\n",
    "y = cat1['andres'][3]\n",
    "z = cat1['andres'][4]"
   ]
  },
  {
   "cell_type": "code",
   "execution_count": null,
   "metadata": {},
   "outputs": [],
   "source": [
    "mt.sqrt(x+y)"
   ]
  },
  {
   "cell_type": "code",
   "execution_count": null,
   "metadata": {},
   "outputs": [],
   "source": [
    "mt.pow(x,y)"
   ]
  },
  {
   "cell_type": "code",
   "execution_count": null,
   "metadata": {},
   "outputs": [],
   "source": [
    "mt.fabs(x)"
   ]
  },
  {
   "cell_type": "markdown",
   "metadata": {},
   "source": [
    "Was it straightforward to install Python and all of the libraries? Yes\n"
   ]
  },
  {
   "cell_type": "markdown",
   "metadata": {},
   "source": [
    "Was the tutorial useful? Would you recommend it to others? Yes"
   ]
  },
  {
   "cell_type": "markdown",
   "metadata": {},
   "source": [
    "What are the main lessons you've learned from this experience? How to use python and Github"
   ]
  },
  {
   "cell_type": "markdown",
   "metadata": {},
   "source": [
    "# Importing Libraries"
   ]
  },
  {
   "cell_type": "code",
   "execution_count": 19,
   "metadata": {},
   "outputs": [],
   "source": [
    "#Import Libraries \n",
    "import numpy as np\n",
    "import pandas as pd\n",
    "from pandas import Series, DataFrame, set_option\n",
    "from pandas.plotting import scatter_matrix\n",
    "import matplotlib as mpl\n",
    "import matplotlib.pyplot as plt\n",
    "import seaborn as sns\n",
    "import statsmodels.api as sm\n",
    "import pylab"
   ]
  },
  {
   "cell_type": "code",
   "execution_count": 20,
   "metadata": {},
   "outputs": [],
   "source": [
    "%matplotlib inline\n",
    "\n",
    "set_option('display.width', 100)\n",
    "set_option('precision', 3)\n",
    "\n",
    "# set default matplot figure size\n",
    "pylab.rcParams['figure.figsize'] = (10.0, 8.0)"
   ]
  },
  {
   "cell_type": "code",
   "execution_count": 21,
   "metadata": {
    "scrolled": true
   },
   "outputs": [
    {
     "data": {
      "text/plain": [
       "'C:\\\\Users\\\\admin\\\\Desktop\\\\Course 5 Task 1'"
      ]
     },
     "execution_count": 21,
     "metadata": {},
     "output_type": "execute_result"
    }
   ],
   "source": [
    "pwd"
   ]
  },
  {
   "cell_type": "code",
   "execution_count": 22,
   "metadata": {},
   "outputs": [],
   "source": [
    "# changing row names \n",
    "names = ['Id', 'TotalLoan', 'Gender', 'Education', 'MaritalStatus', 'Age', \n",
    "         'HstPaySep15', 'HstPayAug15', 'HstPayJul15', 'HstPayJun15', 'HstPayMay15', 'HstPayApr15', \n",
    "         'BillSep15', 'BillAug15', 'BillJul15', 'BillJun15', 'BillMay15', 'BillApr15', \n",
    "         'PaySep15', 'PayAug15', 'PayJul15', 'PayJun15', 'PayMay15', 'PayApr15', \n",
    "         'DefaultPayment']"
   ]
  },
  {
   "cell_type": "code",
   "execution_count": 23,
   "metadata": {},
   "outputs": [
    {
     "name": "stdout",
     "output_type": "stream",
     "text": [
      "Rows and columns count: (30000, 25)\n"
     ]
    }
   ],
   "source": [
    "credit = pd.read_csv('default of credit card clients.csv', header =1,names=names)\n",
    "credit.head()\n",
    "print('Rows and columns count:', credit.shape)"
   ]
  },
  {
   "cell_type": "code",
   "execution_count": 24,
   "metadata": {},
   "outputs": [
    {
     "name": "stdout",
     "output_type": "stream",
     "text": [
      "Columns names: Index(['Id', 'TotalLoan', 'Gender', 'Education', 'MaritalStatus', 'Age', 'HstPaySep15',\n",
      "       'HstPayAug15', 'HstPayJul15', 'HstPayJun15', 'HstPayMay15', 'HstPayApr15', 'BillSep15',\n",
      "       'BillAug15', 'BillJul15', 'BillJun15', 'BillMay15', 'BillApr15', 'PaySep15', 'PayAug15',\n",
      "       'PayJul15', 'PayJun15', 'PayMay15', 'PayApr15', 'DefaultPayment'],\n",
      "      dtype='object')\n"
     ]
    }
   ],
   "source": [
    "print('Columns names:', credit.columns)"
   ]
  },
  {
   "cell_type": "code",
   "execution_count": 25,
   "metadata": {},
   "outputs": [
    {
     "data": {
      "text/html": [
       "<div>\n",
       "<style scoped>\n",
       "    .dataframe tbody tr th:only-of-type {\n",
       "        vertical-align: middle;\n",
       "    }\n",
       "\n",
       "    .dataframe tbody tr th {\n",
       "        vertical-align: top;\n",
       "    }\n",
       "\n",
       "    .dataframe thead th {\n",
       "        text-align: right;\n",
       "    }\n",
       "</style>\n",
       "<table border=\"1\" class=\"dataframe\">\n",
       "  <thead>\n",
       "    <tr style=\"text-align: right;\">\n",
       "      <th></th>\n",
       "      <th>Id</th>\n",
       "      <th>TotalLoan</th>\n",
       "      <th>Gender</th>\n",
       "      <th>Education</th>\n",
       "      <th>MaritalStatus</th>\n",
       "      <th>Age</th>\n",
       "      <th>HstPaySep15</th>\n",
       "      <th>HstPayAug15</th>\n",
       "      <th>HstPayJul15</th>\n",
       "      <th>HstPayJun15</th>\n",
       "      <th>...</th>\n",
       "      <th>BillJun15</th>\n",
       "      <th>BillMay15</th>\n",
       "      <th>BillApr15</th>\n",
       "      <th>PaySep15</th>\n",
       "      <th>PayAug15</th>\n",
       "      <th>PayJul15</th>\n",
       "      <th>PayJun15</th>\n",
       "      <th>PayMay15</th>\n",
       "      <th>PayApr15</th>\n",
       "      <th>DefaultPayment</th>\n",
       "    </tr>\n",
       "  </thead>\n",
       "  <tbody>\n",
       "    <tr>\n",
       "      <th>count</th>\n",
       "      <td>30000.000</td>\n",
       "      <td>30000.000</td>\n",
       "      <td>30000.000</td>\n",
       "      <td>30000.000</td>\n",
       "      <td>30000.000</td>\n",
       "      <td>30000.000</td>\n",
       "      <td>30000.000</td>\n",
       "      <td>30000.000</td>\n",
       "      <td>30000.000</td>\n",
       "      <td>30000.000</td>\n",
       "      <td>...</td>\n",
       "      <td>30000.000</td>\n",
       "      <td>30000.000</td>\n",
       "      <td>30000.000</td>\n",
       "      <td>30000.000</td>\n",
       "      <td>3.000e+04</td>\n",
       "      <td>30000.000</td>\n",
       "      <td>30000.000</td>\n",
       "      <td>30000.000</td>\n",
       "      <td>30000.000</td>\n",
       "      <td>30000.000</td>\n",
       "    </tr>\n",
       "    <tr>\n",
       "      <th>mean</th>\n",
       "      <td>15000.500</td>\n",
       "      <td>167484.323</td>\n",
       "      <td>1.604</td>\n",
       "      <td>1.853</td>\n",
       "      <td>1.552</td>\n",
       "      <td>35.486</td>\n",
       "      <td>-0.017</td>\n",
       "      <td>-0.134</td>\n",
       "      <td>-0.166</td>\n",
       "      <td>-0.221</td>\n",
       "      <td>...</td>\n",
       "      <td>43262.949</td>\n",
       "      <td>40311.401</td>\n",
       "      <td>38871.760</td>\n",
       "      <td>5663.581</td>\n",
       "      <td>5.921e+03</td>\n",
       "      <td>5225.681</td>\n",
       "      <td>4826.077</td>\n",
       "      <td>4799.388</td>\n",
       "      <td>5215.503</td>\n",
       "      <td>0.221</td>\n",
       "    </tr>\n",
       "    <tr>\n",
       "      <th>std</th>\n",
       "      <td>8660.398</td>\n",
       "      <td>129747.662</td>\n",
       "      <td>0.489</td>\n",
       "      <td>0.790</td>\n",
       "      <td>0.522</td>\n",
       "      <td>9.218</td>\n",
       "      <td>1.124</td>\n",
       "      <td>1.197</td>\n",
       "      <td>1.197</td>\n",
       "      <td>1.169</td>\n",
       "      <td>...</td>\n",
       "      <td>64332.856</td>\n",
       "      <td>60797.156</td>\n",
       "      <td>59554.108</td>\n",
       "      <td>16563.280</td>\n",
       "      <td>2.304e+04</td>\n",
       "      <td>17606.961</td>\n",
       "      <td>15666.160</td>\n",
       "      <td>15278.306</td>\n",
       "      <td>17777.466</td>\n",
       "      <td>0.415</td>\n",
       "    </tr>\n",
       "    <tr>\n",
       "      <th>min</th>\n",
       "      <td>1.000</td>\n",
       "      <td>10000.000</td>\n",
       "      <td>1.000</td>\n",
       "      <td>0.000</td>\n",
       "      <td>0.000</td>\n",
       "      <td>21.000</td>\n",
       "      <td>-2.000</td>\n",
       "      <td>-2.000</td>\n",
       "      <td>-2.000</td>\n",
       "      <td>-2.000</td>\n",
       "      <td>...</td>\n",
       "      <td>-170000.000</td>\n",
       "      <td>-81334.000</td>\n",
       "      <td>-339603.000</td>\n",
       "      <td>0.000</td>\n",
       "      <td>0.000e+00</td>\n",
       "      <td>0.000</td>\n",
       "      <td>0.000</td>\n",
       "      <td>0.000</td>\n",
       "      <td>0.000</td>\n",
       "      <td>0.000</td>\n",
       "    </tr>\n",
       "    <tr>\n",
       "      <th>25%</th>\n",
       "      <td>7500.750</td>\n",
       "      <td>50000.000</td>\n",
       "      <td>1.000</td>\n",
       "      <td>1.000</td>\n",
       "      <td>1.000</td>\n",
       "      <td>28.000</td>\n",
       "      <td>-1.000</td>\n",
       "      <td>-1.000</td>\n",
       "      <td>-1.000</td>\n",
       "      <td>-1.000</td>\n",
       "      <td>...</td>\n",
       "      <td>2326.750</td>\n",
       "      <td>1763.000</td>\n",
       "      <td>1256.000</td>\n",
       "      <td>1000.000</td>\n",
       "      <td>8.330e+02</td>\n",
       "      <td>390.000</td>\n",
       "      <td>296.000</td>\n",
       "      <td>252.500</td>\n",
       "      <td>117.750</td>\n",
       "      <td>0.000</td>\n",
       "    </tr>\n",
       "    <tr>\n",
       "      <th>50%</th>\n",
       "      <td>15000.500</td>\n",
       "      <td>140000.000</td>\n",
       "      <td>2.000</td>\n",
       "      <td>2.000</td>\n",
       "      <td>2.000</td>\n",
       "      <td>34.000</td>\n",
       "      <td>0.000</td>\n",
       "      <td>0.000</td>\n",
       "      <td>0.000</td>\n",
       "      <td>0.000</td>\n",
       "      <td>...</td>\n",
       "      <td>19052.000</td>\n",
       "      <td>18104.500</td>\n",
       "      <td>17071.000</td>\n",
       "      <td>2100.000</td>\n",
       "      <td>2.009e+03</td>\n",
       "      <td>1800.000</td>\n",
       "      <td>1500.000</td>\n",
       "      <td>1500.000</td>\n",
       "      <td>1500.000</td>\n",
       "      <td>0.000</td>\n",
       "    </tr>\n",
       "    <tr>\n",
       "      <th>75%</th>\n",
       "      <td>22500.250</td>\n",
       "      <td>240000.000</td>\n",
       "      <td>2.000</td>\n",
       "      <td>2.000</td>\n",
       "      <td>2.000</td>\n",
       "      <td>41.000</td>\n",
       "      <td>0.000</td>\n",
       "      <td>0.000</td>\n",
       "      <td>0.000</td>\n",
       "      <td>0.000</td>\n",
       "      <td>...</td>\n",
       "      <td>54506.000</td>\n",
       "      <td>50190.500</td>\n",
       "      <td>49198.250</td>\n",
       "      <td>5006.000</td>\n",
       "      <td>5.000e+03</td>\n",
       "      <td>4505.000</td>\n",
       "      <td>4013.250</td>\n",
       "      <td>4031.500</td>\n",
       "      <td>4000.000</td>\n",
       "      <td>0.000</td>\n",
       "    </tr>\n",
       "    <tr>\n",
       "      <th>max</th>\n",
       "      <td>30000.000</td>\n",
       "      <td>1000000.000</td>\n",
       "      <td>2.000</td>\n",
       "      <td>6.000</td>\n",
       "      <td>3.000</td>\n",
       "      <td>79.000</td>\n",
       "      <td>8.000</td>\n",
       "      <td>8.000</td>\n",
       "      <td>8.000</td>\n",
       "      <td>8.000</td>\n",
       "      <td>...</td>\n",
       "      <td>891586.000</td>\n",
       "      <td>927171.000</td>\n",
       "      <td>961664.000</td>\n",
       "      <td>873552.000</td>\n",
       "      <td>1.684e+06</td>\n",
       "      <td>896040.000</td>\n",
       "      <td>621000.000</td>\n",
       "      <td>426529.000</td>\n",
       "      <td>528666.000</td>\n",
       "      <td>1.000</td>\n",
       "    </tr>\n",
       "  </tbody>\n",
       "</table>\n",
       "<p>8 rows × 25 columns</p>\n",
       "</div>"
      ],
      "text/plain": [
       "              Id    TotalLoan     Gender  Education  MaritalStatus        Age  HstPaySep15  \\\n",
       "count  30000.000    30000.000  30000.000  30000.000      30000.000  30000.000    30000.000   \n",
       "mean   15000.500   167484.323      1.604      1.853          1.552     35.486       -0.017   \n",
       "std     8660.398   129747.662      0.489      0.790          0.522      9.218        1.124   \n",
       "min        1.000    10000.000      1.000      0.000          0.000     21.000       -2.000   \n",
       "25%     7500.750    50000.000      1.000      1.000          1.000     28.000       -1.000   \n",
       "50%    15000.500   140000.000      2.000      2.000          2.000     34.000        0.000   \n",
       "75%    22500.250   240000.000      2.000      2.000          2.000     41.000        0.000   \n",
       "max    30000.000  1000000.000      2.000      6.000          3.000     79.000        8.000   \n",
       "\n",
       "       HstPayAug15  HstPayJul15  HstPayJun15  ...   BillJun15   BillMay15   BillApr15    PaySep15  \\\n",
       "count    30000.000    30000.000    30000.000  ...   30000.000   30000.000   30000.000   30000.000   \n",
       "mean        -0.134       -0.166       -0.221  ...   43262.949   40311.401   38871.760    5663.581   \n",
       "std          1.197        1.197        1.169  ...   64332.856   60797.156   59554.108   16563.280   \n",
       "min         -2.000       -2.000       -2.000  ... -170000.000  -81334.000 -339603.000       0.000   \n",
       "25%         -1.000       -1.000       -1.000  ...    2326.750    1763.000    1256.000    1000.000   \n",
       "50%          0.000        0.000        0.000  ...   19052.000   18104.500   17071.000    2100.000   \n",
       "75%          0.000        0.000        0.000  ...   54506.000   50190.500   49198.250    5006.000   \n",
       "max          8.000        8.000        8.000  ...  891586.000  927171.000  961664.000  873552.000   \n",
       "\n",
       "        PayAug15    PayJul15    PayJun15    PayMay15    PayApr15  DefaultPayment  \n",
       "count  3.000e+04   30000.000   30000.000   30000.000   30000.000       30000.000  \n",
       "mean   5.921e+03    5225.681    4826.077    4799.388    5215.503           0.221  \n",
       "std    2.304e+04   17606.961   15666.160   15278.306   17777.466           0.415  \n",
       "min    0.000e+00       0.000       0.000       0.000       0.000           0.000  \n",
       "25%    8.330e+02     390.000     296.000     252.500     117.750           0.000  \n",
       "50%    2.009e+03    1800.000    1500.000    1500.000    1500.000           0.000  \n",
       "75%    5.000e+03    4505.000    4013.250    4031.500    4000.000           0.000  \n",
       "max    1.684e+06  896040.000  621000.000  426529.000  528666.000           1.000  \n",
       "\n",
       "[8 rows x 25 columns]"
      ]
     },
     "execution_count": 25,
     "metadata": {},
     "output_type": "execute_result"
    }
   ],
   "source": [
    "credit.describe()"
   ]
  },
  {
   "cell_type": "code",
   "execution_count": 26,
   "metadata": {},
   "outputs": [
    {
     "name": "stdout",
     "output_type": "stream",
     "text": [
      "<class 'pandas.core.frame.DataFrame'>\n",
      "RangeIndex: 30000 entries, 0 to 29999\n",
      "Data columns (total 25 columns):\n",
      " #   Column          Non-Null Count  Dtype\n",
      "---  ------          --------------  -----\n",
      " 0   Id              30000 non-null  int64\n",
      " 1   TotalLoan       30000 non-null  int64\n",
      " 2   Gender          30000 non-null  int64\n",
      " 3   Education       30000 non-null  int64\n",
      " 4   MaritalStatus   30000 non-null  int64\n",
      " 5   Age             30000 non-null  int64\n",
      " 6   HstPaySep15     30000 non-null  int64\n",
      " 7   HstPayAug15     30000 non-null  int64\n",
      " 8   HstPayJul15     30000 non-null  int64\n",
      " 9   HstPayJun15     30000 non-null  int64\n",
      " 10  HstPayMay15     30000 non-null  int64\n",
      " 11  HstPayApr15     30000 non-null  int64\n",
      " 12  BillSep15       30000 non-null  int64\n",
      " 13  BillAug15       30000 non-null  int64\n",
      " 14  BillJul15       30000 non-null  int64\n",
      " 15  BillJun15       30000 non-null  int64\n",
      " 16  BillMay15       30000 non-null  int64\n",
      " 17  BillApr15       30000 non-null  int64\n",
      " 18  PaySep15        30000 non-null  int64\n",
      " 19  PayAug15        30000 non-null  int64\n",
      " 20  PayJul15        30000 non-null  int64\n",
      " 21  PayJun15        30000 non-null  int64\n",
      " 22  PayMay15        30000 non-null  int64\n",
      " 23  PayApr15        30000 non-null  int64\n",
      " 24  DefaultPayment  30000 non-null  int64\n",
      "dtypes: int64(25)\n",
      "memory usage: 5.7 MB\n"
     ]
    }
   ],
   "source": [
    "credit.info()"
   ]
  },
  {
   "cell_type": "code",
   "execution_count": 27,
   "metadata": {},
   "outputs": [
    {
     "data": {
      "text/plain": [
       "Id                0\n",
       "TotalLoan         0\n",
       "Gender            0\n",
       "Education         0\n",
       "MaritalStatus     0\n",
       "Age               0\n",
       "HstPaySep15       0\n",
       "HstPayAug15       0\n",
       "HstPayJul15       0\n",
       "HstPayJun15       0\n",
       "HstPayMay15       0\n",
       "HstPayApr15       0\n",
       "BillSep15         0\n",
       "BillAug15         0\n",
       "BillJul15         0\n",
       "BillJun15         0\n",
       "BillMay15         0\n",
       "BillApr15         0\n",
       "PaySep15          0\n",
       "PayAug15          0\n",
       "PayJul15          0\n",
       "PayJun15          0\n",
       "PayMay15          0\n",
       "PayApr15          0\n",
       "DefaultPayment    0\n",
       "dtype: int64"
      ]
     },
     "execution_count": 27,
     "metadata": {},
     "output_type": "execute_result"
    }
   ],
   "source": [
    "# finding missing values \n",
    "credit.isnull().sum()"
   ]
  },
  {
   "cell_type": "code",
   "execution_count": 28,
   "metadata": {},
   "outputs": [
    {
     "data": {
      "text/html": [
       "<div>\n",
       "<style scoped>\n",
       "    .dataframe tbody tr th:only-of-type {\n",
       "        vertical-align: middle;\n",
       "    }\n",
       "\n",
       "    .dataframe tbody tr th {\n",
       "        vertical-align: top;\n",
       "    }\n",
       "\n",
       "    .dataframe thead th {\n",
       "        text-align: right;\n",
       "    }\n",
       "</style>\n",
       "<table border=\"1\" class=\"dataframe\">\n",
       "  <thead>\n",
       "    <tr style=\"text-align: right;\">\n",
       "      <th></th>\n",
       "      <th>TotalLoan</th>\n",
       "      <th>Gender</th>\n",
       "      <th>Education</th>\n",
       "      <th>MaritalStatus</th>\n",
       "      <th>Age</th>\n",
       "      <th>HstPaySep15</th>\n",
       "      <th>HstPayAug15</th>\n",
       "      <th>HstPayJul15</th>\n",
       "      <th>HstPayJun15</th>\n",
       "      <th>HstPayMay15</th>\n",
       "      <th>...</th>\n",
       "      <th>BillJun15</th>\n",
       "      <th>BillMay15</th>\n",
       "      <th>BillApr15</th>\n",
       "      <th>PaySep15</th>\n",
       "      <th>PayAug15</th>\n",
       "      <th>PayJul15</th>\n",
       "      <th>PayJun15</th>\n",
       "      <th>PayMay15</th>\n",
       "      <th>PayApr15</th>\n",
       "      <th>DefaultPayment</th>\n",
       "    </tr>\n",
       "  </thead>\n",
       "  <tbody>\n",
       "    <tr>\n",
       "      <th>0</th>\n",
       "      <td>20000</td>\n",
       "      <td>2</td>\n",
       "      <td>2</td>\n",
       "      <td>1</td>\n",
       "      <td>24</td>\n",
       "      <td>2</td>\n",
       "      <td>2</td>\n",
       "      <td>-1</td>\n",
       "      <td>-1</td>\n",
       "      <td>-2</td>\n",
       "      <td>...</td>\n",
       "      <td>0</td>\n",
       "      <td>0</td>\n",
       "      <td>0</td>\n",
       "      <td>0</td>\n",
       "      <td>689</td>\n",
       "      <td>0</td>\n",
       "      <td>0</td>\n",
       "      <td>0</td>\n",
       "      <td>0</td>\n",
       "      <td>1</td>\n",
       "    </tr>\n",
       "    <tr>\n",
       "      <th>1</th>\n",
       "      <td>120000</td>\n",
       "      <td>2</td>\n",
       "      <td>2</td>\n",
       "      <td>2</td>\n",
       "      <td>26</td>\n",
       "      <td>-1</td>\n",
       "      <td>2</td>\n",
       "      <td>0</td>\n",
       "      <td>0</td>\n",
       "      <td>0</td>\n",
       "      <td>...</td>\n",
       "      <td>3272</td>\n",
       "      <td>3455</td>\n",
       "      <td>3261</td>\n",
       "      <td>0</td>\n",
       "      <td>1000</td>\n",
       "      <td>1000</td>\n",
       "      <td>1000</td>\n",
       "      <td>0</td>\n",
       "      <td>2000</td>\n",
       "      <td>1</td>\n",
       "    </tr>\n",
       "    <tr>\n",
       "      <th>2</th>\n",
       "      <td>90000</td>\n",
       "      <td>2</td>\n",
       "      <td>2</td>\n",
       "      <td>2</td>\n",
       "      <td>34</td>\n",
       "      <td>0</td>\n",
       "      <td>0</td>\n",
       "      <td>0</td>\n",
       "      <td>0</td>\n",
       "      <td>0</td>\n",
       "      <td>...</td>\n",
       "      <td>14331</td>\n",
       "      <td>14948</td>\n",
       "      <td>15549</td>\n",
       "      <td>1518</td>\n",
       "      <td>1500</td>\n",
       "      <td>1000</td>\n",
       "      <td>1000</td>\n",
       "      <td>1000</td>\n",
       "      <td>5000</td>\n",
       "      <td>0</td>\n",
       "    </tr>\n",
       "    <tr>\n",
       "      <th>3</th>\n",
       "      <td>50000</td>\n",
       "      <td>2</td>\n",
       "      <td>2</td>\n",
       "      <td>1</td>\n",
       "      <td>37</td>\n",
       "      <td>0</td>\n",
       "      <td>0</td>\n",
       "      <td>0</td>\n",
       "      <td>0</td>\n",
       "      <td>0</td>\n",
       "      <td>...</td>\n",
       "      <td>28314</td>\n",
       "      <td>28959</td>\n",
       "      <td>29547</td>\n",
       "      <td>2000</td>\n",
       "      <td>2019</td>\n",
       "      <td>1200</td>\n",
       "      <td>1100</td>\n",
       "      <td>1069</td>\n",
       "      <td>1000</td>\n",
       "      <td>0</td>\n",
       "    </tr>\n",
       "    <tr>\n",
       "      <th>4</th>\n",
       "      <td>50000</td>\n",
       "      <td>1</td>\n",
       "      <td>2</td>\n",
       "      <td>1</td>\n",
       "      <td>57</td>\n",
       "      <td>-1</td>\n",
       "      <td>0</td>\n",
       "      <td>-1</td>\n",
       "      <td>0</td>\n",
       "      <td>0</td>\n",
       "      <td>...</td>\n",
       "      <td>20940</td>\n",
       "      <td>19146</td>\n",
       "      <td>19131</td>\n",
       "      <td>2000</td>\n",
       "      <td>36681</td>\n",
       "      <td>10000</td>\n",
       "      <td>9000</td>\n",
       "      <td>689</td>\n",
       "      <td>679</td>\n",
       "      <td>0</td>\n",
       "    </tr>\n",
       "  </tbody>\n",
       "</table>\n",
       "<p>5 rows × 24 columns</p>\n",
       "</div>"
      ],
      "text/plain": [
       "   TotalLoan  Gender  Education  MaritalStatus  Age  HstPaySep15  HstPayAug15  HstPayJul15  \\\n",
       "0      20000       2          2              1   24            2            2           -1   \n",
       "1     120000       2          2              2   26           -1            2            0   \n",
       "2      90000       2          2              2   34            0            0            0   \n",
       "3      50000       2          2              1   37            0            0            0   \n",
       "4      50000       1          2              1   57           -1            0           -1   \n",
       "\n",
       "   HstPayJun15  HstPayMay15  ...  BillJun15  BillMay15  BillApr15  PaySep15  PayAug15  PayJul15  \\\n",
       "0           -1           -2  ...          0          0          0         0       689         0   \n",
       "1            0            0  ...       3272       3455       3261         0      1000      1000   \n",
       "2            0            0  ...      14331      14948      15549      1518      1500      1000   \n",
       "3            0            0  ...      28314      28959      29547      2000      2019      1200   \n",
       "4            0            0  ...      20940      19146      19131      2000     36681     10000   \n",
       "\n",
       "   PayJun15  PayMay15  PayApr15  DefaultPayment  \n",
       "0         0         0         0               1  \n",
       "1      1000         0      2000               1  \n",
       "2      1000      1000      5000               0  \n",
       "3      1100      1069      1000               0  \n",
       "4      9000       689       679               0  \n",
       "\n",
       "[5 rows x 24 columns]"
      ]
     },
     "execution_count": 28,
     "metadata": {},
     "output_type": "execute_result"
    }
   ],
   "source": [
    "# check the firsts rows\n",
    "creditcf = credit.iloc[:,1:]\n",
    "creditcf.head(5)"
   ]
  },
  {
   "cell_type": "markdown",
   "metadata": {},
   "source": [
    "# Subsetting Data where DefaultPayment = 1 (i.e. Default)"
   ]
  },
  {
   "cell_type": "code",
   "execution_count": 29,
   "metadata": {},
   "outputs": [],
   "source": [
    "filt1 = (credit['DefaultPayment'] == 1)"
   ]
  },
  {
   "cell_type": "code",
   "execution_count": 30,
   "metadata": {},
   "outputs": [
    {
     "data": {
      "text/html": [
       "<div>\n",
       "<style scoped>\n",
       "    .dataframe tbody tr th:only-of-type {\n",
       "        vertical-align: middle;\n",
       "    }\n",
       "\n",
       "    .dataframe tbody tr th {\n",
       "        vertical-align: top;\n",
       "    }\n",
       "\n",
       "    .dataframe thead th {\n",
       "        text-align: right;\n",
       "    }\n",
       "</style>\n",
       "<table border=\"1\" class=\"dataframe\">\n",
       "  <thead>\n",
       "    <tr style=\"text-align: right;\">\n",
       "      <th></th>\n",
       "      <th>Id</th>\n",
       "      <th>TotalLoan</th>\n",
       "      <th>Gender</th>\n",
       "      <th>Education</th>\n",
       "      <th>MaritalStatus</th>\n",
       "      <th>Age</th>\n",
       "      <th>HstPaySep15</th>\n",
       "      <th>HstPayAug15</th>\n",
       "      <th>HstPayJul15</th>\n",
       "      <th>HstPayJun15</th>\n",
       "      <th>...</th>\n",
       "      <th>BillJun15</th>\n",
       "      <th>BillMay15</th>\n",
       "      <th>BillApr15</th>\n",
       "      <th>PaySep15</th>\n",
       "      <th>PayAug15</th>\n",
       "      <th>PayJul15</th>\n",
       "      <th>PayJun15</th>\n",
       "      <th>PayMay15</th>\n",
       "      <th>PayApr15</th>\n",
       "      <th>DefaultPayment</th>\n",
       "    </tr>\n",
       "  </thead>\n",
       "  <tbody>\n",
       "    <tr>\n",
       "      <th>0</th>\n",
       "      <td>1</td>\n",
       "      <td>20000</td>\n",
       "      <td>2</td>\n",
       "      <td>2</td>\n",
       "      <td>1</td>\n",
       "      <td>24</td>\n",
       "      <td>2</td>\n",
       "      <td>2</td>\n",
       "      <td>-1</td>\n",
       "      <td>-1</td>\n",
       "      <td>...</td>\n",
       "      <td>0</td>\n",
       "      <td>0</td>\n",
       "      <td>0</td>\n",
       "      <td>0</td>\n",
       "      <td>689</td>\n",
       "      <td>0</td>\n",
       "      <td>0</td>\n",
       "      <td>0</td>\n",
       "      <td>0</td>\n",
       "      <td>1</td>\n",
       "    </tr>\n",
       "    <tr>\n",
       "      <th>1</th>\n",
       "      <td>2</td>\n",
       "      <td>120000</td>\n",
       "      <td>2</td>\n",
       "      <td>2</td>\n",
       "      <td>2</td>\n",
       "      <td>26</td>\n",
       "      <td>-1</td>\n",
       "      <td>2</td>\n",
       "      <td>0</td>\n",
       "      <td>0</td>\n",
       "      <td>...</td>\n",
       "      <td>3272</td>\n",
       "      <td>3455</td>\n",
       "      <td>3261</td>\n",
       "      <td>0</td>\n",
       "      <td>1000</td>\n",
       "      <td>1000</td>\n",
       "      <td>1000</td>\n",
       "      <td>0</td>\n",
       "      <td>2000</td>\n",
       "      <td>1</td>\n",
       "    </tr>\n",
       "    <tr>\n",
       "      <th>13</th>\n",
       "      <td>14</td>\n",
       "      <td>70000</td>\n",
       "      <td>1</td>\n",
       "      <td>2</td>\n",
       "      <td>2</td>\n",
       "      <td>30</td>\n",
       "      <td>1</td>\n",
       "      <td>2</td>\n",
       "      <td>2</td>\n",
       "      <td>0</td>\n",
       "      <td>...</td>\n",
       "      <td>66782</td>\n",
       "      <td>36137</td>\n",
       "      <td>36894</td>\n",
       "      <td>3200</td>\n",
       "      <td>0</td>\n",
       "      <td>3000</td>\n",
       "      <td>3000</td>\n",
       "      <td>1500</td>\n",
       "      <td>0</td>\n",
       "      <td>1</td>\n",
       "    </tr>\n",
       "    <tr>\n",
       "      <th>16</th>\n",
       "      <td>17</td>\n",
       "      <td>20000</td>\n",
       "      <td>1</td>\n",
       "      <td>1</td>\n",
       "      <td>2</td>\n",
       "      <td>24</td>\n",
       "      <td>0</td>\n",
       "      <td>0</td>\n",
       "      <td>2</td>\n",
       "      <td>2</td>\n",
       "      <td>...</td>\n",
       "      <td>18338</td>\n",
       "      <td>17905</td>\n",
       "      <td>19104</td>\n",
       "      <td>3200</td>\n",
       "      <td>0</td>\n",
       "      <td>1500</td>\n",
       "      <td>0</td>\n",
       "      <td>1650</td>\n",
       "      <td>0</td>\n",
       "      <td>1</td>\n",
       "    </tr>\n",
       "    <tr>\n",
       "      <th>21</th>\n",
       "      <td>22</td>\n",
       "      <td>120000</td>\n",
       "      <td>2</td>\n",
       "      <td>2</td>\n",
       "      <td>1</td>\n",
       "      <td>39</td>\n",
       "      <td>-1</td>\n",
       "      <td>-1</td>\n",
       "      <td>-1</td>\n",
       "      <td>-1</td>\n",
       "      <td>...</td>\n",
       "      <td>0</td>\n",
       "      <td>632</td>\n",
       "      <td>316</td>\n",
       "      <td>316</td>\n",
       "      <td>316</td>\n",
       "      <td>0</td>\n",
       "      <td>632</td>\n",
       "      <td>316</td>\n",
       "      <td>0</td>\n",
       "      <td>1</td>\n",
       "    </tr>\n",
       "    <tr>\n",
       "      <th>...</th>\n",
       "      <td>...</td>\n",
       "      <td>...</td>\n",
       "      <td>...</td>\n",
       "      <td>...</td>\n",
       "      <td>...</td>\n",
       "      <td>...</td>\n",
       "      <td>...</td>\n",
       "      <td>...</td>\n",
       "      <td>...</td>\n",
       "      <td>...</td>\n",
       "      <td>...</td>\n",
       "      <td>...</td>\n",
       "      <td>...</td>\n",
       "      <td>...</td>\n",
       "      <td>...</td>\n",
       "      <td>...</td>\n",
       "      <td>...</td>\n",
       "      <td>...</td>\n",
       "      <td>...</td>\n",
       "      <td>...</td>\n",
       "      <td>...</td>\n",
       "    </tr>\n",
       "    <tr>\n",
       "      <th>29991</th>\n",
       "      <td>29992</td>\n",
       "      <td>210000</td>\n",
       "      <td>1</td>\n",
       "      <td>2</td>\n",
       "      <td>1</td>\n",
       "      <td>34</td>\n",
       "      <td>3</td>\n",
       "      <td>2</td>\n",
       "      <td>2</td>\n",
       "      <td>2</td>\n",
       "      <td>...</td>\n",
       "      <td>2500</td>\n",
       "      <td>2500</td>\n",
       "      <td>2500</td>\n",
       "      <td>0</td>\n",
       "      <td>0</td>\n",
       "      <td>0</td>\n",
       "      <td>0</td>\n",
       "      <td>0</td>\n",
       "      <td>0</td>\n",
       "      <td>1</td>\n",
       "    </tr>\n",
       "    <tr>\n",
       "      <th>29994</th>\n",
       "      <td>29995</td>\n",
       "      <td>80000</td>\n",
       "      <td>1</td>\n",
       "      <td>2</td>\n",
       "      <td>2</td>\n",
       "      <td>34</td>\n",
       "      <td>2</td>\n",
       "      <td>2</td>\n",
       "      <td>2</td>\n",
       "      <td>2</td>\n",
       "      <td>...</td>\n",
       "      <td>77519</td>\n",
       "      <td>82607</td>\n",
       "      <td>81158</td>\n",
       "      <td>7000</td>\n",
       "      <td>3500</td>\n",
       "      <td>0</td>\n",
       "      <td>7000</td>\n",
       "      <td>0</td>\n",
       "      <td>4000</td>\n",
       "      <td>1</td>\n",
       "    </tr>\n",
       "    <tr>\n",
       "      <th>29997</th>\n",
       "      <td>29998</td>\n",
       "      <td>30000</td>\n",
       "      <td>1</td>\n",
       "      <td>2</td>\n",
       "      <td>2</td>\n",
       "      <td>37</td>\n",
       "      <td>4</td>\n",
       "      <td>3</td>\n",
       "      <td>2</td>\n",
       "      <td>-1</td>\n",
       "      <td>...</td>\n",
       "      <td>20878</td>\n",
       "      <td>20582</td>\n",
       "      <td>19357</td>\n",
       "      <td>0</td>\n",
       "      <td>0</td>\n",
       "      <td>22000</td>\n",
       "      <td>4200</td>\n",
       "      <td>2000</td>\n",
       "      <td>3100</td>\n",
       "      <td>1</td>\n",
       "    </tr>\n",
       "    <tr>\n",
       "      <th>29998</th>\n",
       "      <td>29999</td>\n",
       "      <td>80000</td>\n",
       "      <td>1</td>\n",
       "      <td>3</td>\n",
       "      <td>1</td>\n",
       "      <td>41</td>\n",
       "      <td>1</td>\n",
       "      <td>-1</td>\n",
       "      <td>0</td>\n",
       "      <td>0</td>\n",
       "      <td>...</td>\n",
       "      <td>52774</td>\n",
       "      <td>11855</td>\n",
       "      <td>48944</td>\n",
       "      <td>85900</td>\n",
       "      <td>3409</td>\n",
       "      <td>1178</td>\n",
       "      <td>1926</td>\n",
       "      <td>52964</td>\n",
       "      <td>1804</td>\n",
       "      <td>1</td>\n",
       "    </tr>\n",
       "    <tr>\n",
       "      <th>29999</th>\n",
       "      <td>30000</td>\n",
       "      <td>50000</td>\n",
       "      <td>1</td>\n",
       "      <td>2</td>\n",
       "      <td>1</td>\n",
       "      <td>46</td>\n",
       "      <td>0</td>\n",
       "      <td>0</td>\n",
       "      <td>0</td>\n",
       "      <td>0</td>\n",
       "      <td>...</td>\n",
       "      <td>36535</td>\n",
       "      <td>32428</td>\n",
       "      <td>15313</td>\n",
       "      <td>2078</td>\n",
       "      <td>1800</td>\n",
       "      <td>1430</td>\n",
       "      <td>1000</td>\n",
       "      <td>1000</td>\n",
       "      <td>1000</td>\n",
       "      <td>1</td>\n",
       "    </tr>\n",
       "  </tbody>\n",
       "</table>\n",
       "<p>6636 rows × 25 columns</p>\n",
       "</div>"
      ],
      "text/plain": [
       "          Id  TotalLoan  Gender  Education  MaritalStatus  Age  HstPaySep15  HstPayAug15  \\\n",
       "0          1      20000       2          2              1   24            2            2   \n",
       "1          2     120000       2          2              2   26           -1            2   \n",
       "13        14      70000       1          2              2   30            1            2   \n",
       "16        17      20000       1          1              2   24            0            0   \n",
       "21        22     120000       2          2              1   39           -1           -1   \n",
       "...      ...        ...     ...        ...            ...  ...          ...          ...   \n",
       "29991  29992     210000       1          2              1   34            3            2   \n",
       "29994  29995      80000       1          2              2   34            2            2   \n",
       "29997  29998      30000       1          2              2   37            4            3   \n",
       "29998  29999      80000       1          3              1   41            1           -1   \n",
       "29999  30000      50000       1          2              1   46            0            0   \n",
       "\n",
       "       HstPayJul15  HstPayJun15  ...  BillJun15  BillMay15  BillApr15  PaySep15  PayAug15  \\\n",
       "0               -1           -1  ...          0          0          0         0       689   \n",
       "1                0            0  ...       3272       3455       3261         0      1000   \n",
       "13               2            0  ...      66782      36137      36894      3200         0   \n",
       "16               2            2  ...      18338      17905      19104      3200         0   \n",
       "21              -1           -1  ...          0        632        316       316       316   \n",
       "...            ...          ...  ...        ...        ...        ...       ...       ...   \n",
       "29991            2            2  ...       2500       2500       2500         0         0   \n",
       "29994            2            2  ...      77519      82607      81158      7000      3500   \n",
       "29997            2           -1  ...      20878      20582      19357         0         0   \n",
       "29998            0            0  ...      52774      11855      48944     85900      3409   \n",
       "29999            0            0  ...      36535      32428      15313      2078      1800   \n",
       "\n",
       "       PayJul15  PayJun15  PayMay15  PayApr15  DefaultPayment  \n",
       "0             0         0         0         0               1  \n",
       "1          1000      1000         0      2000               1  \n",
       "13         3000      3000      1500         0               1  \n",
       "16         1500         0      1650         0               1  \n",
       "21            0       632       316         0               1  \n",
       "...         ...       ...       ...       ...             ...  \n",
       "29991         0         0         0         0               1  \n",
       "29994         0      7000         0      4000               1  \n",
       "29997     22000      4200      2000      3100               1  \n",
       "29998      1178      1926     52964      1804               1  \n",
       "29999      1430      1000      1000      1000               1  \n",
       "\n",
       "[6636 rows x 25 columns]"
      ]
     },
     "execution_count": 30,
     "metadata": {},
     "output_type": "execute_result"
    }
   ],
   "source": [
    "credit[filt1] #data frame is now filtered to defaulted persons "
   ]
  },
  {
   "cell_type": "code",
   "execution_count": 31,
   "metadata": {},
   "outputs": [
    {
     "data": {
      "text/html": [
       "<div>\n",
       "<style scoped>\n",
       "    .dataframe tbody tr th:only-of-type {\n",
       "        vertical-align: middle;\n",
       "    }\n",
       "\n",
       "    .dataframe tbody tr th {\n",
       "        vertical-align: top;\n",
       "    }\n",
       "\n",
       "    .dataframe thead th {\n",
       "        text-align: right;\n",
       "    }\n",
       "</style>\n",
       "<table border=\"1\" class=\"dataframe\">\n",
       "  <thead>\n",
       "    <tr style=\"text-align: right;\">\n",
       "      <th></th>\n",
       "      <th>Id</th>\n",
       "      <th>TotalLoan</th>\n",
       "      <th>Gender</th>\n",
       "      <th>Education</th>\n",
       "      <th>MaritalStatus</th>\n",
       "      <th>Age</th>\n",
       "      <th>HstPaySep15</th>\n",
       "      <th>HstPayAug15</th>\n",
       "      <th>HstPayJul15</th>\n",
       "      <th>HstPayJun15</th>\n",
       "      <th>...</th>\n",
       "      <th>BillJun15</th>\n",
       "      <th>BillMay15</th>\n",
       "      <th>BillApr15</th>\n",
       "      <th>PaySep15</th>\n",
       "      <th>PayAug15</th>\n",
       "      <th>PayJul15</th>\n",
       "      <th>PayJun15</th>\n",
       "      <th>PayMay15</th>\n",
       "      <th>PayApr15</th>\n",
       "      <th>DefaultPayment</th>\n",
       "    </tr>\n",
       "  </thead>\n",
       "  <tbody>\n",
       "    <tr>\n",
       "      <th>0</th>\n",
       "      <td>1</td>\n",
       "      <td>20000</td>\n",
       "      <td>2</td>\n",
       "      <td>2</td>\n",
       "      <td>1</td>\n",
       "      <td>24</td>\n",
       "      <td>2</td>\n",
       "      <td>2</td>\n",
       "      <td>-1</td>\n",
       "      <td>-1</td>\n",
       "      <td>...</td>\n",
       "      <td>0</td>\n",
       "      <td>0</td>\n",
       "      <td>0</td>\n",
       "      <td>0</td>\n",
       "      <td>689</td>\n",
       "      <td>0</td>\n",
       "      <td>0</td>\n",
       "      <td>0</td>\n",
       "      <td>0</td>\n",
       "      <td>1</td>\n",
       "    </tr>\n",
       "    <tr>\n",
       "      <th>1</th>\n",
       "      <td>2</td>\n",
       "      <td>120000</td>\n",
       "      <td>2</td>\n",
       "      <td>2</td>\n",
       "      <td>2</td>\n",
       "      <td>26</td>\n",
       "      <td>-1</td>\n",
       "      <td>2</td>\n",
       "      <td>0</td>\n",
       "      <td>0</td>\n",
       "      <td>...</td>\n",
       "      <td>3272</td>\n",
       "      <td>3455</td>\n",
       "      <td>3261</td>\n",
       "      <td>0</td>\n",
       "      <td>1000</td>\n",
       "      <td>1000</td>\n",
       "      <td>1000</td>\n",
       "      <td>0</td>\n",
       "      <td>2000</td>\n",
       "      <td>1</td>\n",
       "    </tr>\n",
       "    <tr>\n",
       "      <th>13</th>\n",
       "      <td>14</td>\n",
       "      <td>70000</td>\n",
       "      <td>1</td>\n",
       "      <td>2</td>\n",
       "      <td>2</td>\n",
       "      <td>30</td>\n",
       "      <td>1</td>\n",
       "      <td>2</td>\n",
       "      <td>2</td>\n",
       "      <td>0</td>\n",
       "      <td>...</td>\n",
       "      <td>66782</td>\n",
       "      <td>36137</td>\n",
       "      <td>36894</td>\n",
       "      <td>3200</td>\n",
       "      <td>0</td>\n",
       "      <td>3000</td>\n",
       "      <td>3000</td>\n",
       "      <td>1500</td>\n",
       "      <td>0</td>\n",
       "      <td>1</td>\n",
       "    </tr>\n",
       "    <tr>\n",
       "      <th>16</th>\n",
       "      <td>17</td>\n",
       "      <td>20000</td>\n",
       "      <td>1</td>\n",
       "      <td>1</td>\n",
       "      <td>2</td>\n",
       "      <td>24</td>\n",
       "      <td>0</td>\n",
       "      <td>0</td>\n",
       "      <td>2</td>\n",
       "      <td>2</td>\n",
       "      <td>...</td>\n",
       "      <td>18338</td>\n",
       "      <td>17905</td>\n",
       "      <td>19104</td>\n",
       "      <td>3200</td>\n",
       "      <td>0</td>\n",
       "      <td>1500</td>\n",
       "      <td>0</td>\n",
       "      <td>1650</td>\n",
       "      <td>0</td>\n",
       "      <td>1</td>\n",
       "    </tr>\n",
       "    <tr>\n",
       "      <th>21</th>\n",
       "      <td>22</td>\n",
       "      <td>120000</td>\n",
       "      <td>2</td>\n",
       "      <td>2</td>\n",
       "      <td>1</td>\n",
       "      <td>39</td>\n",
       "      <td>-1</td>\n",
       "      <td>-1</td>\n",
       "      <td>-1</td>\n",
       "      <td>-1</td>\n",
       "      <td>...</td>\n",
       "      <td>0</td>\n",
       "      <td>632</td>\n",
       "      <td>316</td>\n",
       "      <td>316</td>\n",
       "      <td>316</td>\n",
       "      <td>0</td>\n",
       "      <td>632</td>\n",
       "      <td>316</td>\n",
       "      <td>0</td>\n",
       "      <td>1</td>\n",
       "    </tr>\n",
       "    <tr>\n",
       "      <th>...</th>\n",
       "      <td>...</td>\n",
       "      <td>...</td>\n",
       "      <td>...</td>\n",
       "      <td>...</td>\n",
       "      <td>...</td>\n",
       "      <td>...</td>\n",
       "      <td>...</td>\n",
       "      <td>...</td>\n",
       "      <td>...</td>\n",
       "      <td>...</td>\n",
       "      <td>...</td>\n",
       "      <td>...</td>\n",
       "      <td>...</td>\n",
       "      <td>...</td>\n",
       "      <td>...</td>\n",
       "      <td>...</td>\n",
       "      <td>...</td>\n",
       "      <td>...</td>\n",
       "      <td>...</td>\n",
       "      <td>...</td>\n",
       "      <td>...</td>\n",
       "    </tr>\n",
       "    <tr>\n",
       "      <th>29991</th>\n",
       "      <td>29992</td>\n",
       "      <td>210000</td>\n",
       "      <td>1</td>\n",
       "      <td>2</td>\n",
       "      <td>1</td>\n",
       "      <td>34</td>\n",
       "      <td>3</td>\n",
       "      <td>2</td>\n",
       "      <td>2</td>\n",
       "      <td>2</td>\n",
       "      <td>...</td>\n",
       "      <td>2500</td>\n",
       "      <td>2500</td>\n",
       "      <td>2500</td>\n",
       "      <td>0</td>\n",
       "      <td>0</td>\n",
       "      <td>0</td>\n",
       "      <td>0</td>\n",
       "      <td>0</td>\n",
       "      <td>0</td>\n",
       "      <td>1</td>\n",
       "    </tr>\n",
       "    <tr>\n",
       "      <th>29994</th>\n",
       "      <td>29995</td>\n",
       "      <td>80000</td>\n",
       "      <td>1</td>\n",
       "      <td>2</td>\n",
       "      <td>2</td>\n",
       "      <td>34</td>\n",
       "      <td>2</td>\n",
       "      <td>2</td>\n",
       "      <td>2</td>\n",
       "      <td>2</td>\n",
       "      <td>...</td>\n",
       "      <td>77519</td>\n",
       "      <td>82607</td>\n",
       "      <td>81158</td>\n",
       "      <td>7000</td>\n",
       "      <td>3500</td>\n",
       "      <td>0</td>\n",
       "      <td>7000</td>\n",
       "      <td>0</td>\n",
       "      <td>4000</td>\n",
       "      <td>1</td>\n",
       "    </tr>\n",
       "    <tr>\n",
       "      <th>29997</th>\n",
       "      <td>29998</td>\n",
       "      <td>30000</td>\n",
       "      <td>1</td>\n",
       "      <td>2</td>\n",
       "      <td>2</td>\n",
       "      <td>37</td>\n",
       "      <td>4</td>\n",
       "      <td>3</td>\n",
       "      <td>2</td>\n",
       "      <td>-1</td>\n",
       "      <td>...</td>\n",
       "      <td>20878</td>\n",
       "      <td>20582</td>\n",
       "      <td>19357</td>\n",
       "      <td>0</td>\n",
       "      <td>0</td>\n",
       "      <td>22000</td>\n",
       "      <td>4200</td>\n",
       "      <td>2000</td>\n",
       "      <td>3100</td>\n",
       "      <td>1</td>\n",
       "    </tr>\n",
       "    <tr>\n",
       "      <th>29998</th>\n",
       "      <td>29999</td>\n",
       "      <td>80000</td>\n",
       "      <td>1</td>\n",
       "      <td>3</td>\n",
       "      <td>1</td>\n",
       "      <td>41</td>\n",
       "      <td>1</td>\n",
       "      <td>-1</td>\n",
       "      <td>0</td>\n",
       "      <td>0</td>\n",
       "      <td>...</td>\n",
       "      <td>52774</td>\n",
       "      <td>11855</td>\n",
       "      <td>48944</td>\n",
       "      <td>85900</td>\n",
       "      <td>3409</td>\n",
       "      <td>1178</td>\n",
       "      <td>1926</td>\n",
       "      <td>52964</td>\n",
       "      <td>1804</td>\n",
       "      <td>1</td>\n",
       "    </tr>\n",
       "    <tr>\n",
       "      <th>29999</th>\n",
       "      <td>30000</td>\n",
       "      <td>50000</td>\n",
       "      <td>1</td>\n",
       "      <td>2</td>\n",
       "      <td>1</td>\n",
       "      <td>46</td>\n",
       "      <td>0</td>\n",
       "      <td>0</td>\n",
       "      <td>0</td>\n",
       "      <td>0</td>\n",
       "      <td>...</td>\n",
       "      <td>36535</td>\n",
       "      <td>32428</td>\n",
       "      <td>15313</td>\n",
       "      <td>2078</td>\n",
       "      <td>1800</td>\n",
       "      <td>1430</td>\n",
       "      <td>1000</td>\n",
       "      <td>1000</td>\n",
       "      <td>1000</td>\n",
       "      <td>1</td>\n",
       "    </tr>\n",
       "  </tbody>\n",
       "</table>\n",
       "<p>6636 rows × 25 columns</p>\n",
       "</div>"
      ],
      "text/plain": [
       "          Id  TotalLoan  Gender  Education  MaritalStatus  Age  HstPaySep15  HstPayAug15  \\\n",
       "0          1      20000       2          2              1   24            2            2   \n",
       "1          2     120000       2          2              2   26           -1            2   \n",
       "13        14      70000       1          2              2   30            1            2   \n",
       "16        17      20000       1          1              2   24            0            0   \n",
       "21        22     120000       2          2              1   39           -1           -1   \n",
       "...      ...        ...     ...        ...            ...  ...          ...          ...   \n",
       "29991  29992     210000       1          2              1   34            3            2   \n",
       "29994  29995      80000       1          2              2   34            2            2   \n",
       "29997  29998      30000       1          2              2   37            4            3   \n",
       "29998  29999      80000       1          3              1   41            1           -1   \n",
       "29999  30000      50000       1          2              1   46            0            0   \n",
       "\n",
       "       HstPayJul15  HstPayJun15  ...  BillJun15  BillMay15  BillApr15  PaySep15  PayAug15  \\\n",
       "0               -1           -1  ...          0          0          0         0       689   \n",
       "1                0            0  ...       3272       3455       3261         0      1000   \n",
       "13               2            0  ...      66782      36137      36894      3200         0   \n",
       "16               2            2  ...      18338      17905      19104      3200         0   \n",
       "21              -1           -1  ...          0        632        316       316       316   \n",
       "...            ...          ...  ...        ...        ...        ...       ...       ...   \n",
       "29991            2            2  ...       2500       2500       2500         0         0   \n",
       "29994            2            2  ...      77519      82607      81158      7000      3500   \n",
       "29997            2           -1  ...      20878      20582      19357         0         0   \n",
       "29998            0            0  ...      52774      11855      48944     85900      3409   \n",
       "29999            0            0  ...      36535      32428      15313      2078      1800   \n",
       "\n",
       "       PayJul15  PayJun15  PayMay15  PayApr15  DefaultPayment  \n",
       "0             0         0         0         0               1  \n",
       "1          1000      1000         0      2000               1  \n",
       "13         3000      3000      1500         0               1  \n",
       "16         1500         0      1650         0               1  \n",
       "21            0       632       316         0               1  \n",
       "...         ...       ...       ...       ...             ...  \n",
       "29991         0         0         0         0               1  \n",
       "29994         0      7000         0      4000               1  \n",
       "29997     22000      4200      2000      3100               1  \n",
       "29998      1178      1926     52964      1804               1  \n",
       "29999      1430      1000      1000      1000               1  \n",
       "\n",
       "[6636 rows x 25 columns]"
      ]
     },
     "execution_count": 31,
     "metadata": {},
     "output_type": "execute_result"
    }
   ],
   "source": [
    "#creating a new dataframe \n",
    "credit1 = pd.DataFrame(credit[filt1])\n",
    "credit1"
   ]
  },
  {
   "cell_type": "code",
   "execution_count": 32,
   "metadata": {},
   "outputs": [
    {
     "data": {
      "text/plain": [
       "Gender\n",
       "1    2873\n",
       "2    3763\n",
       "Name: Gender, dtype: int64"
      ]
     },
     "execution_count": 32,
     "metadata": {},
     "output_type": "execute_result"
    }
   ],
   "source": [
    "# group description by gender \n",
    "# (1 = male; 2 = female)\n",
    "credit1.groupby('Gender')['Gender'].count()"
   ]
  },
  {
   "cell_type": "code",
   "execution_count": 33,
   "metadata": {},
   "outputs": [
    {
     "data": {
      "text/plain": [
       "<seaborn.axisgrid.FacetGrid at 0x21ef17e1f48>"
      ]
     },
     "execution_count": 33,
     "metadata": {},
     "output_type": "execute_result"
    },
    {
     "data": {
      "image/png": "[encoded data removed]",
      "text/plain": [
       "<Figure size 306x360 with 1 Axes>"
      ]
     },
     "metadata": {
      "needs_background": "light"
     },
     "output_type": "display_data"
    }
   ],
   "source": [
    "fg = sns.catplot('Gender', data=credit1, kind='count', aspect=.85)\n",
    "fg.set_xlabels('Gender')\n",
    "fg.set_ylabels('Gender Count')"
   ]
  },
  {
   "cell_type": "code",
   "execution_count": 34,
   "metadata": {},
   "outputs": [
    {
     "data": {
      "text/plain": [
       "Education\n",
       "1    2036\n",
       "2    3330\n",
       "3    1237\n",
       "4       7\n",
       "5      18\n",
       "6       8\n",
       "Name: Education, dtype: int64"
      ]
     },
     "execution_count": 34,
     "metadata": {},
     "output_type": "execute_result"
    }
   ],
   "source": [
    "#group by education \n",
    "credit1.groupby('Education')['Education'].count()"
   ]
  },
  {
   "cell_type": "code",
   "execution_count": 35,
   "metadata": {},
   "outputs": [
    {
     "data": {
      "text/plain": [
       "<seaborn.axisgrid.FacetGrid at 0x21ef17c4a88>"
      ]
     },
     "execution_count": 35,
     "metadata": {},
     "output_type": "execute_result"
    },
    {
     "data": {
      "image/png": "[encoded data removed]",
      "text/plain": [
       "<Figure size 306x360 with 1 Axes>"
      ]
     },
     "metadata": {
      "needs_background": "light"
     },
     "output_type": "display_data"
    }
   ],
   "source": [
    "fg = sns.catplot('Education', data=credit1, kind='count', aspect=.85)\n",
    "fg.set_xlabels('Education')\n",
    "fg.set_ylabels('Education Level Count')"
   ]
  },
  {
   "cell_type": "code",
   "execution_count": 36,
   "metadata": {},
   "outputs": [
    {
     "data": {
      "text/plain": [
       "MaritalStatus\n",
       "0       5\n",
       "1    3206\n",
       "2    3341\n",
       "3      84\n",
       "Name: MaritalStatus, dtype: int64"
      ]
     },
     "execution_count": 36,
     "metadata": {},
     "output_type": "execute_result"
    }
   ],
   "source": [
    "#Group by Marital Status\n",
    "credit1.groupby('MaritalStatus')['MaritalStatus'].count()"
   ]
  },
  {
   "cell_type": "code",
   "execution_count": 37,
   "metadata": {},
   "outputs": [
    {
     "data": {
      "text/plain": [
       "<seaborn.axisgrid.FacetGrid at 0x21ef1c66808>"
      ]
     },
     "execution_count": 37,
     "metadata": {},
     "output_type": "execute_result"
    },
    {
     "data": {
      "image/png": "[encoded data removed]",
      "text/plain": [
       "<Figure size 306x360 with 1 Axes>"
      ]
     },
     "metadata": {
      "needs_background": "light"
     },
     "output_type": "display_data"
    }
   ],
   "source": [
    "fg = sns.catplot('MaritalStatus', data=credit1, kind='count', aspect=.85)\n",
    "fg.set_xlabels('MaritalStatus')\n",
    "fg.set_ylabels('Marital Status Count')"
   ]
  },
  {
   "cell_type": "code",
   "execution_count": 38,
   "metadata": {},
   "outputs": [
    {
     "data": {
      "text/plain": [
       "Gender  Education\n",
       "1       1             906\n",
       "        2            1408\n",
       "        3             545\n",
       "        4               4\n",
       "        5               6\n",
       "        6               4\n",
       "2       1            1130\n",
       "        2            1922\n",
       "        3             692\n",
       "        4               3\n",
       "        5              12\n",
       "        6               4\n",
       "Name: Gender, dtype: int64"
      ]
     },
     "execution_count": 38,
     "metadata": {},
     "output_type": "execute_result"
    }
   ],
   "source": [
    "# Educational distribution by gender\n",
    "credit1.groupby(['Gender','Education'])['Gender'].count()"
   ]
  },
  {
   "cell_type": "code",
   "execution_count": 39,
   "metadata": {},
   "outputs": [
    {
     "data": {
      "text/plain": [
       "<seaborn.axisgrid.FacetGrid at 0x21ef1cb2888>"
      ]
     },
     "execution_count": 39,
     "metadata": {},
     "output_type": "execute_result"
    },
    {
     "data": {
      "image/png": "[encoded data removed]",
      "text/plain": [
       "<Figure size 597.75x360 with 1 Axes>"
      ]
     },
     "metadata": {
      "needs_background": "light"
     },
     "output_type": "display_data"
    }
   ],
   "source": [
    "g = sns.catplot('Gender', data=credit1, hue='Education', kind='count', aspect=1.5)\n",
    "g.set_xlabels('Education')\n",
    "g.set_ylabels('Gender Count By Education Level')"
   ]
  },
  {
   "cell_type": "code",
   "execution_count": 40,
   "metadata": {},
   "outputs": [
    {
     "data": {
      "text/plain": [
       "Gender  MaritalStatus\n",
       "1       0                   2\n",
       "        1                1346\n",
       "        2                1485\n",
       "        3                  40\n",
       "2       0                   3\n",
       "        1                1860\n",
       "        2                1856\n",
       "        3                  44\n",
       "Name: Gender, dtype: int64"
      ]
     },
     "execution_count": 40,
     "metadata": {},
     "output_type": "execute_result"
    }
   ],
   "source": [
    "# Marital Status distribution by Gender\n",
    "credit1.groupby(['Gender','MaritalStatus'])['Gender'].count()"
   ]
  },
  {
   "cell_type": "code",
   "execution_count": 41,
   "metadata": {},
   "outputs": [
    {
     "data": {
      "text/plain": [
       "<seaborn.axisgrid.FacetGrid at 0x21ef1ebd308>"
      ]
     },
     "execution_count": 41,
     "metadata": {},
     "output_type": "execute_result"
    },
    {
     "data": {
      "image/png": "[encoded data removed]",
      "text/plain": [
       "<Figure size 614.375x360 with 1 Axes>"
      ]
     },
     "metadata": {
      "needs_background": "light"
     },
     "output_type": "display_data"
    }
   ],
   "source": [
    "g = sns.catplot('Gender', data=credit1, hue='MaritalStatus', kind='count', aspect=1.5)\n",
    "g.set_xlabels('Gender')\n",
    "g.set_ylabels('Gender Count By Marital Status')"
   ]
  },
  {
   "cell_type": "code",
   "execution_count": 42,
   "metadata": {},
   "outputs": [
    {
     "ename": "TypeError",
     "evalue": "float() argument must be a string or a number, not 'AxesSubplot'",
     "output_type": "error",
     "traceback": [
      "\u001b[1;31m---------------------------------------------------------------------------\u001b[0m",
      "\u001b[1;31mTypeError\u001b[0m                                 Traceback (most recent call last)",
      "\u001b[1;32m<ipython-input-42-6431eae52d2c>\u001b[0m in \u001b[0;36m<module>\u001b[1;34m\u001b[0m\n\u001b[0;32m      2\u001b[0m \u001b[0mcredit1pc\u001b[0m \u001b[1;33m=\u001b[0m \u001b[0mcredit1\u001b[0m\u001b[1;33m.\u001b[0m\u001b[0miloc\u001b[0m\u001b[1;33m[\u001b[0m\u001b[1;33m:\u001b[0m\u001b[1;33m,\u001b[0m\u001b[1;36m1\u001b[0m\u001b[1;33m:\u001b[0m\u001b[1;33m]\u001b[0m\u001b[1;33m\u001b[0m\u001b[1;33m\u001b[0m\u001b[0m\n\u001b[0;32m      3\u001b[0m \u001b[0mplt\u001b[0m\u001b[1;33m.\u001b[0m\u001b[0mfigure\u001b[0m\u001b[1;33m(\u001b[0m\u001b[0mfigsize\u001b[0m\u001b[1;33m=\u001b[0m\u001b[1;33m(\u001b[0m\u001b[1;36m9\u001b[0m\u001b[1;33m,\u001b[0m \u001b[1;36m8\u001b[0m\u001b[1;33m)\u001b[0m\u001b[1;33m)\u001b[0m\u001b[1;33m\u001b[0m\u001b[1;33m\u001b[0m\u001b[0m\n\u001b[1;32m----> 4\u001b[1;33m \u001b[0msns\u001b[0m\u001b[1;33m.\u001b[0m\u001b[0mdistplot\u001b[0m\u001b[1;33m(\u001b[0m\u001b[0mcredit1pc\u001b[0m\u001b[1;33m.\u001b[0m\u001b[0mhist\u001b[0m\u001b[1;33m(\u001b[0m\u001b[0mfigsize\u001b[0m\u001b[1;33m=\u001b[0m\u001b[1;33m(\u001b[0m\u001b[1;36m16\u001b[0m\u001b[1;33m,\u001b[0m \u001b[1;36m20\u001b[0m\u001b[1;33m)\u001b[0m\u001b[1;33m,\u001b[0m \u001b[0mbins\u001b[0m\u001b[1;33m=\u001b[0m\u001b[1;36m6\u001b[0m\u001b[1;33m,\u001b[0m \u001b[0mxlabelsize\u001b[0m\u001b[1;33m=\u001b[0m\u001b[1;36m10\u001b[0m\u001b[1;33m,\u001b[0m \u001b[0mylabelsize\u001b[0m\u001b[1;33m=\u001b[0m\u001b[1;36m10\u001b[0m\u001b[1;33m)\u001b[0m\u001b[1;33m)\u001b[0m\u001b[1;33m;\u001b[0m\u001b[1;33m\u001b[0m\u001b[1;33m\u001b[0m\u001b[0m\n\u001b[0m",
      "\u001b[1;32m~\\anaconda3\\lib\\site-packages\\seaborn\\distributions.py\u001b[0m in \u001b[0;36mdistplot\u001b[1;34m(a, bins, hist, kde, rug, fit, hist_kws, kde_kws, rug_kws, fit_kws, color, vertical, norm_hist, axlabel, label, ax)\u001b[0m\n\u001b[0;32m    177\u001b[0m \u001b[1;33m\u001b[0m\u001b[0m\n\u001b[0;32m    178\u001b[0m     \u001b[1;31m# Make a a 1-d float array\u001b[0m\u001b[1;33m\u001b[0m\u001b[1;33m\u001b[0m\u001b[1;33m\u001b[0m\u001b[0m\n\u001b[1;32m--> 179\u001b[1;33m     \u001b[0ma\u001b[0m \u001b[1;33m=\u001b[0m \u001b[0mnp\u001b[0m\u001b[1;33m.\u001b[0m\u001b[0masarray\u001b[0m\u001b[1;33m(\u001b[0m\u001b[0ma\u001b[0m\u001b[1;33m,\u001b[0m \u001b[0mnp\u001b[0m\u001b[1;33m.\u001b[0m\u001b[0mfloat\u001b[0m\u001b[1;33m)\u001b[0m\u001b[1;33m\u001b[0m\u001b[1;33m\u001b[0m\u001b[0m\n\u001b[0m\u001b[0;32m    180\u001b[0m     \u001b[1;32mif\u001b[0m \u001b[0ma\u001b[0m\u001b[1;33m.\u001b[0m\u001b[0mndim\u001b[0m \u001b[1;33m>\u001b[0m \u001b[1;36m1\u001b[0m\u001b[1;33m:\u001b[0m\u001b[1;33m\u001b[0m\u001b[1;33m\u001b[0m\u001b[0m\n\u001b[0;32m    181\u001b[0m         \u001b[0ma\u001b[0m \u001b[1;33m=\u001b[0m \u001b[0ma\u001b[0m\u001b[1;33m.\u001b[0m\u001b[0msqueeze\u001b[0m\u001b[1;33m(\u001b[0m\u001b[1;33m)\u001b[0m\u001b[1;33m\u001b[0m\u001b[1;33m\u001b[0m\u001b[0m\n",
      "\u001b[1;32m~\\anaconda3\\lib\\site-packages\\numpy\\core\\_asarray.py\u001b[0m in \u001b[0;36masarray\u001b[1;34m(a, dtype, order)\u001b[0m\n\u001b[0;32m     83\u001b[0m \u001b[1;33m\u001b[0m\u001b[0m\n\u001b[0;32m     84\u001b[0m     \"\"\"\n\u001b[1;32m---> 85\u001b[1;33m     \u001b[1;32mreturn\u001b[0m \u001b[0marray\u001b[0m\u001b[1;33m(\u001b[0m\u001b[0ma\u001b[0m\u001b[1;33m,\u001b[0m \u001b[0mdtype\u001b[0m\u001b[1;33m,\u001b[0m \u001b[0mcopy\u001b[0m\u001b[1;33m=\u001b[0m\u001b[1;32mFalse\u001b[0m\u001b[1;33m,\u001b[0m \u001b[0morder\u001b[0m\u001b[1;33m=\u001b[0m\u001b[0morder\u001b[0m\u001b[1;33m)\u001b[0m\u001b[1;33m\u001b[0m\u001b[1;33m\u001b[0m\u001b[0m\n\u001b[0m\u001b[0;32m     86\u001b[0m \u001b[1;33m\u001b[0m\u001b[0m\n\u001b[0;32m     87\u001b[0m \u001b[1;33m\u001b[0m\u001b[0m\n",
      "\u001b[1;31mTypeError\u001b[0m: float() argument must be a string or a number, not 'AxesSubplot'"
     ]
    },
    {
     "data": {
      "text/plain": [
       "<Figure size 648x576 with 0 Axes>"
      ]
     },
     "metadata": {},
     "output_type": "display_data"
    },
    {
     "data": {
      "image/png": "[encoded data removed]",
      "text/plain": [
       "<Figure size 1152x1440 with 25 Axes>"
      ]
     },
     "metadata": {
      "needs_background": "light"
     },
     "output_type": "display_data"
    }
   ],
   "source": [
    "# plot all columns credit1\n",
    "credit1pc = credit1.iloc[:,1:]\n",
    "plt.figure(figsize=(9, 8))\n",
    "sns.distplot(credit1pc.hist(figsize=(16, 20), bins=6, xlabelsize=10, ylabelsize=10));"
   ]
  },
  {
   "cell_type": "code",
   "execution_count": 43,
   "metadata": {},
   "outputs": [
    {
     "data": {
      "text/html": [
       "<div>\n",
       "<style scoped>\n",
       "    .dataframe tbody tr th:only-of-type {\n",
       "        vertical-align: middle;\n",
       "    }\n",
       "\n",
       "    .dataframe tbody tr th {\n",
       "        vertical-align: top;\n",
       "    }\n",
       "\n",
       "    .dataframe thead th {\n",
       "        text-align: right;\n",
       "    }\n",
       "</style>\n",
       "<table border=\"1\" class=\"dataframe\">\n",
       "  <thead>\n",
       "    <tr style=\"text-align: right;\">\n",
       "      <th></th>\n",
       "      <th>Id</th>\n",
       "      <th>TotalLoan</th>\n",
       "      <th>Gender</th>\n",
       "      <th>Education</th>\n",
       "      <th>MaritalStatus</th>\n",
       "      <th>Age</th>\n",
       "      <th>HstPaySep15</th>\n",
       "      <th>HstPayAug15</th>\n",
       "      <th>HstPayJul15</th>\n",
       "      <th>HstPayJun15</th>\n",
       "      <th>...</th>\n",
       "      <th>BillJun15</th>\n",
       "      <th>BillMay15</th>\n",
       "      <th>BillApr15</th>\n",
       "      <th>PaySep15</th>\n",
       "      <th>PayAug15</th>\n",
       "      <th>PayJul15</th>\n",
       "      <th>PayJun15</th>\n",
       "      <th>PayMay15</th>\n",
       "      <th>PayApr15</th>\n",
       "      <th>DefaultPayment</th>\n",
       "    </tr>\n",
       "  </thead>\n",
       "  <tbody>\n",
       "    <tr>\n",
       "      <th>count</th>\n",
       "      <td>6636.000</td>\n",
       "      <td>6636.000</td>\n",
       "      <td>6636.000</td>\n",
       "      <td>6636.000</td>\n",
       "      <td>6636.000</td>\n",
       "      <td>6636.000</td>\n",
       "      <td>6636.000</td>\n",
       "      <td>6636.000</td>\n",
       "      <td>6636.000</td>\n",
       "      <td>6636.000</td>\n",
       "      <td>...</td>\n",
       "      <td>6636.000</td>\n",
       "      <td>6636.000</td>\n",
       "      <td>6636.000</td>\n",
       "      <td>6636.000</td>\n",
       "      <td>6636.000</td>\n",
       "      <td>6636.000</td>\n",
       "      <td>6636.000</td>\n",
       "      <td>6636.000</td>\n",
       "      <td>6636.000</td>\n",
       "      <td>6636.0</td>\n",
       "    </tr>\n",
       "    <tr>\n",
       "      <th>mean</th>\n",
       "      <td>14773.782</td>\n",
       "      <td>130109.656</td>\n",
       "      <td>1.567</td>\n",
       "      <td>1.895</td>\n",
       "      <td>1.528</td>\n",
       "      <td>35.726</td>\n",
       "      <td>0.668</td>\n",
       "      <td>0.458</td>\n",
       "      <td>0.362</td>\n",
       "      <td>0.255</td>\n",
       "      <td>...</td>\n",
       "      <td>42036.951</td>\n",
       "      <td>39540.190</td>\n",
       "      <td>38271.436</td>\n",
       "      <td>3397.044</td>\n",
       "      <td>3388.650</td>\n",
       "      <td>3367.352</td>\n",
       "      <td>3155.627</td>\n",
       "      <td>3219.140</td>\n",
       "      <td>3441.482</td>\n",
       "      <td>1.0</td>\n",
       "    </tr>\n",
       "    <tr>\n",
       "      <th>std</th>\n",
       "      <td>8571.617</td>\n",
       "      <td>115378.541</td>\n",
       "      <td>0.496</td>\n",
       "      <td>0.728</td>\n",
       "      <td>0.525</td>\n",
       "      <td>9.693</td>\n",
       "      <td>1.383</td>\n",
       "      <td>1.502</td>\n",
       "      <td>1.499</td>\n",
       "      <td>1.509</td>\n",
       "      <td>...</td>\n",
       "      <td>64351.076</td>\n",
       "      <td>61424.696</td>\n",
       "      <td>59579.674</td>\n",
       "      <td>9544.252</td>\n",
       "      <td>11737.986</td>\n",
       "      <td>12959.624</td>\n",
       "      <td>11191.973</td>\n",
       "      <td>11944.731</td>\n",
       "      <td>13464.006</td>\n",
       "      <td>0.0</td>\n",
       "    </tr>\n",
       "    <tr>\n",
       "      <th>min</th>\n",
       "      <td>1.000</td>\n",
       "      <td>10000.000</td>\n",
       "      <td>1.000</td>\n",
       "      <td>1.000</td>\n",
       "      <td>0.000</td>\n",
       "      <td>21.000</td>\n",
       "      <td>-2.000</td>\n",
       "      <td>-2.000</td>\n",
       "      <td>-2.000</td>\n",
       "      <td>-2.000</td>\n",
       "      <td>...</td>\n",
       "      <td>-65167.000</td>\n",
       "      <td>-53007.000</td>\n",
       "      <td>-339603.000</td>\n",
       "      <td>0.000</td>\n",
       "      <td>0.000</td>\n",
       "      <td>0.000</td>\n",
       "      <td>0.000</td>\n",
       "      <td>0.000</td>\n",
       "      <td>0.000</td>\n",
       "      <td>1.0</td>\n",
       "    </tr>\n",
       "    <tr>\n",
       "      <th>25%</th>\n",
       "      <td>7408.500</td>\n",
       "      <td>50000.000</td>\n",
       "      <td>1.000</td>\n",
       "      <td>1.000</td>\n",
       "      <td>1.000</td>\n",
       "      <td>28.000</td>\n",
       "      <td>0.000</td>\n",
       "      <td>0.000</td>\n",
       "      <td>-1.000</td>\n",
       "      <td>-1.000</td>\n",
       "      <td>...</td>\n",
       "      <td>2141.500</td>\n",
       "      <td>1502.750</td>\n",
       "      <td>1150.000</td>\n",
       "      <td>0.000</td>\n",
       "      <td>0.000</td>\n",
       "      <td>0.000</td>\n",
       "      <td>0.000</td>\n",
       "      <td>0.000</td>\n",
       "      <td>0.000</td>\n",
       "      <td>1.0</td>\n",
       "    </tr>\n",
       "    <tr>\n",
       "      <th>50%</th>\n",
       "      <td>14758.500</td>\n",
       "      <td>90000.000</td>\n",
       "      <td>2.000</td>\n",
       "      <td>2.000</td>\n",
       "      <td>2.000</td>\n",
       "      <td>34.000</td>\n",
       "      <td>1.000</td>\n",
       "      <td>0.000</td>\n",
       "      <td>0.000</td>\n",
       "      <td>0.000</td>\n",
       "      <td>...</td>\n",
       "      <td>19119.500</td>\n",
       "      <td>18478.500</td>\n",
       "      <td>18028.500</td>\n",
       "      <td>1636.000</td>\n",
       "      <td>1533.500</td>\n",
       "      <td>1222.000</td>\n",
       "      <td>1000.000</td>\n",
       "      <td>1000.000</td>\n",
       "      <td>1000.000</td>\n",
       "      <td>1.0</td>\n",
       "    </tr>\n",
       "    <tr>\n",
       "      <th>75%</th>\n",
       "      <td>21831.750</td>\n",
       "      <td>200000.000</td>\n",
       "      <td>2.000</td>\n",
       "      <td>2.000</td>\n",
       "      <td>2.000</td>\n",
       "      <td>42.000</td>\n",
       "      <td>2.000</td>\n",
       "      <td>2.000</td>\n",
       "      <td>2.000</td>\n",
       "      <td>2.000</td>\n",
       "      <td>...</td>\n",
       "      <td>50175.750</td>\n",
       "      <td>47853.000</td>\n",
       "      <td>47424.000</td>\n",
       "      <td>3478.250</td>\n",
       "      <td>3309.750</td>\n",
       "      <td>3000.000</td>\n",
       "      <td>2939.250</td>\n",
       "      <td>3000.000</td>\n",
       "      <td>2974.500</td>\n",
       "      <td>1.0</td>\n",
       "    </tr>\n",
       "    <tr>\n",
       "      <th>max</th>\n",
       "      <td>30000.000</td>\n",
       "      <td>740000.000</td>\n",
       "      <td>2.000</td>\n",
       "      <td>6.000</td>\n",
       "      <td>3.000</td>\n",
       "      <td>75.000</td>\n",
       "      <td>8.000</td>\n",
       "      <td>7.000</td>\n",
       "      <td>8.000</td>\n",
       "      <td>8.000</td>\n",
       "      <td>...</td>\n",
       "      <td>548020.000</td>\n",
       "      <td>547880.000</td>\n",
       "      <td>514975.000</td>\n",
       "      <td>300000.000</td>\n",
       "      <td>358689.000</td>\n",
       "      <td>508229.000</td>\n",
       "      <td>432130.000</td>\n",
       "      <td>332000.000</td>\n",
       "      <td>345293.000</td>\n",
       "      <td>1.0</td>\n",
       "    </tr>\n",
       "  </tbody>\n",
       "</table>\n",
       "<p>8 rows × 25 columns</p>\n",
       "</div>"
      ],
      "text/plain": [
       "              Id   TotalLoan    Gender  Education  MaritalStatus       Age  HstPaySep15  \\\n",
       "count   6636.000    6636.000  6636.000   6636.000       6636.000  6636.000     6636.000   \n",
       "mean   14773.782  130109.656     1.567      1.895          1.528    35.726        0.668   \n",
       "std     8571.617  115378.541     0.496      0.728          0.525     9.693        1.383   \n",
       "min        1.000   10000.000     1.000      1.000          0.000    21.000       -2.000   \n",
       "25%     7408.500   50000.000     1.000      1.000          1.000    28.000        0.000   \n",
       "50%    14758.500   90000.000     2.000      2.000          2.000    34.000        1.000   \n",
       "75%    21831.750  200000.000     2.000      2.000          2.000    42.000        2.000   \n",
       "max    30000.000  740000.000     2.000      6.000          3.000    75.000        8.000   \n",
       "\n",
       "       HstPayAug15  HstPayJul15  HstPayJun15  ...   BillJun15   BillMay15   BillApr15    PaySep15  \\\n",
       "count     6636.000     6636.000     6636.000  ...    6636.000    6636.000    6636.000    6636.000   \n",
       "mean         0.458        0.362        0.255  ...   42036.951   39540.190   38271.436    3397.044   \n",
       "std          1.502        1.499        1.509  ...   64351.076   61424.696   59579.674    9544.252   \n",
       "min         -2.000       -2.000       -2.000  ...  -65167.000  -53007.000 -339603.000       0.000   \n",
       "25%          0.000       -1.000       -1.000  ...    2141.500    1502.750    1150.000       0.000   \n",
       "50%          0.000        0.000        0.000  ...   19119.500   18478.500   18028.500    1636.000   \n",
       "75%          2.000        2.000        2.000  ...   50175.750   47853.000   47424.000    3478.250   \n",
       "max          7.000        8.000        8.000  ...  548020.000  547880.000  514975.000  300000.000   \n",
       "\n",
       "         PayAug15    PayJul15    PayJun15    PayMay15    PayApr15  DefaultPayment  \n",
       "count    6636.000    6636.000    6636.000    6636.000    6636.000          6636.0  \n",
       "mean     3388.650    3367.352    3155.627    3219.140    3441.482             1.0  \n",
       "std     11737.986   12959.624   11191.973   11944.731   13464.006             0.0  \n",
       "min         0.000       0.000       0.000       0.000       0.000             1.0  \n",
       "25%         0.000       0.000       0.000       0.000       0.000             1.0  \n",
       "50%      1533.500    1222.000    1000.000    1000.000    1000.000             1.0  \n",
       "75%      3309.750    3000.000    2939.250    3000.000    2974.500             1.0  \n",
       "max    358689.000  508229.000  432130.000  332000.000  345293.000             1.0  \n",
       "\n",
       "[8 rows x 25 columns]"
      ]
     },
     "execution_count": 43,
     "metadata": {},
     "output_type": "execute_result"
    }
   ],
   "source": [
    "credit1.describe()"
   ]
  },
  {
   "cell_type": "markdown",
   "metadata": {},
   "source": [
    "# Subsetting Data where DefaultPayment = 0 (i.e. Paid)\n"
   ]
  },
  {
   "cell_type": "code",
   "execution_count": 44,
   "metadata": {},
   "outputs": [
    {
     "data": {
      "text/html": [
       "<div>\n",
       "<style scoped>\n",
       "    .dataframe tbody tr th:only-of-type {\n",
       "        vertical-align: middle;\n",
       "    }\n",
       "\n",
       "    .dataframe tbody tr th {\n",
       "        vertical-align: top;\n",
       "    }\n",
       "\n",
       "    .dataframe thead th {\n",
       "        text-align: right;\n",
       "    }\n",
       "</style>\n",
       "<table border=\"1\" class=\"dataframe\">\n",
       "  <thead>\n",
       "    <tr style=\"text-align: right;\">\n",
       "      <th></th>\n",
       "      <th>Id</th>\n",
       "      <th>TotalLoan</th>\n",
       "      <th>Gender</th>\n",
       "      <th>Education</th>\n",
       "      <th>MaritalStatus</th>\n",
       "      <th>Age</th>\n",
       "      <th>HstPaySep15</th>\n",
       "      <th>HstPayAug15</th>\n",
       "      <th>HstPayJul15</th>\n",
       "      <th>HstPayJun15</th>\n",
       "      <th>...</th>\n",
       "      <th>BillJun15</th>\n",
       "      <th>BillMay15</th>\n",
       "      <th>BillApr15</th>\n",
       "      <th>PaySep15</th>\n",
       "      <th>PayAug15</th>\n",
       "      <th>PayJul15</th>\n",
       "      <th>PayJun15</th>\n",
       "      <th>PayMay15</th>\n",
       "      <th>PayApr15</th>\n",
       "      <th>DefaultPayment</th>\n",
       "    </tr>\n",
       "  </thead>\n",
       "  <tbody>\n",
       "    <tr>\n",
       "      <th>2</th>\n",
       "      <td>3</td>\n",
       "      <td>90000</td>\n",
       "      <td>2</td>\n",
       "      <td>2</td>\n",
       "      <td>2</td>\n",
       "      <td>34</td>\n",
       "      <td>0</td>\n",
       "      <td>0</td>\n",
       "      <td>0</td>\n",
       "      <td>0</td>\n",
       "      <td>...</td>\n",
       "      <td>14331</td>\n",
       "      <td>14948</td>\n",
       "      <td>15549</td>\n",
       "      <td>1518</td>\n",
       "      <td>1500</td>\n",
       "      <td>1000</td>\n",
       "      <td>1000</td>\n",
       "      <td>1000</td>\n",
       "      <td>5000</td>\n",
       "      <td>0</td>\n",
       "    </tr>\n",
       "    <tr>\n",
       "      <th>3</th>\n",
       "      <td>4</td>\n",
       "      <td>50000</td>\n",
       "      <td>2</td>\n",
       "      <td>2</td>\n",
       "      <td>1</td>\n",
       "      <td>37</td>\n",
       "      <td>0</td>\n",
       "      <td>0</td>\n",
       "      <td>0</td>\n",
       "      <td>0</td>\n",
       "      <td>...</td>\n",
       "      <td>28314</td>\n",
       "      <td>28959</td>\n",
       "      <td>29547</td>\n",
       "      <td>2000</td>\n",
       "      <td>2019</td>\n",
       "      <td>1200</td>\n",
       "      <td>1100</td>\n",
       "      <td>1069</td>\n",
       "      <td>1000</td>\n",
       "      <td>0</td>\n",
       "    </tr>\n",
       "    <tr>\n",
       "      <th>4</th>\n",
       "      <td>5</td>\n",
       "      <td>50000</td>\n",
       "      <td>1</td>\n",
       "      <td>2</td>\n",
       "      <td>1</td>\n",
       "      <td>57</td>\n",
       "      <td>-1</td>\n",
       "      <td>0</td>\n",
       "      <td>-1</td>\n",
       "      <td>0</td>\n",
       "      <td>...</td>\n",
       "      <td>20940</td>\n",
       "      <td>19146</td>\n",
       "      <td>19131</td>\n",
       "      <td>2000</td>\n",
       "      <td>36681</td>\n",
       "      <td>10000</td>\n",
       "      <td>9000</td>\n",
       "      <td>689</td>\n",
       "      <td>679</td>\n",
       "      <td>0</td>\n",
       "    </tr>\n",
       "    <tr>\n",
       "      <th>5</th>\n",
       "      <td>6</td>\n",
       "      <td>50000</td>\n",
       "      <td>1</td>\n",
       "      <td>1</td>\n",
       "      <td>2</td>\n",
       "      <td>37</td>\n",
       "      <td>0</td>\n",
       "      <td>0</td>\n",
       "      <td>0</td>\n",
       "      <td>0</td>\n",
       "      <td>...</td>\n",
       "      <td>19394</td>\n",
       "      <td>19619</td>\n",
       "      <td>20024</td>\n",
       "      <td>2500</td>\n",
       "      <td>1815</td>\n",
       "      <td>657</td>\n",
       "      <td>1000</td>\n",
       "      <td>1000</td>\n",
       "      <td>800</td>\n",
       "      <td>0</td>\n",
       "    </tr>\n",
       "    <tr>\n",
       "      <th>6</th>\n",
       "      <td>7</td>\n",
       "      <td>500000</td>\n",
       "      <td>1</td>\n",
       "      <td>1</td>\n",
       "      <td>2</td>\n",
       "      <td>29</td>\n",
       "      <td>0</td>\n",
       "      <td>0</td>\n",
       "      <td>0</td>\n",
       "      <td>0</td>\n",
       "      <td>...</td>\n",
       "      <td>542653</td>\n",
       "      <td>483003</td>\n",
       "      <td>473944</td>\n",
       "      <td>55000</td>\n",
       "      <td>40000</td>\n",
       "      <td>38000</td>\n",
       "      <td>20239</td>\n",
       "      <td>13750</td>\n",
       "      <td>13770</td>\n",
       "      <td>0</td>\n",
       "    </tr>\n",
       "    <tr>\n",
       "      <th>...</th>\n",
       "      <td>...</td>\n",
       "      <td>...</td>\n",
       "      <td>...</td>\n",
       "      <td>...</td>\n",
       "      <td>...</td>\n",
       "      <td>...</td>\n",
       "      <td>...</td>\n",
       "      <td>...</td>\n",
       "      <td>...</td>\n",
       "      <td>...</td>\n",
       "      <td>...</td>\n",
       "      <td>...</td>\n",
       "      <td>...</td>\n",
       "      <td>...</td>\n",
       "      <td>...</td>\n",
       "      <td>...</td>\n",
       "      <td>...</td>\n",
       "      <td>...</td>\n",
       "      <td>...</td>\n",
       "      <td>...</td>\n",
       "      <td>...</td>\n",
       "    </tr>\n",
       "    <tr>\n",
       "      <th>29990</th>\n",
       "      <td>29991</td>\n",
       "      <td>140000</td>\n",
       "      <td>1</td>\n",
       "      <td>2</td>\n",
       "      <td>1</td>\n",
       "      <td>41</td>\n",
       "      <td>0</td>\n",
       "      <td>0</td>\n",
       "      <td>0</td>\n",
       "      <td>0</td>\n",
       "      <td>...</td>\n",
       "      <td>138262</td>\n",
       "      <td>49675</td>\n",
       "      <td>46121</td>\n",
       "      <td>6000</td>\n",
       "      <td>7000</td>\n",
       "      <td>4228</td>\n",
       "      <td>1505</td>\n",
       "      <td>2000</td>\n",
       "      <td>2000</td>\n",
       "      <td>0</td>\n",
       "    </tr>\n",
       "    <tr>\n",
       "      <th>29992</th>\n",
       "      <td>29993</td>\n",
       "      <td>10000</td>\n",
       "      <td>1</td>\n",
       "      <td>3</td>\n",
       "      <td>1</td>\n",
       "      <td>43</td>\n",
       "      <td>0</td>\n",
       "      <td>0</td>\n",
       "      <td>0</td>\n",
       "      <td>-2</td>\n",
       "      <td>...</td>\n",
       "      <td>0</td>\n",
       "      <td>0</td>\n",
       "      <td>0</td>\n",
       "      <td>2000</td>\n",
       "      <td>0</td>\n",
       "      <td>0</td>\n",
       "      <td>0</td>\n",
       "      <td>0</td>\n",
       "      <td>0</td>\n",
       "      <td>0</td>\n",
       "    </tr>\n",
       "    <tr>\n",
       "      <th>29993</th>\n",
       "      <td>29994</td>\n",
       "      <td>100000</td>\n",
       "      <td>1</td>\n",
       "      <td>1</td>\n",
       "      <td>2</td>\n",
       "      <td>38</td>\n",
       "      <td>0</td>\n",
       "      <td>-1</td>\n",
       "      <td>-1</td>\n",
       "      <td>0</td>\n",
       "      <td>...</td>\n",
       "      <td>70626</td>\n",
       "      <td>69473</td>\n",
       "      <td>55004</td>\n",
       "      <td>2000</td>\n",
       "      <td>111784</td>\n",
       "      <td>4000</td>\n",
       "      <td>3000</td>\n",
       "      <td>2000</td>\n",
       "      <td>2000</td>\n",
       "      <td>0</td>\n",
       "    </tr>\n",
       "    <tr>\n",
       "      <th>29995</th>\n",
       "      <td>29996</td>\n",
       "      <td>220000</td>\n",
       "      <td>1</td>\n",
       "      <td>3</td>\n",
       "      <td>1</td>\n",
       "      <td>39</td>\n",
       "      <td>0</td>\n",
       "      <td>0</td>\n",
       "      <td>0</td>\n",
       "      <td>0</td>\n",
       "      <td>...</td>\n",
       "      <td>88004</td>\n",
       "      <td>31237</td>\n",
       "      <td>15980</td>\n",
       "      <td>8500</td>\n",
       "      <td>20000</td>\n",
       "      <td>5003</td>\n",
       "      <td>3047</td>\n",
       "      <td>5000</td>\n",
       "      <td>1000</td>\n",
       "      <td>0</td>\n",
       "    </tr>\n",
       "    <tr>\n",
       "      <th>29996</th>\n",
       "      <td>29997</td>\n",
       "      <td>150000</td>\n",
       "      <td>1</td>\n",
       "      <td>3</td>\n",
       "      <td>2</td>\n",
       "      <td>43</td>\n",
       "      <td>-1</td>\n",
       "      <td>-1</td>\n",
       "      <td>-1</td>\n",
       "      <td>-1</td>\n",
       "      <td>...</td>\n",
       "      <td>8979</td>\n",
       "      <td>5190</td>\n",
       "      <td>0</td>\n",
       "      <td>1837</td>\n",
       "      <td>3526</td>\n",
       "      <td>8998</td>\n",
       "      <td>129</td>\n",
       "      <td>0</td>\n",
       "      <td>0</td>\n",
       "      <td>0</td>\n",
       "    </tr>\n",
       "  </tbody>\n",
       "</table>\n",
       "<p>23364 rows × 25 columns</p>\n",
       "</div>"
      ],
      "text/plain": [
       "          Id  TotalLoan  Gender  Education  MaritalStatus  Age  HstPaySep15  HstPayAug15  \\\n",
       "2          3      90000       2          2              2   34            0            0   \n",
       "3          4      50000       2          2              1   37            0            0   \n",
       "4          5      50000       1          2              1   57           -1            0   \n",
       "5          6      50000       1          1              2   37            0            0   \n",
       "6          7     500000       1          1              2   29            0            0   \n",
       "...      ...        ...     ...        ...            ...  ...          ...          ...   \n",
       "29990  29991     140000       1          2              1   41            0            0   \n",
       "29992  29993      10000       1          3              1   43            0            0   \n",
       "29993  29994     100000       1          1              2   38            0           -1   \n",
       "29995  29996     220000       1          3              1   39            0            0   \n",
       "29996  29997     150000       1          3              2   43           -1           -1   \n",
       "\n",
       "       HstPayJul15  HstPayJun15  ...  BillJun15  BillMay15  BillApr15  PaySep15  PayAug15  \\\n",
       "2                0            0  ...      14331      14948      15549      1518      1500   \n",
       "3                0            0  ...      28314      28959      29547      2000      2019   \n",
       "4               -1            0  ...      20940      19146      19131      2000     36681   \n",
       "5                0            0  ...      19394      19619      20024      2500      1815   \n",
       "6                0            0  ...     542653     483003     473944     55000     40000   \n",
       "...            ...          ...  ...        ...        ...        ...       ...       ...   \n",
       "29990            0            0  ...     138262      49675      46121      6000      7000   \n",
       "29992            0           -2  ...          0          0          0      2000         0   \n",
       "29993           -1            0  ...      70626      69473      55004      2000    111784   \n",
       "29995            0            0  ...      88004      31237      15980      8500     20000   \n",
       "29996           -1           -1  ...       8979       5190          0      1837      3526   \n",
       "\n",
       "       PayJul15  PayJun15  PayMay15  PayApr15  DefaultPayment  \n",
       "2          1000      1000      1000      5000               0  \n",
       "3          1200      1100      1069      1000               0  \n",
       "4         10000      9000       689       679               0  \n",
       "5           657      1000      1000       800               0  \n",
       "6         38000     20239     13750     13770               0  \n",
       "...         ...       ...       ...       ...             ...  \n",
       "29990      4228      1505      2000      2000               0  \n",
       "29992         0         0         0         0               0  \n",
       "29993      4000      3000      2000      2000               0  \n",
       "29995      5003      3047      5000      1000               0  \n",
       "29996      8998       129         0         0               0  \n",
       "\n",
       "[23364 rows x 25 columns]"
      ]
     },
     "execution_count": 44,
     "metadata": {},
     "output_type": "execute_result"
    }
   ],
   "source": [
    "#making new data frame for non-default \n",
    "filt0 = (credit['DefaultPayment'] == 0)\n",
    "credit0 = pd.DataFrame(credit[filt0])\n",
    "credit0"
   ]
  },
  {
   "cell_type": "code",
   "execution_count": 45,
   "metadata": {},
   "outputs": [
    {
     "data": {
      "text/plain": [
       "Gender\n",
       "1     9015\n",
       "2    14349\n",
       "Name: Gender, dtype: int64"
      ]
     },
     "execution_count": 45,
     "metadata": {},
     "output_type": "execute_result"
    }
   ],
   "source": [
    "# group description by gender \n",
    "# (1 = male; 2 = female)\n",
    "credit0.groupby('Gender')['Gender'].count()"
   ]
  },
  {
   "cell_type": "code",
   "execution_count": 46,
   "metadata": {},
   "outputs": [
    {
     "data": {
      "text/plain": [
       "<seaborn.axisgrid.FacetGrid at 0x21ef1e19408>"
      ]
     },
     "execution_count": 46,
     "metadata": {},
     "output_type": "execute_result"
    },
    {
     "data": {
      "image/png": "[encoded data removed]",
      "text/plain": [
       "<Figure size 306x360 with 1 Axes>"
      ]
     },
     "metadata": {
      "needs_background": "light"
     },
     "output_type": "display_data"
    }
   ],
   "source": [
    "fg = sns.catplot('Gender', data=credit0, kind='count', aspect=.85)\n",
    "fg.set_xlabels('Gender')\n",
    "fg.set_ylabels('Gender Count')"
   ]
  },
  {
   "cell_type": "code",
   "execution_count": 47,
   "metadata": {},
   "outputs": [
    {
     "data": {
      "text/plain": [
       "Education\n",
       "0       14\n",
       "1     8549\n",
       "2    10700\n",
       "3     3680\n",
       "4      116\n",
       "5      262\n",
       "6       43\n",
       "Name: Education, dtype: int64"
      ]
     },
     "execution_count": 47,
     "metadata": {},
     "output_type": "execute_result"
    }
   ],
   "source": [
    "#group by education \n",
    "credit0.groupby('Education')['Education'].count()"
   ]
  },
  {
   "cell_type": "code",
   "execution_count": 48,
   "metadata": {},
   "outputs": [
    {
     "data": {
      "text/plain": [
       "<seaborn.axisgrid.FacetGrid at 0x21ef4c47e08>"
      ]
     },
     "execution_count": 48,
     "metadata": {},
     "output_type": "execute_result"
    },
    {
     "data": {
      "image/png": "[encoded data removed]",
      "text/plain": [
       "<Figure size 306x360 with 1 Axes>"
      ]
     },
     "metadata": {
      "needs_background": "light"
     },
     "output_type": "display_data"
    }
   ],
   "source": [
    "fg = sns.catplot('Education', data=credit0, kind='count', aspect=.85)\n",
    "fg.set_xlabels('Education')\n",
    "fg.set_ylabels('Education Level Count')"
   ]
  },
  {
   "cell_type": "code",
   "execution_count": 49,
   "metadata": {},
   "outputs": [
    {
     "data": {
      "text/plain": [
       "MaritalStatus\n",
       "0       49\n",
       "1    10453\n",
       "2    12623\n",
       "3      239\n",
       "Name: MaritalStatus, dtype: int64"
      ]
     },
     "execution_count": 49,
     "metadata": {},
     "output_type": "execute_result"
    }
   ],
   "source": [
    "#Group by Marital Status\n",
    "credit0.groupby('MaritalStatus')['MaritalStatus'].count()"
   ]
  },
  {
   "cell_type": "code",
   "execution_count": 50,
   "metadata": {},
   "outputs": [
    {
     "data": {
      "text/plain": [
       "<seaborn.axisgrid.FacetGrid at 0x21ef4974b08>"
      ]
     },
     "execution_count": 50,
     "metadata": {},
     "output_type": "execute_result"
    },
    {
     "data": {
      "image/png": "[encoded data removed]",
      "text/plain": [
       "<Figure size 306x360 with 1 Axes>"
      ]
     },
     "metadata": {
      "needs_background": "light"
     },
     "output_type": "display_data"
    }
   ],
   "source": [
    "fg = sns.catplot('MaritalStatus', data=credit0, kind='count', aspect=.85)\n",
    "fg.set_xlabels('MaritalStatus')\n",
    "fg.set_ylabels('Marital Status Count')"
   ]
  },
  {
   "cell_type": "code",
   "execution_count": 51,
   "metadata": {},
   "outputs": [
    {
     "data": {
      "text/plain": [
       "Gender  Education\n",
       "1       0               8\n",
       "        1            3448\n",
       "        2            3966\n",
       "        3            1445\n",
       "        4              38\n",
       "        5              89\n",
       "        6              21\n",
       "2       0               6\n",
       "        1            5101\n",
       "        2            6734\n",
       "        3            2235\n",
       "        4              78\n",
       "        5             173\n",
       "        6              22\n",
       "Name: Gender, dtype: int64"
      ]
     },
     "execution_count": 51,
     "metadata": {},
     "output_type": "execute_result"
    }
   ],
   "source": [
    "# Educational distribution by gender\n",
    "credit0.groupby(['Gender','Education'])['Gender'].count()"
   ]
  },
  {
   "cell_type": "code",
   "execution_count": 52,
   "metadata": {},
   "outputs": [
    {
     "data": {
      "text/plain": [
       "<seaborn.axisgrid.FacetGrid at 0x21ef49e6e88>"
      ]
     },
     "execution_count": 52,
     "metadata": {},
     "output_type": "execute_result"
    },
    {
     "data": {
      "image/png": "[encoded data removed]",
      "text/plain": [
       "<Figure size 597.75x360 with 1 Axes>"
      ]
     },
     "metadata": {
      "needs_background": "light"
     },
     "output_type": "display_data"
    }
   ],
   "source": [
    "g = sns.catplot('Gender', data=credit0, hue='Education', kind='count', aspect=1.5)\n",
    "g.set_xlabels('Education')\n",
    "g.set_ylabels('Gender Count By Education Level')"
   ]
  },
  {
   "cell_type": "code",
   "execution_count": 53,
   "metadata": {},
   "outputs": [
    {
     "data": {
      "text/plain": [
       "Gender  MaritalStatus\n",
       "1       0                  12\n",
       "        1                3844\n",
       "        2                5068\n",
       "        3                  91\n",
       "2       0                  37\n",
       "        1                6609\n",
       "        2                7555\n",
       "        3                 148\n",
       "Name: Gender, dtype: int64"
      ]
     },
     "execution_count": 53,
     "metadata": {},
     "output_type": "execute_result"
    }
   ],
   "source": [
    "# Marital Status distribution by Gender\n",
    "credit0.groupby(['Gender','MaritalStatus'])['Gender'].count()"
   ]
  },
  {
   "cell_type": "code",
   "execution_count": 54,
   "metadata": {},
   "outputs": [
    {
     "data": {
      "text/plain": [
       "<seaborn.axisgrid.FacetGrid at 0x21ef4942ec8>"
      ]
     },
     "execution_count": 54,
     "metadata": {},
     "output_type": "execute_result"
    },
    {
     "data": {
      "image/png": "[encoded data removed]",
      "text/plain": [
       "<Figure size 614.375x360 with 1 Axes>"
      ]
     },
     "metadata": {
      "needs_background": "light"
     },
     "output_type": "display_data"
    }
   ],
   "source": [
    "g = sns.catplot('Gender', data=credit0, hue='MaritalStatus', kind='count', aspect=1.5)\n",
    "g.set_xlabels('Gender')\n",
    "g.set_ylabels('Gender Count By Marital Status')"
   ]
  },
  {
   "cell_type": "code",
   "execution_count": 55,
   "metadata": {},
   "outputs": [
    {
     "ename": "TypeError",
     "evalue": "float() argument must be a string or a number, not 'AxesSubplot'",
     "output_type": "error",
     "traceback": [
      "\u001b[1;31m---------------------------------------------------------------------------\u001b[0m",
      "\u001b[1;31mTypeError\u001b[0m                                 Traceback (most recent call last)",
      "\u001b[1;32m<ipython-input-55-3e2aea32925f>\u001b[0m in \u001b[0;36m<module>\u001b[1;34m\u001b[0m\n\u001b[0;32m      2\u001b[0m \u001b[0mcredit1pc\u001b[0m \u001b[1;33m=\u001b[0m \u001b[0mcredit0\u001b[0m\u001b[1;33m.\u001b[0m\u001b[0miloc\u001b[0m\u001b[1;33m[\u001b[0m\u001b[1;33m:\u001b[0m\u001b[1;33m,\u001b[0m\u001b[1;36m1\u001b[0m\u001b[1;33m:\u001b[0m\u001b[1;33m]\u001b[0m\u001b[1;33m\u001b[0m\u001b[1;33m\u001b[0m\u001b[0m\n\u001b[0;32m      3\u001b[0m \u001b[0mplt\u001b[0m\u001b[1;33m.\u001b[0m\u001b[0mfigure\u001b[0m\u001b[1;33m(\u001b[0m\u001b[0mfigsize\u001b[0m\u001b[1;33m=\u001b[0m\u001b[1;33m(\u001b[0m\u001b[1;36m9\u001b[0m\u001b[1;33m,\u001b[0m \u001b[1;36m8\u001b[0m\u001b[1;33m)\u001b[0m\u001b[1;33m)\u001b[0m\u001b[1;33m\u001b[0m\u001b[1;33m\u001b[0m\u001b[0m\n\u001b[1;32m----> 4\u001b[1;33m \u001b[0msns\u001b[0m\u001b[1;33m.\u001b[0m\u001b[0mdistplot\u001b[0m\u001b[1;33m(\u001b[0m\u001b[0mcredit1pc\u001b[0m\u001b[1;33m.\u001b[0m\u001b[0mhist\u001b[0m\u001b[1;33m(\u001b[0m\u001b[0mfigsize\u001b[0m\u001b[1;33m=\u001b[0m\u001b[1;33m(\u001b[0m\u001b[1;36m16\u001b[0m\u001b[1;33m,\u001b[0m \u001b[1;36m20\u001b[0m\u001b[1;33m)\u001b[0m\u001b[1;33m,\u001b[0m \u001b[0mbins\u001b[0m\u001b[1;33m=\u001b[0m\u001b[1;36m6\u001b[0m\u001b[1;33m,\u001b[0m \u001b[0mxlabelsize\u001b[0m\u001b[1;33m=\u001b[0m\u001b[1;36m10\u001b[0m\u001b[1;33m,\u001b[0m \u001b[0mylabelsize\u001b[0m\u001b[1;33m=\u001b[0m\u001b[1;36m10\u001b[0m\u001b[1;33m)\u001b[0m\u001b[1;33m)\u001b[0m\u001b[1;33m;\u001b[0m\u001b[1;33m\u001b[0m\u001b[1;33m\u001b[0m\u001b[0m\n\u001b[0m",
      "\u001b[1;32m~\\anaconda3\\lib\\site-packages\\seaborn\\distributions.py\u001b[0m in \u001b[0;36mdistplot\u001b[1;34m(a, bins, hist, kde, rug, fit, hist_kws, kde_kws, rug_kws, fit_kws, color, vertical, norm_hist, axlabel, label, ax)\u001b[0m\n\u001b[0;32m    177\u001b[0m \u001b[1;33m\u001b[0m\u001b[0m\n\u001b[0;32m    178\u001b[0m     \u001b[1;31m# Make a a 1-d float array\u001b[0m\u001b[1;33m\u001b[0m\u001b[1;33m\u001b[0m\u001b[1;33m\u001b[0m\u001b[0m\n\u001b[1;32m--> 179\u001b[1;33m     \u001b[0ma\u001b[0m \u001b[1;33m=\u001b[0m \u001b[0mnp\u001b[0m\u001b[1;33m.\u001b[0m\u001b[0masarray\u001b[0m\u001b[1;33m(\u001b[0m\u001b[0ma\u001b[0m\u001b[1;33m,\u001b[0m \u001b[0mnp\u001b[0m\u001b[1;33m.\u001b[0m\u001b[0mfloat\u001b[0m\u001b[1;33m)\u001b[0m\u001b[1;33m\u001b[0m\u001b[1;33m\u001b[0m\u001b[0m\n\u001b[0m\u001b[0;32m    180\u001b[0m     \u001b[1;32mif\u001b[0m \u001b[0ma\u001b[0m\u001b[1;33m.\u001b[0m\u001b[0mndim\u001b[0m \u001b[1;33m>\u001b[0m \u001b[1;36m1\u001b[0m\u001b[1;33m:\u001b[0m\u001b[1;33m\u001b[0m\u001b[1;33m\u001b[0m\u001b[0m\n\u001b[0;32m    181\u001b[0m         \u001b[0ma\u001b[0m \u001b[1;33m=\u001b[0m \u001b[0ma\u001b[0m\u001b[1;33m.\u001b[0m\u001b[0msqueeze\u001b[0m\u001b[1;33m(\u001b[0m\u001b[1;33m)\u001b[0m\u001b[1;33m\u001b[0m\u001b[1;33m\u001b[0m\u001b[0m\n",
      "\u001b[1;32m~\\anaconda3\\lib\\site-packages\\numpy\\core\\_asarray.py\u001b[0m in \u001b[0;36masarray\u001b[1;34m(a, dtype, order)\u001b[0m\n\u001b[0;32m     83\u001b[0m \u001b[1;33m\u001b[0m\u001b[0m\n\u001b[0;32m     84\u001b[0m     \"\"\"\n\u001b[1;32m---> 85\u001b[1;33m     \u001b[1;32mreturn\u001b[0m \u001b[0marray\u001b[0m\u001b[1;33m(\u001b[0m\u001b[0ma\u001b[0m\u001b[1;33m,\u001b[0m \u001b[0mdtype\u001b[0m\u001b[1;33m,\u001b[0m \u001b[0mcopy\u001b[0m\u001b[1;33m=\u001b[0m\u001b[1;32mFalse\u001b[0m\u001b[1;33m,\u001b[0m \u001b[0morder\u001b[0m\u001b[1;33m=\u001b[0m\u001b[0morder\u001b[0m\u001b[1;33m)\u001b[0m\u001b[1;33m\u001b[0m\u001b[1;33m\u001b[0m\u001b[0m\n\u001b[0m\u001b[0;32m     86\u001b[0m \u001b[1;33m\u001b[0m\u001b[0m\n\u001b[0;32m     87\u001b[0m \u001b[1;33m\u001b[0m\u001b[0m\n",
      "\u001b[1;31mTypeError\u001b[0m: float() argument must be a string or a number, not 'AxesSubplot'"
     ]
    },
    {
     "data": {
      "text/plain": [
       "<Figure size 648x576 with 0 Axes>"
      ]
     },
     "metadata": {},
     "output_type": "display_data"
    },
    {
     "data": {
      "image/png": "[encoded data removed]",
      "text/plain": [
       "<Figure size 1152x1440 with 25 Axes>"
      ]
     },
     "metadata": {
      "needs_background": "light"
     },
     "output_type": "display_data"
    }
   ],
   "source": [
    "# plot all columns credit0\n",
    "credit1pc = credit0.iloc[:,1:]\n",
    "plt.figure(figsize=(9, 8))\n",
    "sns.distplot(credit1pc.hist(figsize=(16, 20), bins=6, xlabelsize=10, ylabelsize=10));"
   ]
  },
  {
   "cell_type": "code",
   "execution_count": 56,
   "metadata": {},
   "outputs": [
    {
     "data": {
      "text/html": [
       "<div>\n",
       "<style scoped>\n",
       "    .dataframe tbody tr th:only-of-type {\n",
       "        vertical-align: middle;\n",
       "    }\n",
       "\n",
       "    .dataframe tbody tr th {\n",
       "        vertical-align: top;\n",
       "    }\n",
       "\n",
       "    .dataframe thead th {\n",
       "        text-align: right;\n",
       "    }\n",
       "</style>\n",
       "<table border=\"1\" class=\"dataframe\">\n",
       "  <thead>\n",
       "    <tr style=\"text-align: right;\">\n",
       "      <th></th>\n",
       "      <th>Id</th>\n",
       "      <th>TotalLoan</th>\n",
       "      <th>Gender</th>\n",
       "      <th>Education</th>\n",
       "      <th>MaritalStatus</th>\n",
       "      <th>Age</th>\n",
       "      <th>HstPaySep15</th>\n",
       "      <th>HstPayAug15</th>\n",
       "      <th>HstPayJul15</th>\n",
       "      <th>HstPayJun15</th>\n",
       "      <th>...</th>\n",
       "      <th>BillJun15</th>\n",
       "      <th>BillMay15</th>\n",
       "      <th>BillApr15</th>\n",
       "      <th>PaySep15</th>\n",
       "      <th>PayAug15</th>\n",
       "      <th>PayJul15</th>\n",
       "      <th>PayJun15</th>\n",
       "      <th>PayMay15</th>\n",
       "      <th>PayApr15</th>\n",
       "      <th>DefaultPayment</th>\n",
       "    </tr>\n",
       "  </thead>\n",
       "  <tbody>\n",
       "    <tr>\n",
       "      <th>count</th>\n",
       "      <td>23364.000</td>\n",
       "      <td>23364.000</td>\n",
       "      <td>23364.000</td>\n",
       "      <td>23364.000</td>\n",
       "      <td>23364.000</td>\n",
       "      <td>23364.000</td>\n",
       "      <td>23364.000</td>\n",
       "      <td>23364.000</td>\n",
       "      <td>23364.000</td>\n",
       "      <td>23364.000</td>\n",
       "      <td>...</td>\n",
       "      <td>23364.000</td>\n",
       "      <td>23364.000</td>\n",
       "      <td>23364.000</td>\n",
       "      <td>23364.000</td>\n",
       "      <td>2.336e+04</td>\n",
       "      <td>23364.000</td>\n",
       "      <td>23364.000</td>\n",
       "      <td>23364.000</td>\n",
       "      <td>23364.000</td>\n",
       "      <td>23364.0</td>\n",
       "    </tr>\n",
       "    <tr>\n",
       "      <th>mean</th>\n",
       "      <td>15064.894</td>\n",
       "      <td>178099.726</td>\n",
       "      <td>1.614</td>\n",
       "      <td>1.841</td>\n",
       "      <td>1.559</td>\n",
       "      <td>35.417</td>\n",
       "      <td>-0.211</td>\n",
       "      <td>-0.302</td>\n",
       "      <td>-0.316</td>\n",
       "      <td>-0.356</td>\n",
       "      <td>...</td>\n",
       "      <td>43611.165</td>\n",
       "      <td>40530.445</td>\n",
       "      <td>39042.269</td>\n",
       "      <td>6307.337</td>\n",
       "      <td>6.640e+03</td>\n",
       "      <td>5753.497</td>\n",
       "      <td>5300.529</td>\n",
       "      <td>5248.220</td>\n",
       "      <td>5719.372</td>\n",
       "      <td>0.0</td>\n",
       "    </tr>\n",
       "    <tr>\n",
       "      <th>std</th>\n",
       "      <td>8684.552</td>\n",
       "      <td>131628.360</td>\n",
       "      <td>0.487</td>\n",
       "      <td>0.807</td>\n",
       "      <td>0.521</td>\n",
       "      <td>9.077</td>\n",
       "      <td>0.952</td>\n",
       "      <td>1.035</td>\n",
       "      <td>1.048</td>\n",
       "      <td>1.013</td>\n",
       "      <td>...</td>\n",
       "      <td>64324.797</td>\n",
       "      <td>60617.268</td>\n",
       "      <td>59547.016</td>\n",
       "      <td>18014.509</td>\n",
       "      <td>2.530e+04</td>\n",
       "      <td>18684.256</td>\n",
       "      <td>16689.778</td>\n",
       "      <td>16071.668</td>\n",
       "      <td>18792.950</td>\n",
       "      <td>0.0</td>\n",
       "    </tr>\n",
       "    <tr>\n",
       "      <th>min</th>\n",
       "      <td>3.000</td>\n",
       "      <td>10000.000</td>\n",
       "      <td>1.000</td>\n",
       "      <td>0.000</td>\n",
       "      <td>0.000</td>\n",
       "      <td>21.000</td>\n",
       "      <td>-2.000</td>\n",
       "      <td>-2.000</td>\n",
       "      <td>-2.000</td>\n",
       "      <td>-2.000</td>\n",
       "      <td>...</td>\n",
       "      <td>-170000.000</td>\n",
       "      <td>-81334.000</td>\n",
       "      <td>-209051.000</td>\n",
       "      <td>0.000</td>\n",
       "      <td>0.000e+00</td>\n",
       "      <td>0.000</td>\n",
       "      <td>0.000</td>\n",
       "      <td>0.000</td>\n",
       "      <td>0.000</td>\n",
       "      <td>0.0</td>\n",
       "    </tr>\n",
       "    <tr>\n",
       "      <th>25%</th>\n",
       "      <td>7526.750</td>\n",
       "      <td>70000.000</td>\n",
       "      <td>1.000</td>\n",
       "      <td>1.000</td>\n",
       "      <td>1.000</td>\n",
       "      <td>28.000</td>\n",
       "      <td>-1.000</td>\n",
       "      <td>-1.000</td>\n",
       "      <td>-1.000</td>\n",
       "      <td>-1.000</td>\n",
       "      <td>...</td>\n",
       "      <td>2360.000</td>\n",
       "      <td>1823.000</td>\n",
       "      <td>1265.500</td>\n",
       "      <td>1163.750</td>\n",
       "      <td>1.005e+03</td>\n",
       "      <td>600.000</td>\n",
       "      <td>390.000</td>\n",
       "      <td>369.000</td>\n",
       "      <td>300.000</td>\n",
       "      <td>0.0</td>\n",
       "    </tr>\n",
       "    <tr>\n",
       "      <th>50%</th>\n",
       "      <td>15073.500</td>\n",
       "      <td>150000.000</td>\n",
       "      <td>2.000</td>\n",
       "      <td>2.000</td>\n",
       "      <td>2.000</td>\n",
       "      <td>34.000</td>\n",
       "      <td>0.000</td>\n",
       "      <td>0.000</td>\n",
       "      <td>0.000</td>\n",
       "      <td>0.000</td>\n",
       "      <td>...</td>\n",
       "      <td>19000.000</td>\n",
       "      <td>17998.000</td>\n",
       "      <td>16679.000</td>\n",
       "      <td>2459.500</td>\n",
       "      <td>2.248e+03</td>\n",
       "      <td>2000.000</td>\n",
       "      <td>1734.000</td>\n",
       "      <td>1765.000</td>\n",
       "      <td>1706.000</td>\n",
       "      <td>0.0</td>\n",
       "    </tr>\n",
       "    <tr>\n",
       "      <th>75%</th>\n",
       "      <td>22637.250</td>\n",
       "      <td>250000.000</td>\n",
       "      <td>2.000</td>\n",
       "      <td>2.000</td>\n",
       "      <td>2.000</td>\n",
       "      <td>41.000</td>\n",
       "      <td>0.000</td>\n",
       "      <td>0.000</td>\n",
       "      <td>0.000</td>\n",
       "      <td>0.000</td>\n",
       "      <td>...</td>\n",
       "      <td>55988.000</td>\n",
       "      <td>51135.250</td>\n",
       "      <td>49842.500</td>\n",
       "      <td>5606.250</td>\n",
       "      <td>5.311e+03</td>\n",
       "      <td>5000.000</td>\n",
       "      <td>4602.000</td>\n",
       "      <td>4600.000</td>\n",
       "      <td>4545.000</td>\n",
       "      <td>0.0</td>\n",
       "    </tr>\n",
       "    <tr>\n",
       "      <th>max</th>\n",
       "      <td>29997.000</td>\n",
       "      <td>1000000.000</td>\n",
       "      <td>2.000</td>\n",
       "      <td>6.000</td>\n",
       "      <td>3.000</td>\n",
       "      <td>79.000</td>\n",
       "      <td>8.000</td>\n",
       "      <td>8.000</td>\n",
       "      <td>8.000</td>\n",
       "      <td>8.000</td>\n",
       "      <td>...</td>\n",
       "      <td>891586.000</td>\n",
       "      <td>927171.000</td>\n",
       "      <td>961664.000</td>\n",
       "      <td>873552.000</td>\n",
       "      <td>1.684e+06</td>\n",
       "      <td>896040.000</td>\n",
       "      <td>621000.000</td>\n",
       "      <td>426529.000</td>\n",
       "      <td>528666.000</td>\n",
       "      <td>0.0</td>\n",
       "    </tr>\n",
       "  </tbody>\n",
       "</table>\n",
       "<p>8 rows × 25 columns</p>\n",
       "</div>"
      ],
      "text/plain": [
       "              Id    TotalLoan     Gender  Education  MaritalStatus        Age  HstPaySep15  \\\n",
       "count  23364.000    23364.000  23364.000  23364.000      23364.000  23364.000    23364.000   \n",
       "mean   15064.894   178099.726      1.614      1.841          1.559     35.417       -0.211   \n",
       "std     8684.552   131628.360      0.487      0.807          0.521      9.077        0.952   \n",
       "min        3.000    10000.000      1.000      0.000          0.000     21.000       -2.000   \n",
       "25%     7526.750    70000.000      1.000      1.000          1.000     28.000       -1.000   \n",
       "50%    15073.500   150000.000      2.000      2.000          2.000     34.000        0.000   \n",
       "75%    22637.250   250000.000      2.000      2.000          2.000     41.000        0.000   \n",
       "max    29997.000  1000000.000      2.000      6.000          3.000     79.000        8.000   \n",
       "\n",
       "       HstPayAug15  HstPayJul15  HstPayJun15  ...   BillJun15   BillMay15   BillApr15    PaySep15  \\\n",
       "count    23364.000    23364.000    23364.000  ...   23364.000   23364.000   23364.000   23364.000   \n",
       "mean        -0.302       -0.316       -0.356  ...   43611.165   40530.445   39042.269    6307.337   \n",
       "std          1.035        1.048        1.013  ...   64324.797   60617.268   59547.016   18014.509   \n",
       "min         -2.000       -2.000       -2.000  ... -170000.000  -81334.000 -209051.000       0.000   \n",
       "25%         -1.000       -1.000       -1.000  ...    2360.000    1823.000    1265.500    1163.750   \n",
       "50%          0.000        0.000        0.000  ...   19000.000   17998.000   16679.000    2459.500   \n",
       "75%          0.000        0.000        0.000  ...   55988.000   51135.250   49842.500    5606.250   \n",
       "max          8.000        8.000        8.000  ...  891586.000  927171.000  961664.000  873552.000   \n",
       "\n",
       "        PayAug15    PayJul15    PayJun15    PayMay15    PayApr15  DefaultPayment  \n",
       "count  2.336e+04   23364.000   23364.000   23364.000   23364.000         23364.0  \n",
       "mean   6.640e+03    5753.497    5300.529    5248.220    5719.372             0.0  \n",
       "std    2.530e+04   18684.256   16689.778   16071.668   18792.950             0.0  \n",
       "min    0.000e+00       0.000       0.000       0.000       0.000             0.0  \n",
       "25%    1.005e+03     600.000     390.000     369.000     300.000             0.0  \n",
       "50%    2.248e+03    2000.000    1734.000    1765.000    1706.000             0.0  \n",
       "75%    5.311e+03    5000.000    4602.000    4600.000    4545.000             0.0  \n",
       "max    1.684e+06  896040.000  621000.000  426529.000  528666.000             0.0  \n",
       "\n",
       "[8 rows x 25 columns]"
      ]
     },
     "execution_count": 56,
     "metadata": {},
     "output_type": "execute_result"
    }
   ],
   "source": [
    "credit0.describe()"
   ]
  },
  {
   "cell_type": "code",
   "execution_count": 57,
   "metadata": {},
   "outputs": [
    {
     "name": "stdout",
     "output_type": "stream",
     "text": [
      "count      30000.000\n",
      "mean      167484.323\n",
      "std       129747.662\n",
      "min        10000.000\n",
      "25%        50000.000\n",
      "50%       140000.000\n",
      "75%       240000.000\n",
      "max      1000000.000\n",
      "Name: TotalLoan, dtype: float64\n"
     ]
    },
    {
     "data": {
      "text/plain": [
       "Text(0.5, 1.0, 'Distribution by Total Loan')"
      ]
     },
     "execution_count": 57,
     "metadata": {},
     "output_type": "execute_result"
    },
    {
     "data": {
      "image/png": "[encoded data removed]",
      "text/plain": [
       "<Figure size 864x576 with 1 Axes>"
      ]
     },
     "metadata": {
      "needs_background": "light"
     },
     "output_type": "display_data"
    }
   ],
   "source": [
    "# plot: Total loan Distribution\n",
    "print(credit['TotalLoan'].describe())\n",
    "\n",
    "plt.figure(figsize=(12, 8))\n",
    "tl_dist = sns.distplot(credit['TotalLoan'], color='g', bins=75, hist_kws={'alpha': 0.4});\n",
    "tl_dist.set_title(\"Distribution by Total Loan\")"
   ]
  },
  {
   "cell_type": "markdown",
   "metadata": {},
   "source": [
    "# Adjust Categories Values"
   ]
  },
  {
   "cell_type": "markdown",
   "metadata": {},
   "source": [
    "Education"
   ]
  },
  {
   "cell_type": "markdown",
   "metadata": {},
   "source": [
    "(1 = graduate school; 2 = university; 3 = high school; 4 = others, 5 = Not defined, 6 = Not defined)."
   ]
  },
  {
   "cell_type": "code",
   "execution_count": 58,
   "metadata": {
    "scrolled": true
   },
   "outputs": [
    {
     "name": "stdout",
     "output_type": "stream",
     "text": [
      "Education\n",
      "0       14\n",
      "1    10585\n",
      "2    14030\n",
      "3     4917\n",
      "4      123\n",
      "5      280\n",
      "6       51\n",
      "dtype: int64\n",
      "\n",
      "\n",
      "Education\n",
      "1    10599\n",
      "2    14030\n",
      "3     4917\n",
      "4      454\n",
      "dtype: int64\n"
     ]
    }
   ],
   "source": [
    "# pre-check values\n",
    "edu_counts = credit.groupby('Education').size()\n",
    "print(edu_counts)\n",
    "print('\\n')\n",
    "\n",
    "# replace values\n",
    "credit.Education.replace({0 : 1, 5: 4, 6: 4}, inplace=True)\n",
    "\n",
    "# post-check values\n",
    "edu_counts = credit.groupby('Education').size()\n",
    "print(edu_counts)"
   ]
  },
  {
   "cell_type": "markdown",
   "metadata": {},
   "source": [
    "Data: MaritalStatus\n",
    "\n",
    "Marital status (0 = Not defined, 1 = married; 2 = single; 3 = others)."
   ]
  },
  {
   "cell_type": "code",
   "execution_count": 59,
   "metadata": {
    "scrolled": true
   },
   "outputs": [
    {
     "name": "stdout",
     "output_type": "stream",
     "text": [
      "MaritalStatus\n",
      "0       54\n",
      "1    13659\n",
      "2    15964\n",
      "3      323\n",
      "dtype: int64\n",
      "\n",
      "\n",
      "MaritalStatus\n",
      "1    13659\n",
      "2    15964\n",
      "3      377\n",
      "dtype: int64\n"
     ]
    }
   ],
   "source": [
    "mstatus_counts = credit.groupby('MaritalStatus').size()\n",
    "print(mstatus_counts)\n",
    "print('\\n')\n",
    "\n",
    "# replace values\n",
    "credit.MaritalStatus.replace({0 : 3}, inplace=True)\n",
    "\n",
    "mstatus_counts = credit.groupby('MaritalStatus').size()\n",
    "print(mstatus_counts)"
   ]
  },
  {
   "cell_type": "markdown",
   "metadata": {},
   "source": [
    "Binning Age "
   ]
  },
  {
   "cell_type": "code",
   "execution_count": 185,
   "metadata": {},
   "outputs": [],
   "source": [
    "#credit.describe()['Age']"
   ]
  },
  {
   "cell_type": "code",
   "execution_count": 186,
   "metadata": {},
   "outputs": [],
   "source": [
    "# get bins\n",
    "#pd.cut(credit['Age'], bins=6)"
   ]
  },
  {
   "cell_type": "code",
   "execution_count": 187,
   "metadata": {},
   "outputs": [],
   "source": [
    "# get bins parameters \n",
    "#cond = [\n",
    "           # (credit.Age >= 20.942) & (credit.Age < 30.667),\n",
    "           # (credit.Age >= 30.667) & (credit.Age < 40.333),\n",
    "           # (credit.Age >= 40.333) & (credit.Age < 50.0),\n",
    "           # (credit.Age >= 50.0) & (credit.Age < 59.667),\n",
    "           # (credit.Age >= 59.667) & (credit.Age < 69.333),\n",
    "           # (credit.Age >= 69.333) & (credit.Age < 79.0)\n",
    "       # ]\n",
    "#elecc = np.array((1, 2, 3, 4, 5, 6), dtype=\"int8\")"
   ]
  },
  {
   "cell_type": "code",
   "execution_count": 188,
   "metadata": {},
   "outputs": [],
   "source": [
    "# add new attribute class\n",
    "#credit['AgeGroupBin'] = np.select(cond, elecc, 1)\n",
    "\n",
    "# get counts by class\n",
    "#agr_counts = credit.groupby('AgeGroupBin').size()\n",
    "#print(agr_counts)"
   ]
  },
  {
   "cell_type": "code",
   "execution_count": 189,
   "metadata": {},
   "outputs": [],
   "source": [
    "# plot: Age Agroups\n",
    "#plt.figure(figsize=(12, 8))\n",
    "#tl_dist = sns.distplot(credit['AgeGroupBin'], color='g', bins=75, hist_kws={'alpha': 0.4});\n",
    "#tl_dist.set_title(\"Distribution by Age Group\")"
   ]
  },
  {
   "cell_type": "code",
   "execution_count": 190,
   "metadata": {},
   "outputs": [],
   "source": [
    "# check columns\n",
    "#cols = credit.columns.tolist()\n",
    "#cols  #Notice 2 features with Age and Age Group!!"
   ]
  },
  {
   "cell_type": "code",
   "execution_count": 191,
   "metadata": {},
   "outputs": [],
   "source": [
    "#cols = cols[0:5] + cols[-1:] + cols[5:-1]\n",
    "#cols"
   ]
  },
  {
   "cell_type": "code",
   "execution_count": 192,
   "metadata": {},
   "outputs": [],
   "source": [
    "#credit = credit[cols]"
   ]
  },
  {
   "cell_type": "code",
   "execution_count": 193,
   "metadata": {},
   "outputs": [],
   "source": [
    "#credit.columns.tolist()"
   ]
  },
  {
   "cell_type": "code",
   "execution_count": 194,
   "metadata": {},
   "outputs": [],
   "source": [
    "#credit.to_csv('CreditClean.csv')"
   ]
  },
  {
   "cell_type": "code",
   "execution_count": 195,
   "metadata": {},
   "outputs": [],
   "source": [
    "#credit = credit[cols] \n",
    "#credit.columns"
   ]
  },
  {
   "cell_type": "code",
   "execution_count": 196,
   "metadata": {},
   "outputs": [],
   "source": [
    "#credit = credit.drop(['Age'], axis=1)"
   ]
  },
  {
   "cell_type": "code",
   "execution_count": 60,
   "metadata": {},
   "outputs": [
    {
     "data": {
      "text/plain": [
       "Index(['Id', 'TotalLoan', 'Gender', 'Education', 'MaritalStatus', 'Age', 'HstPaySep15',\n",
       "       'HstPayAug15', 'HstPayJul15', 'HstPayJun15', 'HstPayMay15', 'HstPayApr15', 'BillSep15',\n",
       "       'BillAug15', 'BillJul15', 'BillJun15', 'BillMay15', 'BillApr15', 'PaySep15', 'PayAug15',\n",
       "       'PayJul15', 'PayJun15', 'PayMay15', 'PayApr15', 'DefaultPayment'],\n",
       "      dtype='object')"
      ]
     },
     "execution_count": 60,
     "metadata": {},
     "output_type": "execute_result"
    }
   ],
   "source": [
    "credit.columns"
   ]
  },
  {
   "cell_type": "code",
   "execution_count": 61,
   "metadata": {},
   "outputs": [
    {
     "name": "stdout",
     "output_type": "stream",
     "text": [
      "<class 'pandas.core.frame.DataFrame'>\n",
      "RangeIndex: 30000 entries, 0 to 29999\n",
      "Data columns (total 25 columns):\n",
      " #   Column          Non-Null Count  Dtype\n",
      "---  ------          --------------  -----\n",
      " 0   Id              30000 non-null  int64\n",
      " 1   TotalLoan       30000 non-null  int64\n",
      " 2   Gender          30000 non-null  int64\n",
      " 3   Education       30000 non-null  int64\n",
      " 4   MaritalStatus   30000 non-null  int64\n",
      " 5   Age             30000 non-null  int64\n",
      " 6   HstPaySep15     30000 non-null  int64\n",
      " 7   HstPayAug15     30000 non-null  int64\n",
      " 8   HstPayJul15     30000 non-null  int64\n",
      " 9   HstPayJun15     30000 non-null  int64\n",
      " 10  HstPayMay15     30000 non-null  int64\n",
      " 11  HstPayApr15     30000 non-null  int64\n",
      " 12  BillSep15       30000 non-null  int64\n",
      " 13  BillAug15       30000 non-null  int64\n",
      " 14  BillJul15       30000 non-null  int64\n",
      " 15  BillJun15       30000 non-null  int64\n",
      " 16  BillMay15       30000 non-null  int64\n",
      " 17  BillApr15       30000 non-null  int64\n",
      " 18  PaySep15        30000 non-null  int64\n",
      " 19  PayAug15        30000 non-null  int64\n",
      " 20  PayJul15        30000 non-null  int64\n",
      " 21  PayJun15        30000 non-null  int64\n",
      " 22  PayMay15        30000 non-null  int64\n",
      " 23  PayApr15        30000 non-null  int64\n",
      " 24  DefaultPayment  30000 non-null  int64\n",
      "dtypes: int64(25)\n",
      "memory usage: 5.7 MB\n"
     ]
    }
   ],
   "source": [
    "credit.info()"
   ]
  },
  {
   "cell_type": "markdown",
   "metadata": {},
   "source": [
    "# One Hot Encoder"
   ]
  },
  {
   "cell_type": "markdown",
   "metadata": {},
   "source": [
    "    Education"
   ]
  },
  {
   "cell_type": "code",
   "execution_count": 62,
   "metadata": {},
   "outputs": [
    {
     "data": {
      "text/plain": [
       "array([2, 1, 3, 4], dtype=int64)"
      ]
     },
     "execution_count": 62,
     "metadata": {},
     "output_type": "execute_result"
    }
   ],
   "source": [
    "credit.Education.unique()"
   ]
  },
  {
   "cell_type": "code",
   "execution_count": 63,
   "metadata": {},
   "outputs": [],
   "source": [
    "credit['grad_school'] = (credit['Education'] == 1).astype('int')"
   ]
  },
  {
   "cell_type": "code",
   "execution_count": 64,
   "metadata": {},
   "outputs": [],
   "source": [
    "credit['university'] = (credit['Education'] == 2).astype('int')"
   ]
  },
  {
   "cell_type": "code",
   "execution_count": 65,
   "metadata": {},
   "outputs": [],
   "source": [
    "credit['high_school'] = (credit['Education'] == 3).astype('int')"
   ]
  },
  {
   "cell_type": "code",
   "execution_count": 66,
   "metadata": {},
   "outputs": [],
   "source": [
    "credit['Edu_other'] = (credit['Education'] == 4).astype('int')"
   ]
  },
  {
   "cell_type": "markdown",
   "metadata": {},
   "source": [
    "    Gender"
   ]
  },
  {
   "cell_type": "code",
   "execution_count": 67,
   "metadata": {},
   "outputs": [
    {
     "data": {
      "text/plain": [
       "array([2, 1], dtype=int64)"
      ]
     },
     "execution_count": 67,
     "metadata": {},
     "output_type": "execute_result"
    }
   ],
   "source": [
    "credit.Gender.unique()"
   ]
  },
  {
   "cell_type": "code",
   "execution_count": 68,
   "metadata": {},
   "outputs": [],
   "source": [
    "credit['male'] = (credit['Gender'] == 1).astype('int')"
   ]
  },
  {
   "cell_type": "code",
   "execution_count": 69,
   "metadata": {},
   "outputs": [],
   "source": [
    "credit['female'] = (credit['Gender'] == 2).astype('int')"
   ]
  },
  {
   "cell_type": "markdown",
   "metadata": {},
   "source": [
    "    Marital Status"
   ]
  },
  {
   "cell_type": "code",
   "execution_count": 70,
   "metadata": {},
   "outputs": [
    {
     "data": {
      "text/plain": [
       "array([1, 2, 3], dtype=int64)"
      ]
     },
     "execution_count": 70,
     "metadata": {},
     "output_type": "execute_result"
    }
   ],
   "source": [
    "credit.MaritalStatus.unique()"
   ]
  },
  {
   "cell_type": "code",
   "execution_count": 71,
   "metadata": {},
   "outputs": [],
   "source": [
    "credit['married'] = (credit['MaritalStatus'] == 1).astype('int')"
   ]
  },
  {
   "cell_type": "code",
   "execution_count": 72,
   "metadata": {},
   "outputs": [],
   "source": [
    "credit['single'] = (credit['MaritalStatus'] == 2).astype('int')"
   ]
  },
  {
   "cell_type": "code",
   "execution_count": 73,
   "metadata": {},
   "outputs": [],
   "source": [
    "credit['divorced'] = (credit['MaritalStatus'] == 3).astype('int')"
   ]
  },
  {
   "cell_type": "markdown",
   "metadata": {},
   "source": [
    "    Drop old Categorical Columns we just dummied"
   ]
  },
  {
   "cell_type": "code",
   "execution_count": 74,
   "metadata": {},
   "outputs": [
    {
     "data": {
      "text/plain": [
       "Index(['Id', 'TotalLoan', 'Gender', 'Education', 'MaritalStatus', 'Age', 'HstPaySep15',\n",
       "       'HstPayAug15', 'HstPayJul15', 'HstPayJun15', 'HstPayMay15', 'HstPayApr15', 'BillSep15',\n",
       "       'BillAug15', 'BillJul15', 'BillJun15', 'BillMay15', 'BillApr15', 'PaySep15', 'PayAug15',\n",
       "       'PayJul15', 'PayJun15', 'PayMay15', 'PayApr15', 'DefaultPayment', 'grad_school',\n",
       "       'university', 'high_school', 'Edu_other', 'male', 'female', 'married', 'single',\n",
       "       'divorced'],\n",
       "      dtype='object')"
      ]
     },
     "execution_count": 74,
     "metadata": {},
     "output_type": "execute_result"
    }
   ],
   "source": [
    "credit.columns"
   ]
  },
  {
   "cell_type": "code",
   "execution_count": 75,
   "metadata": {},
   "outputs": [],
   "source": [
    "#education\n",
    "credit.drop('Education', axis = 1, inplace = True)"
   ]
  },
  {
   "cell_type": "code",
   "execution_count": 76,
   "metadata": {},
   "outputs": [],
   "source": [
    "#Gender\n",
    "credit.drop('Gender', axis = 1, inplace = True)"
   ]
  },
  {
   "cell_type": "code",
   "execution_count": 77,
   "metadata": {},
   "outputs": [],
   "source": [
    "#MaritalStatus\n",
    "credit.drop('MaritalStatus', axis = 1, inplace = True)"
   ]
  },
  {
   "cell_type": "code",
   "execution_count": 78,
   "metadata": {},
   "outputs": [
    {
     "name": "stdout",
     "output_type": "stream",
     "text": [
      "<class 'pandas.core.frame.DataFrame'>\n",
      "RangeIndex: 30000 entries, 0 to 29999\n",
      "Data columns (total 31 columns):\n",
      " #   Column          Non-Null Count  Dtype\n",
      "---  ------          --------------  -----\n",
      " 0   Id              30000 non-null  int64\n",
      " 1   TotalLoan       30000 non-null  int64\n",
      " 2   Age             30000 non-null  int64\n",
      " 3   HstPaySep15     30000 non-null  int64\n",
      " 4   HstPayAug15     30000 non-null  int64\n",
      " 5   HstPayJul15     30000 non-null  int64\n",
      " 6   HstPayJun15     30000 non-null  int64\n",
      " 7   HstPayMay15     30000 non-null  int64\n",
      " 8   HstPayApr15     30000 non-null  int64\n",
      " 9   BillSep15       30000 non-null  int64\n",
      " 10  BillAug15       30000 non-null  int64\n",
      " 11  BillJul15       30000 non-null  int64\n",
      " 12  BillJun15       30000 non-null  int64\n",
      " 13  BillMay15       30000 non-null  int64\n",
      " 14  BillApr15       30000 non-null  int64\n",
      " 15  PaySep15        30000 non-null  int64\n",
      " 16  PayAug15        30000 non-null  int64\n",
      " 17  PayJul15        30000 non-null  int64\n",
      " 18  PayJun15        30000 non-null  int64\n",
      " 19  PayMay15        30000 non-null  int64\n",
      " 20  PayApr15        30000 non-null  int64\n",
      " 21  DefaultPayment  30000 non-null  int64\n",
      " 22  grad_school     30000 non-null  int32\n",
      " 23  university      30000 non-null  int32\n",
      " 24  high_school     30000 non-null  int32\n",
      " 25  Edu_other       30000 non-null  int32\n",
      " 26  male            30000 non-null  int32\n",
      " 27  female          30000 non-null  int32\n",
      " 28  married         30000 non-null  int32\n",
      " 29  single          30000 non-null  int32\n",
      " 30  divorced        30000 non-null  int32\n",
      "dtypes: int32(9), int64(22)\n",
      "memory usage: 6.1 MB\n"
     ]
    }
   ],
   "source": [
    "credit.info()"
   ]
  },
  {
   "cell_type": "code",
   "execution_count": 79,
   "metadata": {},
   "outputs": [
    {
     "data": {
      "text/plain": [
       "Index(['Id', 'TotalLoan', 'Age', 'HstPaySep15', 'HstPayAug15', 'HstPayJul15', 'HstPayJun15',\n",
       "       'HstPayMay15', 'HstPayApr15', 'BillSep15', 'BillAug15', 'BillJul15', 'BillJun15',\n",
       "       'BillMay15', 'BillApr15', 'PaySep15', 'PayAug15', 'PayJul15', 'PayJun15', 'PayMay15',\n",
       "       'PayApr15', 'DefaultPayment', 'grad_school', 'university', 'high_school', 'Edu_other',\n",
       "       'male', 'female', 'married', 'single', 'divorced'],\n",
       "      dtype='object')"
      ]
     },
     "execution_count": 79,
     "metadata": {},
     "output_type": "execute_result"
    }
   ],
   "source": [
    "credit.columns"
   ]
  },
  {
   "cell_type": "markdown",
   "metadata": {},
   "source": [
    "# Feature Scaling of Numerical Attributes"
   ]
  },
  {
   "cell_type": "code",
   "execution_count": 80,
   "metadata": {},
   "outputs": [],
   "source": [
    "col_to_norm = ['TotalLoan', 'Age', 'HstPaySep15', 'HstPayAug15', 'HstPayJul15', 'HstPayJun15',\n",
    "       'HstPayMay15', 'HstPayApr15', 'BillSep15', 'BillAug15', 'BillJul15',\n",
    "       'BillJun15', 'PayMay15', 'PayApr15']\n",
    "credit[col_to_norm] = credit[col_to_norm].apply(lambda x : (x-np.mean(x))/np.std(x))"
   ]
  },
  {
   "cell_type": "code",
   "execution_count": 81,
   "metadata": {},
   "outputs": [
    {
     "data": {
      "text/html": [
       "<div>\n",
       "<style scoped>\n",
       "    .dataframe tbody tr th:only-of-type {\n",
       "        vertical-align: middle;\n",
       "    }\n",
       "\n",
       "    .dataframe tbody tr th {\n",
       "        vertical-align: top;\n",
       "    }\n",
       "\n",
       "    .dataframe thead th {\n",
       "        text-align: right;\n",
       "    }\n",
       "</style>\n",
       "<table border=\"1\" class=\"dataframe\">\n",
       "  <thead>\n",
       "    <tr style=\"text-align: right;\">\n",
       "      <th></th>\n",
       "      <th>Id</th>\n",
       "      <th>TotalLoan</th>\n",
       "      <th>Age</th>\n",
       "      <th>HstPaySep15</th>\n",
       "      <th>HstPayAug15</th>\n",
       "      <th>HstPayJul15</th>\n",
       "      <th>HstPayJun15</th>\n",
       "      <th>HstPayMay15</th>\n",
       "      <th>HstPayApr15</th>\n",
       "      <th>BillSep15</th>\n",
       "      <th>...</th>\n",
       "      <th>DefaultPayment</th>\n",
       "      <th>grad_school</th>\n",
       "      <th>university</th>\n",
       "      <th>high_school</th>\n",
       "      <th>Edu_other</th>\n",
       "      <th>male</th>\n",
       "      <th>female</th>\n",
       "      <th>married</th>\n",
       "      <th>single</th>\n",
       "      <th>divorced</th>\n",
       "    </tr>\n",
       "  </thead>\n",
       "  <tbody>\n",
       "    <tr>\n",
       "      <th>0</th>\n",
       "      <td>1</td>\n",
       "      <td>-1.137</td>\n",
       "      <td>-1.246</td>\n",
       "      <td>1.795</td>\n",
       "      <td>1.782</td>\n",
       "      <td>-0.697</td>\n",
       "      <td>-0.667</td>\n",
       "      <td>-1.530</td>\n",
       "      <td>-1.486</td>\n",
       "      <td>-0.643</td>\n",
       "      <td>...</td>\n",
       "      <td>1</td>\n",
       "      <td>0</td>\n",
       "      <td>1</td>\n",
       "      <td>0</td>\n",
       "      <td>0</td>\n",
       "      <td>0</td>\n",
       "      <td>1</td>\n",
       "      <td>1</td>\n",
       "      <td>0</td>\n",
       "      <td>0</td>\n",
       "    </tr>\n",
       "    <tr>\n",
       "      <th>1</th>\n",
       "      <td>2</td>\n",
       "      <td>-0.366</td>\n",
       "      <td>-1.029</td>\n",
       "      <td>-0.875</td>\n",
       "      <td>1.782</td>\n",
       "      <td>0.139</td>\n",
       "      <td>0.189</td>\n",
       "      <td>0.235</td>\n",
       "      <td>1.992</td>\n",
       "      <td>-0.659</td>\n",
       "      <td>...</td>\n",
       "      <td>1</td>\n",
       "      <td>0</td>\n",
       "      <td>1</td>\n",
       "      <td>0</td>\n",
       "      <td>0</td>\n",
       "      <td>0</td>\n",
       "      <td>1</td>\n",
       "      <td>0</td>\n",
       "      <td>1</td>\n",
       "      <td>0</td>\n",
       "    </tr>\n",
       "    <tr>\n",
       "      <th>2</th>\n",
       "      <td>3</td>\n",
       "      <td>-0.597</td>\n",
       "      <td>-0.161</td>\n",
       "      <td>0.015</td>\n",
       "      <td>0.112</td>\n",
       "      <td>0.139</td>\n",
       "      <td>0.189</td>\n",
       "      <td>0.235</td>\n",
       "      <td>0.253</td>\n",
       "      <td>-0.299</td>\n",
       "      <td>...</td>\n",
       "      <td>0</td>\n",
       "      <td>0</td>\n",
       "      <td>1</td>\n",
       "      <td>0</td>\n",
       "      <td>0</td>\n",
       "      <td>0</td>\n",
       "      <td>1</td>\n",
       "      <td>0</td>\n",
       "      <td>1</td>\n",
       "      <td>0</td>\n",
       "    </tr>\n",
       "    <tr>\n",
       "      <th>3</th>\n",
       "      <td>4</td>\n",
       "      <td>-0.905</td>\n",
       "      <td>0.164</td>\n",
       "      <td>0.015</td>\n",
       "      <td>0.112</td>\n",
       "      <td>0.139</td>\n",
       "      <td>0.189</td>\n",
       "      <td>0.235</td>\n",
       "      <td>0.253</td>\n",
       "      <td>-0.057</td>\n",
       "      <td>...</td>\n",
       "      <td>0</td>\n",
       "      <td>0</td>\n",
       "      <td>1</td>\n",
       "      <td>0</td>\n",
       "      <td>0</td>\n",
       "      <td>0</td>\n",
       "      <td>1</td>\n",
       "      <td>1</td>\n",
       "      <td>0</td>\n",
       "      <td>0</td>\n",
       "    </tr>\n",
       "    <tr>\n",
       "      <th>4</th>\n",
       "      <td>5</td>\n",
       "      <td>-0.905</td>\n",
       "      <td>2.334</td>\n",
       "      <td>-0.875</td>\n",
       "      <td>0.112</td>\n",
       "      <td>-0.697</td>\n",
       "      <td>0.189</td>\n",
       "      <td>0.235</td>\n",
       "      <td>0.253</td>\n",
       "      <td>-0.579</td>\n",
       "      <td>...</td>\n",
       "      <td>0</td>\n",
       "      <td>0</td>\n",
       "      <td>1</td>\n",
       "      <td>0</td>\n",
       "      <td>0</td>\n",
       "      <td>1</td>\n",
       "      <td>0</td>\n",
       "      <td>1</td>\n",
       "      <td>0</td>\n",
       "      <td>0</td>\n",
       "    </tr>\n",
       "    <tr>\n",
       "      <th>5</th>\n",
       "      <td>6</td>\n",
       "      <td>-0.905</td>\n",
       "      <td>0.164</td>\n",
       "      <td>0.015</td>\n",
       "      <td>0.112</td>\n",
       "      <td>0.139</td>\n",
       "      <td>0.189</td>\n",
       "      <td>0.235</td>\n",
       "      <td>0.253</td>\n",
       "      <td>0.179</td>\n",
       "      <td>...</td>\n",
       "      <td>0</td>\n",
       "      <td>1</td>\n",
       "      <td>0</td>\n",
       "      <td>0</td>\n",
       "      <td>0</td>\n",
       "      <td>1</td>\n",
       "      <td>0</td>\n",
       "      <td>0</td>\n",
       "      <td>1</td>\n",
       "      <td>0</td>\n",
       "    </tr>\n",
       "    <tr>\n",
       "      <th>6</th>\n",
       "      <td>7</td>\n",
       "      <td>2.563</td>\n",
       "      <td>-0.704</td>\n",
       "      <td>0.015</td>\n",
       "      <td>0.112</td>\n",
       "      <td>0.139</td>\n",
       "      <td>0.189</td>\n",
       "      <td>0.235</td>\n",
       "      <td>0.253</td>\n",
       "      <td>4.302</td>\n",
       "      <td>...</td>\n",
       "      <td>0</td>\n",
       "      <td>1</td>\n",
       "      <td>0</td>\n",
       "      <td>0</td>\n",
       "      <td>0</td>\n",
       "      <td>1</td>\n",
       "      <td>0</td>\n",
       "      <td>0</td>\n",
       "      <td>1</td>\n",
       "      <td>0</td>\n",
       "    </tr>\n",
       "    <tr>\n",
       "      <th>7</th>\n",
       "      <td>8</td>\n",
       "      <td>-0.520</td>\n",
       "      <td>-1.355</td>\n",
       "      <td>0.015</td>\n",
       "      <td>-0.724</td>\n",
       "      <td>-0.697</td>\n",
       "      <td>0.189</td>\n",
       "      <td>0.235</td>\n",
       "      <td>-0.616</td>\n",
       "      <td>-0.534</td>\n",
       "      <td>...</td>\n",
       "      <td>0</td>\n",
       "      <td>0</td>\n",
       "      <td>1</td>\n",
       "      <td>0</td>\n",
       "      <td>0</td>\n",
       "      <td>0</td>\n",
       "      <td>1</td>\n",
       "      <td>0</td>\n",
       "      <td>1</td>\n",
       "      <td>0</td>\n",
       "    </tr>\n",
       "    <tr>\n",
       "      <th>8</th>\n",
       "      <td>9</td>\n",
       "      <td>-0.212</td>\n",
       "      <td>-0.812</td>\n",
       "      <td>0.015</td>\n",
       "      <td>0.112</td>\n",
       "      <td>1.810</td>\n",
       "      <td>0.189</td>\n",
       "      <td>0.235</td>\n",
       "      <td>0.253</td>\n",
       "      <td>-0.542</td>\n",
       "      <td>...</td>\n",
       "      <td>0</td>\n",
       "      <td>0</td>\n",
       "      <td>0</td>\n",
       "      <td>1</td>\n",
       "      <td>0</td>\n",
       "      <td>0</td>\n",
       "      <td>1</td>\n",
       "      <td>1</td>\n",
       "      <td>0</td>\n",
       "      <td>0</td>\n",
       "    </tr>\n",
       "    <tr>\n",
       "      <th>9</th>\n",
       "      <td>10</td>\n",
       "      <td>-1.137</td>\n",
       "      <td>-0.053</td>\n",
       "      <td>-1.765</td>\n",
       "      <td>-1.559</td>\n",
       "      <td>-1.532</td>\n",
       "      <td>-1.522</td>\n",
       "      <td>-0.648</td>\n",
       "      <td>-0.616</td>\n",
       "      <td>-0.696</td>\n",
       "      <td>...</td>\n",
       "      <td>0</td>\n",
       "      <td>0</td>\n",
       "      <td>0</td>\n",
       "      <td>1</td>\n",
       "      <td>0</td>\n",
       "      <td>1</td>\n",
       "      <td>0</td>\n",
       "      <td>0</td>\n",
       "      <td>1</td>\n",
       "      <td>0</td>\n",
       "    </tr>\n",
       "  </tbody>\n",
       "</table>\n",
       "<p>10 rows × 31 columns</p>\n",
       "</div>"
      ],
      "text/plain": [
       "   Id  TotalLoan    Age  HstPaySep15  HstPayAug15  HstPayJul15  HstPayJun15  HstPayMay15  \\\n",
       "0   1     -1.137 -1.246        1.795        1.782       -0.697       -0.667       -1.530   \n",
       "1   2     -0.366 -1.029       -0.875        1.782        0.139        0.189        0.235   \n",
       "2   3     -0.597 -0.161        0.015        0.112        0.139        0.189        0.235   \n",
       "3   4     -0.905  0.164        0.015        0.112        0.139        0.189        0.235   \n",
       "4   5     -0.905  2.334       -0.875        0.112       -0.697        0.189        0.235   \n",
       "5   6     -0.905  0.164        0.015        0.112        0.139        0.189        0.235   \n",
       "6   7      2.563 -0.704        0.015        0.112        0.139        0.189        0.235   \n",
       "7   8     -0.520 -1.355        0.015       -0.724       -0.697        0.189        0.235   \n",
       "8   9     -0.212 -0.812        0.015        0.112        1.810        0.189        0.235   \n",
       "9  10     -1.137 -0.053       -1.765       -1.559       -1.532       -1.522       -0.648   \n",
       "\n",
       "   HstPayApr15  BillSep15  ...  DefaultPayment  grad_school  university  high_school  Edu_other  \\\n",
       "0       -1.486     -0.643  ...               1            0           1            0          0   \n",
       "1        1.992     -0.659  ...               1            0           1            0          0   \n",
       "2        0.253     -0.299  ...               0            0           1            0          0   \n",
       "3        0.253     -0.057  ...               0            0           1            0          0   \n",
       "4        0.253     -0.579  ...               0            0           1            0          0   \n",
       "5        0.253      0.179  ...               0            1           0            0          0   \n",
       "6        0.253      4.302  ...               0            1           0            0          0   \n",
       "7       -0.616     -0.534  ...               0            0           1            0          0   \n",
       "8        0.253     -0.542  ...               0            0           0            1          0   \n",
       "9       -0.616     -0.696  ...               0            0           0            1          0   \n",
       "\n",
       "   male  female  married  single  divorced  \n",
       "0     0       1        1       0         0  \n",
       "1     0       1        0       1         0  \n",
       "2     0       1        0       1         0  \n",
       "3     0       1        1       0         0  \n",
       "4     1       0        1       0         0  \n",
       "5     1       0        0       1         0  \n",
       "6     1       0        0       1         0  \n",
       "7     0       1        0       1         0  \n",
       "8     0       1        1       0         0  \n",
       "9     1       0        0       1         0  \n",
       "\n",
       "[10 rows x 31 columns]"
      ]
     },
     "execution_count": 81,
     "metadata": {},
     "output_type": "execute_result"
    }
   ],
   "source": [
    "credit.head(10)"
   ]
  },
  {
   "cell_type": "code",
   "execution_count": 82,
   "metadata": {},
   "outputs": [
    {
     "data": {
      "text/html": [
       "<div>\n",
       "<style scoped>\n",
       "    .dataframe tbody tr th:only-of-type {\n",
       "        vertical-align: middle;\n",
       "    }\n",
       "\n",
       "    .dataframe tbody tr th {\n",
       "        vertical-align: top;\n",
       "    }\n",
       "\n",
       "    .dataframe thead th {\n",
       "        text-align: right;\n",
       "    }\n",
       "</style>\n",
       "<table border=\"1\" class=\"dataframe\">\n",
       "  <thead>\n",
       "    <tr style=\"text-align: right;\">\n",
       "      <th></th>\n",
       "      <th>Id</th>\n",
       "      <th>TotalLoan</th>\n",
       "      <th>Age</th>\n",
       "      <th>HstPaySep15</th>\n",
       "      <th>HstPayAug15</th>\n",
       "      <th>HstPayJul15</th>\n",
       "      <th>HstPayJun15</th>\n",
       "      <th>HstPayMay15</th>\n",
       "      <th>HstPayApr15</th>\n",
       "      <th>BillSep15</th>\n",
       "      <th>...</th>\n",
       "      <th>DefaultPayment</th>\n",
       "      <th>grad_school</th>\n",
       "      <th>university</th>\n",
       "      <th>high_school</th>\n",
       "      <th>Edu_other</th>\n",
       "      <th>male</th>\n",
       "      <th>female</th>\n",
       "      <th>married</th>\n",
       "      <th>single</th>\n",
       "      <th>divorced</th>\n",
       "    </tr>\n",
       "  </thead>\n",
       "  <tbody>\n",
       "    <tr>\n",
       "      <th>29990</th>\n",
       "      <td>29991</td>\n",
       "      <td>-0.212</td>\n",
       "      <td>0.598</td>\n",
       "      <td>0.015</td>\n",
       "      <td>0.112</td>\n",
       "      <td>0.139</td>\n",
       "      <td>0.189</td>\n",
       "      <td>0.235</td>\n",
       "      <td>0.253</td>\n",
       "      <td>1.183</td>\n",
       "      <td>...</td>\n",
       "      <td>0</td>\n",
       "      <td>0</td>\n",
       "      <td>1</td>\n",
       "      <td>0</td>\n",
       "      <td>0</td>\n",
       "      <td>1</td>\n",
       "      <td>0</td>\n",
       "      <td>1</td>\n",
       "      <td>0</td>\n",
       "      <td>0</td>\n",
       "    </tr>\n",
       "    <tr>\n",
       "      <th>29991</th>\n",
       "      <td>29992</td>\n",
       "      <td>0.328</td>\n",
       "      <td>-0.161</td>\n",
       "      <td>2.684</td>\n",
       "      <td>1.782</td>\n",
       "      <td>1.810</td>\n",
       "      <td>1.899</td>\n",
       "      <td>2.000</td>\n",
       "      <td>1.992</td>\n",
       "      <td>-0.662</td>\n",
       "      <td>...</td>\n",
       "      <td>1</td>\n",
       "      <td>0</td>\n",
       "      <td>1</td>\n",
       "      <td>0</td>\n",
       "      <td>0</td>\n",
       "      <td>1</td>\n",
       "      <td>0</td>\n",
       "      <td>1</td>\n",
       "      <td>0</td>\n",
       "      <td>0</td>\n",
       "    </tr>\n",
       "    <tr>\n",
       "      <th>29992</th>\n",
       "      <td>29993</td>\n",
       "      <td>-1.214</td>\n",
       "      <td>0.815</td>\n",
       "      <td>0.015</td>\n",
       "      <td>0.112</td>\n",
       "      <td>0.139</td>\n",
       "      <td>-1.522</td>\n",
       "      <td>-1.530</td>\n",
       "      <td>-1.486</td>\n",
       "      <td>-0.576</td>\n",
       "      <td>...</td>\n",
       "      <td>0</td>\n",
       "      <td>0</td>\n",
       "      <td>0</td>\n",
       "      <td>1</td>\n",
       "      <td>0</td>\n",
       "      <td>1</td>\n",
       "      <td>0</td>\n",
       "      <td>1</td>\n",
       "      <td>0</td>\n",
       "      <td>0</td>\n",
       "    </tr>\n",
       "    <tr>\n",
       "      <th>29993</th>\n",
       "      <td>29994</td>\n",
       "      <td>-0.520</td>\n",
       "      <td>0.273</td>\n",
       "      <td>0.015</td>\n",
       "      <td>-0.724</td>\n",
       "      <td>-0.697</td>\n",
       "      <td>0.189</td>\n",
       "      <td>0.235</td>\n",
       "      <td>0.253</td>\n",
       "      <td>-0.654</td>\n",
       "      <td>...</td>\n",
       "      <td>0</td>\n",
       "      <td>1</td>\n",
       "      <td>0</td>\n",
       "      <td>0</td>\n",
       "      <td>0</td>\n",
       "      <td>1</td>\n",
       "      <td>0</td>\n",
       "      <td>0</td>\n",
       "      <td>1</td>\n",
       "      <td>0</td>\n",
       "    </tr>\n",
       "    <tr>\n",
       "      <th>29994</th>\n",
       "      <td>29995</td>\n",
       "      <td>-0.674</td>\n",
       "      <td>-0.161</td>\n",
       "      <td>1.795</td>\n",
       "      <td>1.782</td>\n",
       "      <td>1.810</td>\n",
       "      <td>1.899</td>\n",
       "      <td>2.000</td>\n",
       "      <td>1.992</td>\n",
       "      <td>0.290</td>\n",
       "      <td>...</td>\n",
       "      <td>1</td>\n",
       "      <td>0</td>\n",
       "      <td>1</td>\n",
       "      <td>0</td>\n",
       "      <td>0</td>\n",
       "      <td>1</td>\n",
       "      <td>0</td>\n",
       "      <td>0</td>\n",
       "      <td>1</td>\n",
       "      <td>0</td>\n",
       "    </tr>\n",
       "    <tr>\n",
       "      <th>29995</th>\n",
       "      <td>29996</td>\n",
       "      <td>0.405</td>\n",
       "      <td>0.381</td>\n",
       "      <td>0.015</td>\n",
       "      <td>0.112</td>\n",
       "      <td>0.139</td>\n",
       "      <td>0.189</td>\n",
       "      <td>0.235</td>\n",
       "      <td>0.253</td>\n",
       "      <td>1.870</td>\n",
       "      <td>...</td>\n",
       "      <td>0</td>\n",
       "      <td>0</td>\n",
       "      <td>0</td>\n",
       "      <td>1</td>\n",
       "      <td>0</td>\n",
       "      <td>1</td>\n",
       "      <td>0</td>\n",
       "      <td>1</td>\n",
       "      <td>0</td>\n",
       "      <td>0</td>\n",
       "    </tr>\n",
       "    <tr>\n",
       "      <th>29996</th>\n",
       "      <td>29997</td>\n",
       "      <td>-0.135</td>\n",
       "      <td>0.815</td>\n",
       "      <td>-0.875</td>\n",
       "      <td>-0.724</td>\n",
       "      <td>-0.697</td>\n",
       "      <td>-0.667</td>\n",
       "      <td>0.235</td>\n",
       "      <td>0.253</td>\n",
       "      <td>-0.673</td>\n",
       "      <td>...</td>\n",
       "      <td>0</td>\n",
       "      <td>0</td>\n",
       "      <td>0</td>\n",
       "      <td>1</td>\n",
       "      <td>0</td>\n",
       "      <td>1</td>\n",
       "      <td>0</td>\n",
       "      <td>0</td>\n",
       "      <td>1</td>\n",
       "      <td>0</td>\n",
       "    </tr>\n",
       "    <tr>\n",
       "      <th>29997</th>\n",
       "      <td>29998</td>\n",
       "      <td>-1.060</td>\n",
       "      <td>0.164</td>\n",
       "      <td>3.574</td>\n",
       "      <td>2.618</td>\n",
       "      <td>1.810</td>\n",
       "      <td>-0.667</td>\n",
       "      <td>0.235</td>\n",
       "      <td>0.253</td>\n",
       "      <td>-0.647</td>\n",
       "      <td>...</td>\n",
       "      <td>1</td>\n",
       "      <td>0</td>\n",
       "      <td>1</td>\n",
       "      <td>0</td>\n",
       "      <td>0</td>\n",
       "      <td>1</td>\n",
       "      <td>0</td>\n",
       "      <td>0</td>\n",
       "      <td>1</td>\n",
       "      <td>0</td>\n",
       "    </tr>\n",
       "    <tr>\n",
       "      <th>29998</th>\n",
       "      <td>29999</td>\n",
       "      <td>-0.674</td>\n",
       "      <td>0.598</td>\n",
       "      <td>0.905</td>\n",
       "      <td>-0.724</td>\n",
       "      <td>0.139</td>\n",
       "      <td>0.189</td>\n",
       "      <td>0.235</td>\n",
       "      <td>-0.616</td>\n",
       "      <td>-0.718</td>\n",
       "      <td>...</td>\n",
       "      <td>1</td>\n",
       "      <td>0</td>\n",
       "      <td>0</td>\n",
       "      <td>1</td>\n",
       "      <td>0</td>\n",
       "      <td>1</td>\n",
       "      <td>0</td>\n",
       "      <td>1</td>\n",
       "      <td>0</td>\n",
       "      <td>0</td>\n",
       "    </tr>\n",
       "    <tr>\n",
       "      <th>29999</th>\n",
       "      <td>30000</td>\n",
       "      <td>-0.905</td>\n",
       "      <td>1.141</td>\n",
       "      <td>0.015</td>\n",
       "      <td>0.112</td>\n",
       "      <td>0.139</td>\n",
       "      <td>0.189</td>\n",
       "      <td>0.235</td>\n",
       "      <td>0.253</td>\n",
       "      <td>-0.045</td>\n",
       "      <td>...</td>\n",
       "      <td>1</td>\n",
       "      <td>0</td>\n",
       "      <td>1</td>\n",
       "      <td>0</td>\n",
       "      <td>0</td>\n",
       "      <td>1</td>\n",
       "      <td>0</td>\n",
       "      <td>1</td>\n",
       "      <td>0</td>\n",
       "      <td>0</td>\n",
       "    </tr>\n",
       "  </tbody>\n",
       "</table>\n",
       "<p>10 rows × 31 columns</p>\n",
       "</div>"
      ],
      "text/plain": [
       "          Id  TotalLoan    Age  HstPaySep15  HstPayAug15  HstPayJul15  HstPayJun15  HstPayMay15  \\\n",
       "29990  29991     -0.212  0.598        0.015        0.112        0.139        0.189        0.235   \n",
       "29991  29992      0.328 -0.161        2.684        1.782        1.810        1.899        2.000   \n",
       "29992  29993     -1.214  0.815        0.015        0.112        0.139       -1.522       -1.530   \n",
       "29993  29994     -0.520  0.273        0.015       -0.724       -0.697        0.189        0.235   \n",
       "29994  29995     -0.674 -0.161        1.795        1.782        1.810        1.899        2.000   \n",
       "29995  29996      0.405  0.381        0.015        0.112        0.139        0.189        0.235   \n",
       "29996  29997     -0.135  0.815       -0.875       -0.724       -0.697       -0.667        0.235   \n",
       "29997  29998     -1.060  0.164        3.574        2.618        1.810       -0.667        0.235   \n",
       "29998  29999     -0.674  0.598        0.905       -0.724        0.139        0.189        0.235   \n",
       "29999  30000     -0.905  1.141        0.015        0.112        0.139        0.189        0.235   \n",
       "\n",
       "       HstPayApr15  BillSep15  ...  DefaultPayment  grad_school  university  high_school  \\\n",
       "29990        0.253      1.183  ...               0            0           1            0   \n",
       "29991        1.992     -0.662  ...               1            0           1            0   \n",
       "29992       -1.486     -0.576  ...               0            0           0            1   \n",
       "29993        0.253     -0.654  ...               0            1           0            0   \n",
       "29994        1.992      0.290  ...               1            0           1            0   \n",
       "29995        0.253      1.870  ...               0            0           0            1   \n",
       "29996        0.253     -0.673  ...               0            0           0            1   \n",
       "29997        0.253     -0.647  ...               1            0           1            0   \n",
       "29998       -0.616     -0.718  ...               1            0           0            1   \n",
       "29999        0.253     -0.045  ...               1            0           1            0   \n",
       "\n",
       "       Edu_other  male  female  married  single  divorced  \n",
       "29990          0     1       0        1       0         0  \n",
       "29991          0     1       0        1       0         0  \n",
       "29992          0     1       0        1       0         0  \n",
       "29993          0     1       0        0       1         0  \n",
       "29994          0     1       0        0       1         0  \n",
       "29995          0     1       0        1       0         0  \n",
       "29996          0     1       0        0       1         0  \n",
       "29997          0     1       0        0       1         0  \n",
       "29998          0     1       0        1       0         0  \n",
       "29999          0     1       0        1       0         0  \n",
       "\n",
       "[10 rows x 31 columns]"
      ]
     },
     "execution_count": 82,
     "metadata": {},
     "output_type": "execute_result"
    }
   ],
   "source": [
    "credit.tail(10)"
   ]
  },
  {
   "cell_type": "markdown",
   "metadata": {},
   "source": [
    "# Correlation And Collinearity"
   ]
  },
  {
   "cell_type": "code",
   "execution_count": 83,
   "metadata": {},
   "outputs": [
    {
     "name": "stdout",
     "output_type": "stream",
     "text": [
      "                       Id  TotalLoan    Age  HstPaySep15  HstPayAug15  HstPayJul15  HstPayJun15  \\\n",
      "Id              1.000e+00      0.026  0.019       -0.031       -0.011       -0.018       -0.003   \n",
      "TotalLoan       2.618e-02      1.000  0.145       -0.271       -0.296       -0.286       -0.267   \n",
      "Age             1.868e-02      0.145  1.000       -0.039       -0.050       -0.053       -0.050   \n",
      "HstPaySep15    -3.057e-02     -0.271 -0.039        1.000        0.672        0.574        0.539   \n",
      "HstPayAug15    -1.121e-02     -0.296 -0.050        0.672        1.000        0.767        0.662   \n",
      "HstPayJul15    -1.849e-02     -0.286 -0.053        0.574        0.767        1.000        0.777   \n",
      "HstPayJun15    -2.735e-03     -0.267 -0.050        0.539        0.662        0.777        1.000   \n",
      "HstPayMay15    -2.220e-02     -0.249 -0.054        0.509        0.623        0.687        0.820   \n",
      "HstPayApr15    -2.027e-02     -0.235 -0.049        0.475        0.576        0.633        0.716   \n",
      "BillSep15       1.939e-02      0.285  0.056        0.187        0.235        0.208        0.203   \n",
      "BillAug15       1.798e-02      0.278  0.054        0.190        0.235        0.237        0.226   \n",
      "BillJul15       2.435e-02      0.283  0.054        0.180        0.224        0.227        0.245   \n",
      "BillJun15       4.035e-02      0.294  0.051        0.179        0.222        0.227        0.246   \n",
      "BillMay15       1.671e-02      0.296  0.049        0.181        0.221        0.225        0.243   \n",
      "BillApr15       1.673e-02      0.290  0.048        0.177        0.219        0.222        0.239   \n",
      "PaySep15        9.742e-03      0.195  0.026       -0.079       -0.081        0.001       -0.009   \n",
      "PayAug15        8.406e-03      0.178  0.022       -0.070       -0.059       -0.067       -0.002   \n",
      "PayJul15        3.915e-02      0.210  0.029       -0.071       -0.056       -0.053       -0.069   \n",
      "PayJun15        7.793e-03      0.203  0.021       -0.064       -0.047       -0.046       -0.043   \n",
      "PayMay15        6.522e-04      0.217  0.023       -0.058       -0.037       -0.036       -0.034   \n",
      "PayApr15        3.000e-03      0.220  0.019       -0.059       -0.037       -0.036       -0.027   \n",
      "DefaultPayment -1.395e-02     -0.154  0.014        0.325        0.264        0.235        0.217   \n",
      "grad_school    -2.561e-02      0.259 -0.100       -0.143       -0.170       -0.161       -0.153   \n",
      "university      2.569e-03     -0.148 -0.078        0.099        0.122        0.116        0.110   \n",
      "high_school     1.748e-02     -0.140  0.231        0.059        0.065        0.062        0.058   \n",
      "Edu_other       3.680e-02      0.012  0.008       -0.024       -0.031       -0.033       -0.029   \n",
      "male           -1.850e-02     -0.025  0.091        0.058        0.071        0.066        0.060   \n",
      "female          1.850e-02      0.025 -0.091       -0.058       -0.071       -0.066       -0.060   \n",
      "married         2.669e-02      0.104  0.449       -0.016       -0.023       -0.031       -0.030   \n",
      "single         -2.379e-02     -0.091 -0.467        0.013        0.020        0.027        0.027   \n",
      "divorced       -1.272e-02     -0.056  0.081        0.014        0.010        0.015        0.014   \n",
      "\n",
      "                HstPayMay15  HstPayApr15  BillSep15  ...  DefaultPayment  grad_school  university  \\\n",
      "Id                   -0.022       -0.020      0.019  ...          -0.014   -2.561e-02       0.003   \n",
      "TotalLoan            -0.249       -0.235      0.285  ...          -0.154    2.591e-01      -0.148   \n",
      "Age                  -0.054       -0.049      0.056  ...           0.014   -1.000e-01      -0.078   \n",
      "HstPaySep15           0.509        0.475      0.187  ...           0.325   -1.431e-01       0.099   \n",
      "HstPayAug15           0.623        0.576      0.235  ...           0.264   -1.699e-01       0.122   \n",
      "HstPayJul15           0.687        0.633      0.208  ...           0.235   -1.608e-01       0.116   \n",
      "HstPayJun15           0.820        0.716      0.203  ...           0.217   -1.529e-01       0.110   \n",
      "HstPayMay15           1.000        0.817      0.207  ...           0.204   -1.394e-01       0.103   \n",
      "HstPayApr15           0.817        1.000      0.207  ...           0.187   -1.260e-01       0.098   \n",
      "BillSep15             0.207        0.207      1.000  ...          -0.020   -2.456e-02       0.030   \n",
      "BillAug15             0.227        0.227      0.951  ...          -0.014   -2.086e-02       0.029   \n",
      "BillJul15             0.243        0.241      0.892  ...          -0.014   -1.352e-02       0.022   \n",
      "BillJun15             0.272        0.266      0.860  ...          -0.010   -4.262e-03       0.022   \n",
      "BillMay15             0.270        0.291      0.830  ...          -0.007    4.125e-04       0.020   \n",
      "BillApr15             0.263        0.285      0.803  ...          -0.005   -3.075e-03       0.025   \n",
      "PaySep15             -0.006       -0.001      0.140  ...          -0.073    4.981e-02      -0.033   \n",
      "PayAug15             -0.003       -0.005      0.099  ...          -0.059    4.469e-02      -0.033   \n",
      "PayJul15              0.009        0.006      0.157  ...          -0.056    5.616e-02      -0.036   \n",
      "PayJun15             -0.058        0.019      0.158  ...          -0.057    4.603e-02      -0.027   \n",
      "PayMay15             -0.033       -0.046      0.167  ...          -0.055    4.707e-02      -0.021   \n",
      "PayApr15             -0.023       -0.025      0.179  ...          -0.053    5.000e-02      -0.026   \n",
      "DefaultPayment        0.204        0.187     -0.020  ...           1.000   -5.183e-02       0.036   \n",
      "grad_school          -0.139       -0.126     -0.025  ...          -0.052    1.000e+00      -0.693   \n",
      "university            0.103        0.098      0.030  ...           0.036   -6.928e-01       1.000   \n",
      "high_school           0.050        0.041     -0.022  ...           0.032   -3.273e-01      -0.415   \n",
      "Edu_other            -0.027       -0.033      0.039  ...          -0.044   -9.162e-02      -0.116   \n",
      "male                  0.055        0.044      0.034  ...           0.040    2.309e-02      -0.025   \n",
      "female               -0.055       -0.044     -0.034  ...          -0.040   -2.309e-02       0.025   \n",
      "married              -0.034       -0.032      0.025  ...           0.030   -1.540e-01       0.061   \n",
      "single                0.032        0.029     -0.021  ...          -0.031    1.648e-01      -0.060   \n",
      "divorced              0.009        0.013     -0.017  ...           0.004   -4.958e-02      -0.005   \n",
      "\n",
      "                high_school  Edu_other       male     female  married  single   divorced  \n",
      "Id                    0.017      0.037 -1.850e-02  1.850e-02    0.027  -0.024 -1.272e-02  \n",
      "TotalLoan            -0.140      0.012 -2.476e-02  2.476e-02    0.104  -0.091 -5.600e-02  \n",
      "Age                   0.231      0.008  9.087e-02 -9.087e-02    0.449  -0.467  8.077e-02  \n",
      "HstPaySep15           0.059     -0.024  5.764e-02 -5.764e-02   -0.016   0.013  1.393e-02  \n",
      "HstPayAug15           0.065     -0.031  7.077e-02 -7.077e-02   -0.023   0.020  9.856e-03  \n",
      "HstPayJul15           0.062     -0.033  6.610e-02 -6.610e-02   -0.031   0.027  1.492e-02  \n",
      "HstPayJun15           0.058     -0.029  6.017e-02 -6.017e-02   -0.030   0.027  1.413e-02  \n",
      "HstPayMay15           0.050     -0.027  5.506e-02 -5.506e-02   -0.034   0.032  8.545e-03  \n",
      "HstPayApr15           0.041     -0.033  4.401e-02 -4.401e-02   -0.032   0.029  1.320e-02  \n",
      "BillSep15            -0.022      0.039  3.364e-02 -3.364e-02    0.025  -0.021 -1.733e-02  \n",
      "BillAug15            -0.023      0.033  3.118e-02 -3.118e-02    0.022  -0.018 -1.812e-02  \n",
      "BillJul15            -0.023      0.031  2.456e-02 -2.456e-02    0.026  -0.021 -2.013e-02  \n",
      "BillJun15            -0.031      0.023  2.188e-02 -2.188e-02    0.023  -0.018 -2.417e-02  \n",
      "BillMay15            -0.032      0.014  1.701e-02 -1.701e-02    0.025  -0.019 -2.515e-02  \n",
      "BillApr15            -0.031      0.006  1.673e-02 -1.673e-02    0.021  -0.016 -2.268e-02  \n",
      "PaySep15             -0.021      0.004  2.425e-04 -2.425e-04    0.007  -0.009  9.356e-03  \n",
      "PayAug15             -0.017      0.011  1.391e-03 -1.391e-03    0.011  -0.013  5.953e-03  \n",
      "PayJul15             -0.032      0.022  8.597e-03 -8.597e-03    0.005  -0.006  3.975e-03  \n",
      "PayJun15             -0.024      0.001  2.229e-03 -2.229e-03    0.015  -0.015 -2.029e-04  \n",
      "PayMay15             -0.035      0.008  1.667e-03 -1.667e-03    0.002  -0.001 -4.319e-03  \n",
      "PayApr15             -0.035      0.017  2.766e-03 -2.766e-03    0.006  -0.003 -1.253e-02  \n",
      "DefaultPayment        0.032     -0.044  3.996e-02 -3.996e-02    0.030  -0.031  4.043e-03  \n",
      "grad_school          -0.327     -0.092  2.309e-02 -2.309e-02   -0.154   0.165 -4.958e-02  \n",
      "university           -0.415     -0.116 -2.535e-02  2.535e-02    0.061  -0.060 -4.984e-03  \n",
      "high_school           1.000     -0.055  7.650e-03 -7.650e-03    0.113  -0.128  6.888e-02  \n",
      "Edu_other            -0.055      1.000 -9.995e-03  9.995e-03    0.013  -0.014  5.625e-03  \n",
      "male                  0.008     -0.010  1.000e+00 -1.000e+00   -0.030   0.031 -2.687e-03  \n",
      "female               -0.008      0.010 -1.000e+00  1.000e+00    0.030  -0.031  2.687e-03  \n",
      "married               0.113      0.013 -3.046e-02  3.046e-02    1.000  -0.975 -1.031e-01  \n",
      "single               -0.128     -0.014  3.100e-02 -3.100e-02   -0.975   1.000 -1.203e-01  \n",
      "divorced              0.069      0.006 -2.687e-03  2.687e-03   -0.103  -0.120  1.000e+00  \n",
      "\n",
      "[31 rows x 31 columns]\n"
     ]
    }
   ],
   "source": [
    "corrMat = credit.corr()\n",
    "print(corrMat)\n",
    "corrMat.to_csv('CorrelationMatrixPython.csv')\n"
   ]
  },
  {
   "cell_type": "code",
   "execution_count": 84,
   "metadata": {
    "scrolled": true
   },
   "outputs": [
    {
     "data": {
      "image/png": "[encoded data removed]",
      "text/plain": [
       "<Figure size 720x576 with 2 Axes>"
      ]
     },
     "metadata": {
      "needs_background": "light"
     },
     "output_type": "display_data"
    },
    {
     "data": {
      "text/plain": [
       "<Figure size 720x576 with 0 Axes>"
      ]
     },
     "metadata": {},
     "output_type": "display_data"
    }
   ],
   "source": [
    "# Correlations between attributes\n",
    "\n",
    "# Pairwise Pearson correlations\n",
    "creditpp = credit.iloc[:,:]\n",
    "corr = creditpp.set_index('Id').corr(method='pearson')\n",
    "# print(corr)\n",
    "\n",
    "sm.graphics.plot_corr(corr, xnames=list(corr.columns))\n",
    "plt.show()\n",
    "plt.savefig(\"Correlation Heatmap\",  orientation='landscape')"
   ]
  },
  {
   "cell_type": "code",
   "execution_count": 85,
   "metadata": {},
   "outputs": [
    {
     "name": "stdout",
     "output_type": "stream",
     "text": [
      "Below 6 are the top correlated values with DefaultPayment:\n",
      "DefaultPayment    1.000\n",
      "HstPaySep15       0.325\n",
      "HstPayAug15       0.264\n",
      "HstPayJul15       0.235\n",
      "HstPayJun15       0.217\n",
      "HstPayMay15       0.204\n",
      "Name: DefaultPayment, dtype: float64\n"
     ]
    }
   ],
   "source": [
    "# Correlation\n",
    "credit_corr = credit.corr()['DefaultPayment'][:-1]\n",
    "golden_features_list = credit_corr[abs(credit_corr) > 0.2].sort_values(ascending=False)\n",
    "\n",
    "print(\"Below {} are the top correlated values with DefaultPayment:\\n{}\".format(len(golden_features_list), golden_features_list))"
   ]
  },
  {
   "cell_type": "code",
   "execution_count": 86,
   "metadata": {
    "scrolled": true
   },
   "outputs": [
    {
     "data": {
      "image/png": "[encoded data removed]",
      "text/plain": [
       "<Figure size 864x720 with 2 Axes>"
      ]
     },
     "metadata": {
      "needs_background": "light"
     },
     "output_type": "display_data"
    }
   ],
   "source": [
    "# Collinearity Heatmap\n",
    "corr = credit.drop('DefaultPayment', axis=1).corr()\n",
    "plt.figure(figsize=(12, 10))\n",
    "sns.heatmap(corr[(corr >= 0.9) | (corr <= -0.7)],\n",
    "            cmap='viridis', vmax=1.0, vmin=-1.0, linewidths=0.1,\n",
    "            annot=True, annot_kws={\"size\": 8}, square=True);\n",
    "plt.savefig(\"Collinearity Heatmap.png\")"
   ]
  },
  {
   "cell_type": "code",
   "execution_count": 87,
   "metadata": {
    "scrolled": true
   },
   "outputs": [
    {
     "name": "stdout",
     "output_type": "stream",
     "text": [
      "                TotalLoan        Age  HstPaySep15  HstPayAug15  HstPayJul15  HstPayJun15  \\\n",
      "TotalLoan           1.000  1.447e-01       -0.271       -0.296       -0.286       -0.267   \n",
      "Age                 0.145  1.000e+00       -0.039       -0.050       -0.053       -0.050   \n",
      "HstPaySep15        -0.271 -3.945e-02        1.000        0.672        0.574        0.539   \n",
      "HstPayAug15        -0.296 -5.015e-02        0.672        1.000        0.767        0.662   \n",
      "HstPayJul15        -0.286 -5.305e-02        0.574        0.767        1.000        0.777   \n",
      "HstPayJun15        -0.267 -4.972e-02        0.539        0.662        0.777        1.000   \n",
      "HstPayMay15        -0.249 -5.383e-02        0.509        0.623        0.687        0.820   \n",
      "HstPayApr15        -0.235 -4.878e-02        0.475        0.576        0.633        0.716   \n",
      "BillSep15           0.285  5.624e-02        0.187        0.235        0.208        0.203   \n",
      "BillAug15           0.278  5.428e-02        0.190        0.235        0.237        0.226   \n",
      "BillJul15           0.283  5.371e-02        0.180        0.224        0.228        0.245   \n",
      "BillJun15           0.294  5.135e-02        0.179        0.222        0.227        0.246   \n",
      "BillMay15       17969.649  3.000e+03    10982.254    13457.576    13688.416    14768.000   \n",
      "BillApr15       17294.143  2.836e+03    10540.079    13066.589    13240.691    14242.848   \n",
      "PaySep15         3233.801  4.331e+02    -1312.972    -1336.691       21.447     -155.070   \n",
      "PayAug15         4110.743  5.020e+02    -1615.204    -1359.204    -1539.004      -44.784   \n",
      "PayJul15         3700.460  5.150e+02    -1242.383     -984.267     -938.656    -1219.042   \n",
      "PayJun15         3184.081  3.349e+02    -1002.728     -734.104     -721.698     -680.885   \n",
      "PayMay15            0.217  2.285e-02       -0.058       -0.037       -0.036       -0.034   \n",
      "PayApr15            0.220  1.948e-02       -0.059       -0.037       -0.036       -0.027   \n",
      "DefaultPayment     -0.064  5.765e-03        0.135        0.109        0.098        0.090   \n",
      "grad_school         0.124 -4.782e-02       -0.068       -0.081       -0.077       -0.073   \n",
      "university         -0.074 -3.873e-02        0.049        0.061        0.058        0.055   \n",
      "high_school        -0.052  8.561e-02        0.022        0.024        0.023        0.022   \n",
      "Edu_other           0.001  9.424e-04       -0.003       -0.004       -0.004       -0.004   \n",
      "male               -0.012  4.445e-02        0.028        0.035        0.032        0.029   \n",
      "female              0.012 -4.445e-02       -0.028       -0.035       -0.032       -0.029   \n",
      "married             0.052  2.238e-01       -0.008       -0.011       -0.015       -0.015   \n",
      "single             -0.045 -2.328e-01        0.007        0.010        0.014        0.013   \n",
      "divorced           -0.006  8.997e-03        0.002        0.001        0.002        0.002   \n",
      "\n",
      "                HstPayMay15  HstPayApr15  BillSep15  BillAug15  ...  DefaultPayment  grad_school  \\\n",
      "TotalLoan        -2.494e-01       -0.235      0.285      0.278  ...      -6.372e-02        0.124   \n",
      "Age              -5.383e-02       -0.049      0.056      0.054  ...       5.765e-03       -0.048   \n",
      "HstPaySep15       5.094e-01        0.475      0.187      0.190  ...       1.348e-01       -0.068   \n",
      "HstPayAug15       6.228e-01        0.576      0.235      0.235  ...       1.094e-01       -0.081   \n",
      "HstPayJul15       6.868e-01        0.633      0.208      0.237  ...       9.765e-02       -0.077   \n",
      "HstPayJun15       8.199e-01        0.716      0.203      0.226  ...       8.991e-02       -0.073   \n",
      "HstPayMay15       1.000e+00        0.817      0.207      0.227  ...       8.474e-02       -0.067   \n",
      "HstPayApr15       8.169e-01        1.000      0.207      0.227  ...       7.756e-02       -0.060   \n",
      "BillSep15         2.067e-01        0.207      1.000      0.952  ...      -8.154e-03       -0.012   \n",
      "BillAug15         2.269e-01        0.227      0.952      1.000  ...      -5.891e-03       -0.010   \n",
      "BillJul15         2.433e-01        0.241      0.892      0.928  ...      -5.842e-03       -0.006   \n",
      "BillJun15         2.719e-01        0.266      0.860      0.893  ...      -4.216e-03       -0.002   \n",
      "BillMay15         1.640e+04    17685.807  50449.020  52272.947  ...      -1.706e+02       11.987   \n",
      "BillApr15         1.563e+04    16978.622  47801.912  49525.638  ...      -1.328e+02      -87.549   \n",
      "PaySep15         -1.009e+02      -24.784   2323.491   4643.847  ...      -5.014e+02      394.384   \n",
      "PayAug15         -7.353e+01     -120.351   2289.265   2323.731  ...      -5.602e+02      492.170   \n",
      "PayJul15          1.596e+02      102.717   2762.352   2653.734  ...      -4.111e+02      472.694   \n",
      "PayJun15         -9.133e+02      297.942   2480.034   2309.201  ...      -3.695e+02      344.692   \n",
      "PayMay15         -3.334e-02       -0.046      0.167      0.158  ...      -2.288e-02        0.022   \n",
      "PayApr15         -2.303e-02       -0.025      0.179      0.174  ...      -2.207e-02        0.024   \n",
      "DefaultPayment    8.474e-02        0.078     -0.008     -0.006  ...       1.723e-01       -0.010   \n",
      "grad_school      -6.662e-02       -0.060     -0.012     -0.010  ...      -1.028e-02        0.228   \n",
      "university        5.150e-02        0.049      0.015      0.014  ...       7.552e-03       -0.165   \n",
      "high_school       1.835e-02        0.015     -0.008     -0.008  ...       4.979e-03       -0.058   \n",
      "Edu_other        -3.240e-03       -0.004      0.005      0.004  ...      -2.248e-03       -0.005   \n",
      "male              2.693e-02        0.022      0.016      0.015  ...       8.113e-03        0.005   \n",
      "female           -2.693e-02       -0.022     -0.016     -0.015  ...      -8.113e-03       -0.005   \n",
      "married          -1.697e-02       -0.016      0.013      0.011  ...       6.155e-03       -0.037   \n",
      "single            1.602e-02        0.014     -0.011     -0.009  ...      -6.341e-03        0.039   \n",
      "divorced          9.519e-04        0.001     -0.002     -0.002  ...       1.869e-04       -0.003   \n",
      "\n",
      "                university  high_school  Edu_other       male     female    married     single  \\\n",
      "TotalLoan       -7.361e-02       -0.052  1.485e-03 -1.211e-02  1.211e-02  5.164e-02 -4.541e-02   \n",
      "Age             -3.873e-02        0.086  9.424e-04  4.445e-02 -4.445e-02  2.238e-01 -2.328e-01   \n",
      "HstPaySep15      4.949e-02        0.022 -2.890e-03  2.820e-02 -2.820e-02 -8.124e-03  6.573e-03   \n",
      "HstPayAug15      6.106e-02        0.024 -3.767e-03  3.462e-02 -3.462e-02 -1.122e-02  1.012e-02   \n",
      "HstPayJul15      5.770e-02        0.023 -3.970e-03  3.233e-02 -3.233e-02 -1.523e-02  1.357e-02   \n",
      "HstPayJun15      5.506e-02        0.022 -3.587e-03  2.943e-02 -2.943e-02 -1.502e-02  1.345e-02   \n",
      "HstPayMay15      5.150e-02        0.018 -3.240e-03  2.693e-02 -2.693e-02 -1.697e-02  1.602e-02   \n",
      "HstPayApr15      4.891e-02        0.015 -3.996e-03  2.153e-02 -2.153e-02 -1.582e-02  1.435e-02   \n",
      "BillSep15        1.513e-02       -0.008  4.756e-03  1.646e-02 -1.646e-02  1.258e-02 -1.065e-02   \n",
      "BillAug15        1.433e-02       -0.008  4.071e-03  1.525e-02 -1.525e-02  1.117e-02 -9.151e-03   \n",
      "BillJul15        1.112e-02       -0.008  3.786e-03  1.201e-02 -1.201e-02  1.292e-02 -1.068e-02   \n",
      "BillJun15        1.080e-02       -0.012  2.814e-03  1.070e-02 -1.070e-02  1.153e-02 -8.836e-03   \n",
      "BillMay15        5.973e+02     -713.633  1.043e+02  5.057e+02 -5.057e+02  7.575e+02 -5.872e+02   \n",
      "BillApr15        7.297e+02     -683.021  4.090e+01  4.874e+02 -4.874e+02  6.278e+02 -4.774e+02   \n",
      "PaySep15        -2.727e+02     -130.663  8.992e+00  1.964e+00 -1.964e+00  5.744e+01 -7.471e+01   \n",
      "PayAug15        -3.809e+02     -142.222  3.096e+01  1.568e+01 -1.568e+01  1.296e+02 -1.448e+02   \n",
      "PayJul15        -3.128e+02     -206.787  4.692e+01  7.403e+01 -7.403e+01  4.681e+01 -5.461e+01   \n",
      "PayJun15        -2.108e+02     -136.602  2.689e+00  1.708e+01 -1.708e+01  1.138e+02 -1.134e+02   \n",
      "PayMay15        -1.061e-02       -0.013  9.853e-04  8.155e-04 -8.155e-04  1.093e-03 -6.121e-04   \n",
      "PayApr15        -1.313e-02       -0.013  2.042e-03  1.353e-03 -1.353e-03  2.975e-03 -1.580e-03   \n",
      "DefaultPayment   7.552e-03        0.005 -2.248e-03  8.113e-03 -8.113e-03  6.155e-03 -6.341e-03   \n",
      "grad_school     -1.652e-01       -0.058 -5.347e-03  5.399e-03 -5.399e-03 -3.666e-02  3.930e-02   \n",
      "university       2.490e-01       -0.077 -7.078e-03 -6.188e-03  6.188e-03  1.514e-02 -1.486e-02   \n",
      "high_school     -7.665e-02        0.137 -2.480e-03  1.385e-03 -1.385e-03  2.074e-02 -2.358e-02   \n",
      "Edu_other       -7.078e-03       -0.002  1.490e-02 -5.969e-04  5.969e-04  7.765e-04 -8.530e-04   \n",
      "male            -6.188e-03        0.001 -5.969e-04  2.392e-01 -2.392e-01 -7.420e-03  7.567e-03   \n",
      "female           6.188e-03       -0.001  5.969e-04 -2.392e-01  2.392e-01  7.420e-03 -7.567e-03   \n",
      "married          1.514e-02        0.021  7.765e-04 -7.420e-03  7.420e-03  2.480e-01 -2.423e-01   \n",
      "single          -1.486e-02       -0.024 -8.530e-04  7.567e-03 -7.567e-03 -2.423e-01  2.490e-01   \n",
      "divorced        -2.770e-04        0.003  7.649e-05 -1.464e-04  1.464e-04 -5.722e-03 -6.687e-03   \n",
      "\n",
      "                 divorced  \n",
      "TotalLoan      -6.238e-03  \n",
      "Age             8.997e-03  \n",
      "HstPaySep15     1.551e-03  \n",
      "HstPayAug15     1.098e-03  \n",
      "HstPayJul15     1.662e-03  \n",
      "HstPayJun15     1.574e-03  \n",
      "HstPayMay15     9.519e-04  \n",
      "HstPayApr15     1.471e-03  \n",
      "BillSep15      -1.930e-03  \n",
      "BillAug15      -2.019e-03  \n",
      "BillJul15      -2.242e-03  \n",
      "BillJun15      -2.693e-03  \n",
      "BillMay15      -1.703e+02  \n",
      "BillApr15      -1.505e+02  \n",
      "PaySep15        1.726e+01  \n",
      "PayAug15        1.528e+01  \n",
      "PayJul15        7.797e+00  \n",
      "PayJun15       -3.541e-01  \n",
      "PayMay15       -4.811e-04  \n",
      "PayApr15       -1.396e-03  \n",
      "DefaultPayment  1.869e-04  \n",
      "grad_school    -2.640e-03  \n",
      "university     -2.770e-04  \n",
      "high_school     2.840e-03  \n",
      "Edu_other       7.649e-05  \n",
      "male           -1.464e-04  \n",
      "female          1.464e-04  \n",
      "married        -5.722e-03  \n",
      "single         -6.687e-03  \n",
      "divorced        1.241e-02  \n",
      "\n",
      "[30 rows x 30 columns]\n"
     ]
    }
   ],
   "source": [
    "creditpp1 = credit.iloc[:,1:]\n",
    "covMat = creditpp1.cov() #creditpp1 excludes ID\n",
    "print(covMat)\n",
    "covMat.to_csv('CovarianceMatrixPython.csv')"
   ]
  },
  {
   "cell_type": "markdown",
   "metadata": {},
   "source": [
    "Collinearity (correlation between features)"
   ]
  },
  {
   "cell_type": "code",
   "execution_count": 88,
   "metadata": {},
   "outputs": [
    {
     "data": {
      "text/html": [
       "<div>\n",
       "<style scoped>\n",
       "    .dataframe tbody tr th:only-of-type {\n",
       "        vertical-align: middle;\n",
       "    }\n",
       "\n",
       "    .dataframe tbody tr th {\n",
       "        vertical-align: top;\n",
       "    }\n",
       "\n",
       "    .dataframe thead th {\n",
       "        text-align: right;\n",
       "    }\n",
       "</style>\n",
       "<table border=\"1\" class=\"dataframe\">\n",
       "  <thead>\n",
       "    <tr style=\"text-align: right;\">\n",
       "      <th></th>\n",
       "      <th>BillApr15</th>\n",
       "      <th>BillMay15</th>\n",
       "      <th>BillJun15</th>\n",
       "      <th>BillJul15</th>\n",
       "      <th>BillAug15</th>\n",
       "      <th>BillSep15</th>\n",
       "      <th>male</th>\n",
       "      <th>female</th>\n",
       "      <th>married</th>\n",
       "      <th>single</th>\n",
       "    </tr>\n",
       "  </thead>\n",
       "  <tbody>\n",
       "    <tr>\n",
       "      <th>0</th>\n",
       "      <td>0</td>\n",
       "      <td>0</td>\n",
       "      <td>-0.672</td>\n",
       "      <td>-0.668</td>\n",
       "      <td>-0.647</td>\n",
       "      <td>-0.643</td>\n",
       "      <td>0</td>\n",
       "      <td>1</td>\n",
       "      <td>1</td>\n",
       "      <td>0</td>\n",
       "    </tr>\n",
       "    <tr>\n",
       "      <th>1</th>\n",
       "      <td>3261</td>\n",
       "      <td>3455</td>\n",
       "      <td>-0.622</td>\n",
       "      <td>-0.639</td>\n",
       "      <td>-0.667</td>\n",
       "      <td>-0.659</td>\n",
       "      <td>0</td>\n",
       "      <td>1</td>\n",
       "      <td>0</td>\n",
       "      <td>1</td>\n",
       "    </tr>\n",
       "    <tr>\n",
       "      <th>2</th>\n",
       "      <td>15549</td>\n",
       "      <td>14948</td>\n",
       "      <td>-0.450</td>\n",
       "      <td>-0.482</td>\n",
       "      <td>-0.494</td>\n",
       "      <td>-0.299</td>\n",
       "      <td>0</td>\n",
       "      <td>1</td>\n",
       "      <td>0</td>\n",
       "      <td>1</td>\n",
       "    </tr>\n",
       "    <tr>\n",
       "      <th>3</th>\n",
       "      <td>29547</td>\n",
       "      <td>28959</td>\n",
       "      <td>-0.232</td>\n",
       "      <td>0.033</td>\n",
       "      <td>-0.013</td>\n",
       "      <td>-0.057</td>\n",
       "      <td>0</td>\n",
       "      <td>1</td>\n",
       "      <td>1</td>\n",
       "      <td>0</td>\n",
       "    </tr>\n",
       "    <tr>\n",
       "      <th>4</th>\n",
       "      <td>19131</td>\n",
       "      <td>19146</td>\n",
       "      <td>-0.347</td>\n",
       "      <td>-0.161</td>\n",
       "      <td>-0.611</td>\n",
       "      <td>-0.579</td>\n",
       "      <td>1</td>\n",
       "      <td>0</td>\n",
       "      <td>1</td>\n",
       "      <td>0</td>\n",
       "    </tr>\n",
       "    <tr>\n",
       "      <th>...</th>\n",
       "      <td>...</td>\n",
       "      <td>...</td>\n",
       "      <td>...</td>\n",
       "      <td>...</td>\n",
       "      <td>...</td>\n",
       "      <td>...</td>\n",
       "      <td>...</td>\n",
       "      <td>...</td>\n",
       "      <td>...</td>\n",
       "      <td>...</td>\n",
       "    </tr>\n",
       "    <tr>\n",
       "      <th>29995</th>\n",
       "      <td>15980</td>\n",
       "      <td>31237</td>\n",
       "      <td>0.695</td>\n",
       "      <td>2.327</td>\n",
       "      <td>2.018</td>\n",
       "      <td>1.870</td>\n",
       "      <td>1</td>\n",
       "      <td>0</td>\n",
       "      <td>1</td>\n",
       "      <td>0</td>\n",
       "    </tr>\n",
       "    <tr>\n",
       "      <th>29996</th>\n",
       "      <td>0</td>\n",
       "      <td>5190</td>\n",
       "      <td>-0.533</td>\n",
       "      <td>-0.627</td>\n",
       "      <td>-0.665</td>\n",
       "      <td>-0.673</td>\n",
       "      <td>1</td>\n",
       "      <td>0</td>\n",
       "      <td>0</td>\n",
       "      <td>1</td>\n",
       "    </tr>\n",
       "    <tr>\n",
       "      <th>29997</th>\n",
       "      <td>19357</td>\n",
       "      <td>20582</td>\n",
       "      <td>-0.348</td>\n",
       "      <td>-0.638</td>\n",
       "      <td>-0.644</td>\n",
       "      <td>-0.647</td>\n",
       "      <td>1</td>\n",
       "      <td>0</td>\n",
       "      <td>0</td>\n",
       "      <td>1</td>\n",
       "    </tr>\n",
       "    <tr>\n",
       "      <th>29998</th>\n",
       "      <td>48944</td>\n",
       "      <td>11855</td>\n",
       "      <td>0.148</td>\n",
       "      <td>0.422</td>\n",
       "      <td>0.410</td>\n",
       "      <td>-0.718</td>\n",
       "      <td>1</td>\n",
       "      <td>0</td>\n",
       "      <td>1</td>\n",
       "      <td>0</td>\n",
       "    </tr>\n",
       "    <tr>\n",
       "      <th>29999</th>\n",
       "      <td>15313</td>\n",
       "      <td>32428</td>\n",
       "      <td>-0.105</td>\n",
       "      <td>0.040</td>\n",
       "      <td>-0.004</td>\n",
       "      <td>-0.045</td>\n",
       "      <td>1</td>\n",
       "      <td>0</td>\n",
       "      <td>1</td>\n",
       "      <td>0</td>\n",
       "    </tr>\n",
       "  </tbody>\n",
       "</table>\n",
       "<p>30000 rows × 10 columns</p>\n",
       "</div>"
      ],
      "text/plain": [
       "       BillApr15  BillMay15  BillJun15  BillJul15  BillAug15  BillSep15  male  female  married  \\\n",
       "0              0          0     -0.672     -0.668     -0.647     -0.643     0       1        1   \n",
       "1           3261       3455     -0.622     -0.639     -0.667     -0.659     0       1        0   \n",
       "2          15549      14948     -0.450     -0.482     -0.494     -0.299     0       1        0   \n",
       "3          29547      28959     -0.232      0.033     -0.013     -0.057     0       1        1   \n",
       "4          19131      19146     -0.347     -0.161     -0.611     -0.579     1       0        1   \n",
       "...          ...        ...        ...        ...        ...        ...   ...     ...      ...   \n",
       "29995      15980      31237      0.695      2.327      2.018      1.870     1       0        1   \n",
       "29996          0       5190     -0.533     -0.627     -0.665     -0.673     1       0        0   \n",
       "29997      19357      20582     -0.348     -0.638     -0.644     -0.647     1       0        0   \n",
       "29998      48944      11855      0.148      0.422      0.410     -0.718     1       0        1   \n",
       "29999      15313      32428     -0.105      0.040     -0.004     -0.045     1       0        1   \n",
       "\n",
       "       single  \n",
       "0           0  \n",
       "1           1  \n",
       "2           1  \n",
       "3           0  \n",
       "4           0  \n",
       "...       ...  \n",
       "29995       0  \n",
       "29996       1  \n",
       "29997       1  \n",
       "29998       0  \n",
       "29999       0  \n",
       "\n",
       "[30000 rows x 10 columns]"
      ]
     },
     "execution_count": 88,
     "metadata": {},
     "output_type": "execute_result"
    }
   ],
   "source": [
    "creditCollinearity = credit[['BillApr15','BillMay15','BillJun15','BillJul15','BillAug15','BillSep15', \n",
    "                            'male', 'female', 'married', 'single']]\n",
    "creditCollinearity"
   ]
  },
  {
   "cell_type": "code",
   "execution_count": 89,
   "metadata": {},
   "outputs": [
    {
     "name": "stdout",
     "output_type": "stream",
     "text": [
      "           BillApr15  BillMay15  BillJun15  BillJul15  BillAug15  BillSep15   male  female  \\\n",
      "BillApr15      1.000      0.946      0.901      0.853      0.832      0.803  0.017  -0.017   \n",
      "BillMay15      0.946      1.000      0.940      0.884      0.860      0.830  0.017  -0.017   \n",
      "BillJun15      0.901      0.940      1.000      0.924      0.892      0.860  0.022  -0.022   \n",
      "BillJul15      0.853      0.884      0.924      1.000      0.928      0.892  0.025  -0.025   \n",
      "BillAug15      0.832      0.860      0.892      0.928      1.000      0.951  0.031  -0.031   \n",
      "BillSep15      0.803      0.830      0.860      0.892      0.951      1.000  0.034  -0.034   \n",
      "male           0.017      0.017      0.022      0.025      0.031      0.034  1.000  -1.000   \n",
      "female        -0.017     -0.017     -0.022     -0.025     -0.031     -0.034 -1.000   1.000   \n",
      "married        0.021      0.025      0.023      0.026      0.022      0.025 -0.030   0.030   \n",
      "single        -0.016     -0.019     -0.018     -0.021     -0.018     -0.021  0.031  -0.031   \n",
      "\n",
      "           married  single  \n",
      "BillApr15    0.021  -0.016  \n",
      "BillMay15    0.025  -0.019  \n",
      "BillJun15    0.023  -0.018  \n",
      "BillJul15    0.026  -0.021  \n",
      "BillAug15    0.022  -0.018  \n",
      "BillSep15    0.025  -0.021  \n",
      "male        -0.030   0.031  \n",
      "female       0.030  -0.031  \n",
      "married      1.000  -0.975  \n",
      "single      -0.975   1.000  \n"
     ]
    }
   ],
   "source": [
    "corrCollin = creditCollinearity.corr()\n",
    "print(corrCollin)\n",
    "corrCollin.to_csv('CollinearityMatrixPython.csv')"
   ]
  },
  {
   "cell_type": "code",
   "execution_count": 90,
   "metadata": {},
   "outputs": [],
   "source": [
    "#Remove High Correlated attributes\n",
    "credit = credit.drop(['BillMay15'], axis=1)\n",
    "credit = credit.drop(['BillAug15'], axis=1)\n",
    "credit = credit.drop(['BillJul15'], axis=1)\n",
    "credit = credit.drop(['female'], axis=1)\n",
    "credit = credit.drop(['single'], axis=1)"
   ]
  },
  {
   "cell_type": "code",
   "execution_count": 91,
   "metadata": {},
   "outputs": [
    {
     "name": "stdout",
     "output_type": "stream",
     "text": [
      "Rows and columns count: (30000, 26)\n"
     ]
    },
    {
     "data": {
      "text/html": [
       "<div>\n",
       "<style scoped>\n",
       "    .dataframe tbody tr th:only-of-type {\n",
       "        vertical-align: middle;\n",
       "    }\n",
       "\n",
       "    .dataframe tbody tr th {\n",
       "        vertical-align: top;\n",
       "    }\n",
       "\n",
       "    .dataframe thead th {\n",
       "        text-align: right;\n",
       "    }\n",
       "</style>\n",
       "<table border=\"1\" class=\"dataframe\">\n",
       "  <thead>\n",
       "    <tr style=\"text-align: right;\">\n",
       "      <th></th>\n",
       "      <th>Id</th>\n",
       "      <th>TotalLoan</th>\n",
       "      <th>Age</th>\n",
       "      <th>HstPaySep15</th>\n",
       "      <th>HstPayAug15</th>\n",
       "      <th>HstPayJul15</th>\n",
       "      <th>HstPayJun15</th>\n",
       "      <th>HstPayMay15</th>\n",
       "      <th>HstPayApr15</th>\n",
       "      <th>BillSep15</th>\n",
       "      <th>...</th>\n",
       "      <th>PayMay15</th>\n",
       "      <th>PayApr15</th>\n",
       "      <th>DefaultPayment</th>\n",
       "      <th>grad_school</th>\n",
       "      <th>university</th>\n",
       "      <th>high_school</th>\n",
       "      <th>Edu_other</th>\n",
       "      <th>male</th>\n",
       "      <th>married</th>\n",
       "      <th>divorced</th>\n",
       "    </tr>\n",
       "  </thead>\n",
       "  <tbody>\n",
       "    <tr>\n",
       "      <th>0</th>\n",
       "      <td>1</td>\n",
       "      <td>-1.137</td>\n",
       "      <td>-1.246</td>\n",
       "      <td>1.795</td>\n",
       "      <td>1.782</td>\n",
       "      <td>-0.697</td>\n",
       "      <td>-0.667</td>\n",
       "      <td>-1.530</td>\n",
       "      <td>-1.486</td>\n",
       "      <td>-0.643</td>\n",
       "      <td>...</td>\n",
       "      <td>-0.314</td>\n",
       "      <td>-0.293</td>\n",
       "      <td>1</td>\n",
       "      <td>0</td>\n",
       "      <td>1</td>\n",
       "      <td>0</td>\n",
       "      <td>0</td>\n",
       "      <td>0</td>\n",
       "      <td>1</td>\n",
       "      <td>0</td>\n",
       "    </tr>\n",
       "    <tr>\n",
       "      <th>1</th>\n",
       "      <td>2</td>\n",
       "      <td>-0.366</td>\n",
       "      <td>-1.029</td>\n",
       "      <td>-0.875</td>\n",
       "      <td>1.782</td>\n",
       "      <td>0.139</td>\n",
       "      <td>0.189</td>\n",
       "      <td>0.235</td>\n",
       "      <td>1.992</td>\n",
       "      <td>-0.659</td>\n",
       "      <td>...</td>\n",
       "      <td>-0.314</td>\n",
       "      <td>-0.181</td>\n",
       "      <td>1</td>\n",
       "      <td>0</td>\n",
       "      <td>1</td>\n",
       "      <td>0</td>\n",
       "      <td>0</td>\n",
       "      <td>0</td>\n",
       "      <td>0</td>\n",
       "      <td>0</td>\n",
       "    </tr>\n",
       "    <tr>\n",
       "      <th>2</th>\n",
       "      <td>3</td>\n",
       "      <td>-0.597</td>\n",
       "      <td>-0.161</td>\n",
       "      <td>0.015</td>\n",
       "      <td>0.112</td>\n",
       "      <td>0.139</td>\n",
       "      <td>0.189</td>\n",
       "      <td>0.235</td>\n",
       "      <td>0.253</td>\n",
       "      <td>-0.299</td>\n",
       "      <td>...</td>\n",
       "      <td>-0.249</td>\n",
       "      <td>-0.012</td>\n",
       "      <td>0</td>\n",
       "      <td>0</td>\n",
       "      <td>1</td>\n",
       "      <td>0</td>\n",
       "      <td>0</td>\n",
       "      <td>0</td>\n",
       "      <td>0</td>\n",
       "      <td>0</td>\n",
       "    </tr>\n",
       "    <tr>\n",
       "      <th>3</th>\n",
       "      <td>4</td>\n",
       "      <td>-0.905</td>\n",
       "      <td>0.164</td>\n",
       "      <td>0.015</td>\n",
       "      <td>0.112</td>\n",
       "      <td>0.139</td>\n",
       "      <td>0.189</td>\n",
       "      <td>0.235</td>\n",
       "      <td>0.253</td>\n",
       "      <td>-0.057</td>\n",
       "      <td>...</td>\n",
       "      <td>-0.244</td>\n",
       "      <td>-0.237</td>\n",
       "      <td>0</td>\n",
       "      <td>0</td>\n",
       "      <td>1</td>\n",
       "      <td>0</td>\n",
       "      <td>0</td>\n",
       "      <td>0</td>\n",
       "      <td>1</td>\n",
       "      <td>0</td>\n",
       "    </tr>\n",
       "    <tr>\n",
       "      <th>4</th>\n",
       "      <td>5</td>\n",
       "      <td>-0.905</td>\n",
       "      <td>2.334</td>\n",
       "      <td>-0.875</td>\n",
       "      <td>0.112</td>\n",
       "      <td>-0.697</td>\n",
       "      <td>0.189</td>\n",
       "      <td>0.235</td>\n",
       "      <td>0.253</td>\n",
       "      <td>-0.579</td>\n",
       "      <td>...</td>\n",
       "      <td>-0.269</td>\n",
       "      <td>-0.255</td>\n",
       "      <td>0</td>\n",
       "      <td>0</td>\n",
       "      <td>1</td>\n",
       "      <td>0</td>\n",
       "      <td>0</td>\n",
       "      <td>1</td>\n",
       "      <td>1</td>\n",
       "      <td>0</td>\n",
       "    </tr>\n",
       "  </tbody>\n",
       "</table>\n",
       "<p>5 rows × 26 columns</p>\n",
       "</div>"
      ],
      "text/plain": [
       "   Id  TotalLoan    Age  HstPaySep15  HstPayAug15  HstPayJul15  HstPayJun15  HstPayMay15  \\\n",
       "0   1     -1.137 -1.246        1.795        1.782       -0.697       -0.667       -1.530   \n",
       "1   2     -0.366 -1.029       -0.875        1.782        0.139        0.189        0.235   \n",
       "2   3     -0.597 -0.161        0.015        0.112        0.139        0.189        0.235   \n",
       "3   4     -0.905  0.164        0.015        0.112        0.139        0.189        0.235   \n",
       "4   5     -0.905  2.334       -0.875        0.112       -0.697        0.189        0.235   \n",
       "\n",
       "   HstPayApr15  BillSep15  ...  PayMay15  PayApr15  DefaultPayment  grad_school  university  \\\n",
       "0       -1.486     -0.643  ...    -0.314    -0.293               1            0           1   \n",
       "1        1.992     -0.659  ...    -0.314    -0.181               1            0           1   \n",
       "2        0.253     -0.299  ...    -0.249    -0.012               0            0           1   \n",
       "3        0.253     -0.057  ...    -0.244    -0.237               0            0           1   \n",
       "4        0.253     -0.579  ...    -0.269    -0.255               0            0           1   \n",
       "\n",
       "   high_school  Edu_other  male  married  divorced  \n",
       "0            0          0     0        1         0  \n",
       "1            0          0     0        0         0  \n",
       "2            0          0     0        0         0  \n",
       "3            0          0     0        1         0  \n",
       "4            0          0     1        1         0  \n",
       "\n",
       "[5 rows x 26 columns]"
      ]
     },
     "execution_count": 91,
     "metadata": {},
     "output_type": "execute_result"
    }
   ],
   "source": [
    "print('Rows and columns count:', credit.shape)\n",
    "credit.head(5)"
   ]
  },
  {
   "cell_type": "code",
   "execution_count": 92,
   "metadata": {},
   "outputs": [
    {
     "name": "stdout",
     "output_type": "stream",
     "text": [
      "<class 'pandas.core.frame.DataFrame'>\n",
      "RangeIndex: 30000 entries, 0 to 29999\n",
      "Data columns (total 26 columns):\n",
      " #   Column          Non-Null Count  Dtype  \n",
      "---  ------          --------------  -----  \n",
      " 0   Id              30000 non-null  int64  \n",
      " 1   TotalLoan       30000 non-null  float64\n",
      " 2   Age             30000 non-null  float64\n",
      " 3   HstPaySep15     30000 non-null  float64\n",
      " 4   HstPayAug15     30000 non-null  float64\n",
      " 5   HstPayJul15     30000 non-null  float64\n",
      " 6   HstPayJun15     30000 non-null  float64\n",
      " 7   HstPayMay15     30000 non-null  float64\n",
      " 8   HstPayApr15     30000 non-null  float64\n",
      " 9   BillSep15       30000 non-null  float64\n",
      " 10  BillJun15       30000 non-null  float64\n",
      " 11  BillApr15       30000 non-null  int64  \n",
      " 12  PaySep15        30000 non-null  int64  \n",
      " 13  PayAug15        30000 non-null  int64  \n",
      " 14  PayJul15        30000 non-null  int64  \n",
      " 15  PayJun15        30000 non-null  int64  \n",
      " 16  PayMay15        30000 non-null  float64\n",
      " 17  PayApr15        30000 non-null  float64\n",
      " 18  DefaultPayment  30000 non-null  int64  \n",
      " 19  grad_school     30000 non-null  int32  \n",
      " 20  university      30000 non-null  int32  \n",
      " 21  high_school     30000 non-null  int32  \n",
      " 22  Edu_other       30000 non-null  int32  \n",
      " 23  male            30000 non-null  int32  \n",
      " 24  married         30000 non-null  int32  \n",
      " 25  divorced        30000 non-null  int32  \n",
      "dtypes: float64(12), int32(7), int64(7)\n",
      "memory usage: 5.1 MB\n"
     ]
    }
   ],
   "source": [
    "credit.info()"
   ]
  },
  {
   "cell_type": "markdown",
   "metadata": {},
   "source": [
    "    Pushing DefaultPayment to Last Column"
   ]
  },
  {
   "cell_type": "code",
   "execution_count": 93,
   "metadata": {},
   "outputs": [],
   "source": [
    "cols = list(credit.columns.values) #Make a list of all of the columns in the df\n",
    "cols.pop(cols.index('DefaultPayment')) #Remove DefaultPayment from list\n",
    "credit = credit[cols+['DefaultPayment']] #Create new dataframe with columns in the order you want"
   ]
  },
  {
   "cell_type": "code",
   "execution_count": 94,
   "metadata": {},
   "outputs": [
    {
     "name": "stdout",
     "output_type": "stream",
     "text": [
      "<class 'pandas.core.frame.DataFrame'>\n",
      "RangeIndex: 30000 entries, 0 to 29999\n",
      "Data columns (total 26 columns):\n",
      " #   Column          Non-Null Count  Dtype  \n",
      "---  ------          --------------  -----  \n",
      " 0   Id              30000 non-null  int64  \n",
      " 1   TotalLoan       30000 non-null  float64\n",
      " 2   Age             30000 non-null  float64\n",
      " 3   HstPaySep15     30000 non-null  float64\n",
      " 4   HstPayAug15     30000 non-null  float64\n",
      " 5   HstPayJul15     30000 non-null  float64\n",
      " 6   HstPayJun15     30000 non-null  float64\n",
      " 7   HstPayMay15     30000 non-null  float64\n",
      " 8   HstPayApr15     30000 non-null  float64\n",
      " 9   BillSep15       30000 non-null  float64\n",
      " 10  BillJun15       30000 non-null  float64\n",
      " 11  BillApr15       30000 non-null  int64  \n",
      " 12  PaySep15        30000 non-null  int64  \n",
      " 13  PayAug15        30000 non-null  int64  \n",
      " 14  PayJul15        30000 non-null  int64  \n",
      " 15  PayJun15        30000 non-null  int64  \n",
      " 16  PayMay15        30000 non-null  float64\n",
      " 17  PayApr15        30000 non-null  float64\n",
      " 18  grad_school     30000 non-null  int32  \n",
      " 19  university      30000 non-null  int32  \n",
      " 20  high_school     30000 non-null  int32  \n",
      " 21  Edu_other       30000 non-null  int32  \n",
      " 22  male            30000 non-null  int32  \n",
      " 23  married         30000 non-null  int32  \n",
      " 24  divorced        30000 non-null  int32  \n",
      " 25  DefaultPayment  30000 non-null  int64  \n",
      "dtypes: float64(12), int32(7), int64(7)\n",
      "memory usage: 5.1 MB\n"
     ]
    }
   ],
   "source": [
    "credit.info()"
   ]
  },
  {
   "cell_type": "code",
   "execution_count": 95,
   "metadata": {},
   "outputs": [],
   "source": [
    "credit.to_csv('CleanCredit.csv')"
   ]
  },
  {
   "cell_type": "code",
   "execution_count": null,
   "metadata": {},
   "outputs": [],
   "source": []
  },
  {
   "cell_type": "code",
   "execution_count": 96,
   "metadata": {},
   "outputs": [],
   "source": [
    "#imports\n",
    "#numpy,pandas,scipy, math, matplotlib\n",
    "import numpy as np\n",
    "import pandas as pd\n",
    "import scipy\n",
    "from math import sqrt\n",
    "import matplotlib.pyplot as plt\n",
    "\n",
    "#estimators\n",
    "from sklearn.ensemble import RandomForestRegressor\n",
    "from sklearn.linear_model import LinearRegression\n",
    "from sklearn.svm import SVR\n",
    "from sklearn import linear_model\n",
    "\n",
    "#model metrics\n",
    "from sklearn.metrics import mean_squared_error\n",
    "from sklearn.metrics import r2_score\n",
    "from sklearn.model_selection import cross_val_score\n",
    "\n",
    "#cross validation\n",
    "from sklearn.model_selection import train_test_split"
   ]
  },
  {
   "cell_type": "code",
   "execution_count": 97,
   "metadata": {
    "scrolled": true
   },
   "outputs": [
    {
     "data": {
      "text/html": [
       "<div>\n",
       "<style scoped>\n",
       "    .dataframe tbody tr th:only-of-type {\n",
       "        vertical-align: middle;\n",
       "    }\n",
       "\n",
       "    .dataframe tbody tr th {\n",
       "        vertical-align: top;\n",
       "    }\n",
       "\n",
       "    .dataframe thead th {\n",
       "        text-align: right;\n",
       "    }\n",
       "</style>\n",
       "<table border=\"1\" class=\"dataframe\">\n",
       "  <thead>\n",
       "    <tr style=\"text-align: right;\">\n",
       "      <th></th>\n",
       "      <th>Unnamed: 0</th>\n",
       "      <th>Id</th>\n",
       "      <th>TotalLoan</th>\n",
       "      <th>Age</th>\n",
       "      <th>HstPaySep15</th>\n",
       "      <th>HstPayAug15</th>\n",
       "      <th>HstPayJul15</th>\n",
       "      <th>HstPayJun15</th>\n",
       "      <th>HstPayMay15</th>\n",
       "      <th>HstPayApr15</th>\n",
       "      <th>...</th>\n",
       "      <th>PayMay15</th>\n",
       "      <th>PayApr15</th>\n",
       "      <th>grad_school</th>\n",
       "      <th>university</th>\n",
       "      <th>high_school</th>\n",
       "      <th>Edu_other</th>\n",
       "      <th>male</th>\n",
       "      <th>married</th>\n",
       "      <th>divorced</th>\n",
       "      <th>DefaultPayment</th>\n",
       "    </tr>\n",
       "  </thead>\n",
       "  <tbody>\n",
       "    <tr>\n",
       "      <th>0</th>\n",
       "      <td>0</td>\n",
       "      <td>1</td>\n",
       "      <td>-1.137</td>\n",
       "      <td>-1.246</td>\n",
       "      <td>1.795</td>\n",
       "      <td>1.782</td>\n",
       "      <td>-0.697</td>\n",
       "      <td>-0.667</td>\n",
       "      <td>-1.530</td>\n",
       "      <td>-1.486</td>\n",
       "      <td>...</td>\n",
       "      <td>-0.314</td>\n",
       "      <td>-0.293</td>\n",
       "      <td>0</td>\n",
       "      <td>1</td>\n",
       "      <td>0</td>\n",
       "      <td>0</td>\n",
       "      <td>0</td>\n",
       "      <td>1</td>\n",
       "      <td>0</td>\n",
       "      <td>1</td>\n",
       "    </tr>\n",
       "    <tr>\n",
       "      <th>1</th>\n",
       "      <td>1</td>\n",
       "      <td>2</td>\n",
       "      <td>-0.366</td>\n",
       "      <td>-1.029</td>\n",
       "      <td>-0.875</td>\n",
       "      <td>1.782</td>\n",
       "      <td>0.139</td>\n",
       "      <td>0.189</td>\n",
       "      <td>0.235</td>\n",
       "      <td>1.992</td>\n",
       "      <td>...</td>\n",
       "      <td>-0.314</td>\n",
       "      <td>-0.181</td>\n",
       "      <td>0</td>\n",
       "      <td>1</td>\n",
       "      <td>0</td>\n",
       "      <td>0</td>\n",
       "      <td>0</td>\n",
       "      <td>0</td>\n",
       "      <td>0</td>\n",
       "      <td>1</td>\n",
       "    </tr>\n",
       "    <tr>\n",
       "      <th>2</th>\n",
       "      <td>2</td>\n",
       "      <td>3</td>\n",
       "      <td>-0.597</td>\n",
       "      <td>-0.161</td>\n",
       "      <td>0.015</td>\n",
       "      <td>0.112</td>\n",
       "      <td>0.139</td>\n",
       "      <td>0.189</td>\n",
       "      <td>0.235</td>\n",
       "      <td>0.253</td>\n",
       "      <td>...</td>\n",
       "      <td>-0.249</td>\n",
       "      <td>-0.012</td>\n",
       "      <td>0</td>\n",
       "      <td>1</td>\n",
       "      <td>0</td>\n",
       "      <td>0</td>\n",
       "      <td>0</td>\n",
       "      <td>0</td>\n",
       "      <td>0</td>\n",
       "      <td>0</td>\n",
       "    </tr>\n",
       "    <tr>\n",
       "      <th>3</th>\n",
       "      <td>3</td>\n",
       "      <td>4</td>\n",
       "      <td>-0.905</td>\n",
       "      <td>0.164</td>\n",
       "      <td>0.015</td>\n",
       "      <td>0.112</td>\n",
       "      <td>0.139</td>\n",
       "      <td>0.189</td>\n",
       "      <td>0.235</td>\n",
       "      <td>0.253</td>\n",
       "      <td>...</td>\n",
       "      <td>-0.244</td>\n",
       "      <td>-0.237</td>\n",
       "      <td>0</td>\n",
       "      <td>1</td>\n",
       "      <td>0</td>\n",
       "      <td>0</td>\n",
       "      <td>0</td>\n",
       "      <td>1</td>\n",
       "      <td>0</td>\n",
       "      <td>0</td>\n",
       "    </tr>\n",
       "    <tr>\n",
       "      <th>4</th>\n",
       "      <td>4</td>\n",
       "      <td>5</td>\n",
       "      <td>-0.905</td>\n",
       "      <td>2.334</td>\n",
       "      <td>-0.875</td>\n",
       "      <td>0.112</td>\n",
       "      <td>-0.697</td>\n",
       "      <td>0.189</td>\n",
       "      <td>0.235</td>\n",
       "      <td>0.253</td>\n",
       "      <td>...</td>\n",
       "      <td>-0.269</td>\n",
       "      <td>-0.255</td>\n",
       "      <td>0</td>\n",
       "      <td>1</td>\n",
       "      <td>0</td>\n",
       "      <td>0</td>\n",
       "      <td>1</td>\n",
       "      <td>1</td>\n",
       "      <td>0</td>\n",
       "      <td>0</td>\n",
       "    </tr>\n",
       "  </tbody>\n",
       "</table>\n",
       "<p>5 rows × 27 columns</p>\n",
       "</div>"
      ],
      "text/plain": [
       "   Unnamed: 0  Id  TotalLoan    Age  HstPaySep15  HstPayAug15  HstPayJul15  HstPayJun15  \\\n",
       "0           0   1     -1.137 -1.246        1.795        1.782       -0.697       -0.667   \n",
       "1           1   2     -0.366 -1.029       -0.875        1.782        0.139        0.189   \n",
       "2           2   3     -0.597 -0.161        0.015        0.112        0.139        0.189   \n",
       "3           3   4     -0.905  0.164        0.015        0.112        0.139        0.189   \n",
       "4           4   5     -0.905  2.334       -0.875        0.112       -0.697        0.189   \n",
       "\n",
       "   HstPayMay15  HstPayApr15  ...  PayMay15  PayApr15  grad_school  university  high_school  \\\n",
       "0       -1.530       -1.486  ...    -0.314    -0.293            0           1            0   \n",
       "1        0.235        1.992  ...    -0.314    -0.181            0           1            0   \n",
       "2        0.235        0.253  ...    -0.249    -0.012            0           1            0   \n",
       "3        0.235        0.253  ...    -0.244    -0.237            0           1            0   \n",
       "4        0.235        0.253  ...    -0.269    -0.255            0           1            0   \n",
       "\n",
       "   Edu_other  male  married  divorced  DefaultPayment  \n",
       "0          0     0        1         0               1  \n",
       "1          0     0        0         0               1  \n",
       "2          0     0        0         0               0  \n",
       "3          0     0        1         0               0  \n",
       "4          0     1        1         0               0  \n",
       "\n",
       "[5 rows x 27 columns]"
      ]
     },
     "execution_count": 97,
     "metadata": {},
     "output_type": "execute_result"
    }
   ],
   "source": [
    "credit = pd.read_csv('CleanCredit.csv')\n",
    "credit.head()"
   ]
  },
  {
   "cell_type": "code",
   "execution_count": 98,
   "metadata": {},
   "outputs": [
    {
     "data": {
      "text/html": [
       "<div>\n",
       "<style scoped>\n",
       "    .dataframe tbody tr th:only-of-type {\n",
       "        vertical-align: middle;\n",
       "    }\n",
       "\n",
       "    .dataframe tbody tr th {\n",
       "        vertical-align: top;\n",
       "    }\n",
       "\n",
       "    .dataframe thead th {\n",
       "        text-align: right;\n",
       "    }\n",
       "</style>\n",
       "<table border=\"1\" class=\"dataframe\">\n",
       "  <thead>\n",
       "    <tr style=\"text-align: right;\">\n",
       "      <th></th>\n",
       "      <th>Unnamed: 0</th>\n",
       "      <th>TotalLoan</th>\n",
       "      <th>Age</th>\n",
       "      <th>HstPaySep15</th>\n",
       "      <th>HstPayAug15</th>\n",
       "      <th>HstPayJul15</th>\n",
       "      <th>HstPayJun15</th>\n",
       "      <th>HstPayMay15</th>\n",
       "      <th>HstPayApr15</th>\n",
       "      <th>BillSep15</th>\n",
       "      <th>...</th>\n",
       "      <th>PayMay15</th>\n",
       "      <th>PayApr15</th>\n",
       "      <th>grad_school</th>\n",
       "      <th>university</th>\n",
       "      <th>high_school</th>\n",
       "      <th>Edu_other</th>\n",
       "      <th>male</th>\n",
       "      <th>married</th>\n",
       "      <th>divorced</th>\n",
       "      <th>DefaultPayment</th>\n",
       "    </tr>\n",
       "  </thead>\n",
       "  <tbody>\n",
       "    <tr>\n",
       "      <th>0</th>\n",
       "      <td>0</td>\n",
       "      <td>-1.137</td>\n",
       "      <td>-1.246</td>\n",
       "      <td>1.795</td>\n",
       "      <td>1.782</td>\n",
       "      <td>-0.697</td>\n",
       "      <td>-0.667</td>\n",
       "      <td>-1.530</td>\n",
       "      <td>-1.486</td>\n",
       "      <td>-0.643</td>\n",
       "      <td>...</td>\n",
       "      <td>-0.314</td>\n",
       "      <td>-0.293</td>\n",
       "      <td>0</td>\n",
       "      <td>1</td>\n",
       "      <td>0</td>\n",
       "      <td>0</td>\n",
       "      <td>0</td>\n",
       "      <td>1</td>\n",
       "      <td>0</td>\n",
       "      <td>1</td>\n",
       "    </tr>\n",
       "    <tr>\n",
       "      <th>1</th>\n",
       "      <td>1</td>\n",
       "      <td>-0.366</td>\n",
       "      <td>-1.029</td>\n",
       "      <td>-0.875</td>\n",
       "      <td>1.782</td>\n",
       "      <td>0.139</td>\n",
       "      <td>0.189</td>\n",
       "      <td>0.235</td>\n",
       "      <td>1.992</td>\n",
       "      <td>-0.659</td>\n",
       "      <td>...</td>\n",
       "      <td>-0.314</td>\n",
       "      <td>-0.181</td>\n",
       "      <td>0</td>\n",
       "      <td>1</td>\n",
       "      <td>0</td>\n",
       "      <td>0</td>\n",
       "      <td>0</td>\n",
       "      <td>0</td>\n",
       "      <td>0</td>\n",
       "      <td>1</td>\n",
       "    </tr>\n",
       "    <tr>\n",
       "      <th>2</th>\n",
       "      <td>2</td>\n",
       "      <td>-0.597</td>\n",
       "      <td>-0.161</td>\n",
       "      <td>0.015</td>\n",
       "      <td>0.112</td>\n",
       "      <td>0.139</td>\n",
       "      <td>0.189</td>\n",
       "      <td>0.235</td>\n",
       "      <td>0.253</td>\n",
       "      <td>-0.299</td>\n",
       "      <td>...</td>\n",
       "      <td>-0.249</td>\n",
       "      <td>-0.012</td>\n",
       "      <td>0</td>\n",
       "      <td>1</td>\n",
       "      <td>0</td>\n",
       "      <td>0</td>\n",
       "      <td>0</td>\n",
       "      <td>0</td>\n",
       "      <td>0</td>\n",
       "      <td>0</td>\n",
       "    </tr>\n",
       "    <tr>\n",
       "      <th>3</th>\n",
       "      <td>3</td>\n",
       "      <td>-0.905</td>\n",
       "      <td>0.164</td>\n",
       "      <td>0.015</td>\n",
       "      <td>0.112</td>\n",
       "      <td>0.139</td>\n",
       "      <td>0.189</td>\n",
       "      <td>0.235</td>\n",
       "      <td>0.253</td>\n",
       "      <td>-0.057</td>\n",
       "      <td>...</td>\n",
       "      <td>-0.244</td>\n",
       "      <td>-0.237</td>\n",
       "      <td>0</td>\n",
       "      <td>1</td>\n",
       "      <td>0</td>\n",
       "      <td>0</td>\n",
       "      <td>0</td>\n",
       "      <td>1</td>\n",
       "      <td>0</td>\n",
       "      <td>0</td>\n",
       "    </tr>\n",
       "    <tr>\n",
       "      <th>4</th>\n",
       "      <td>4</td>\n",
       "      <td>-0.905</td>\n",
       "      <td>2.334</td>\n",
       "      <td>-0.875</td>\n",
       "      <td>0.112</td>\n",
       "      <td>-0.697</td>\n",
       "      <td>0.189</td>\n",
       "      <td>0.235</td>\n",
       "      <td>0.253</td>\n",
       "      <td>-0.579</td>\n",
       "      <td>...</td>\n",
       "      <td>-0.269</td>\n",
       "      <td>-0.255</td>\n",
       "      <td>0</td>\n",
       "      <td>1</td>\n",
       "      <td>0</td>\n",
       "      <td>0</td>\n",
       "      <td>1</td>\n",
       "      <td>1</td>\n",
       "      <td>0</td>\n",
       "      <td>0</td>\n",
       "    </tr>\n",
       "  </tbody>\n",
       "</table>\n",
       "<p>5 rows × 26 columns</p>\n",
       "</div>"
      ],
      "text/plain": [
       "   Unnamed: 0  TotalLoan    Age  HstPaySep15  HstPayAug15  HstPayJul15  HstPayJun15  HstPayMay15  \\\n",
       "0           0     -1.137 -1.246        1.795        1.782       -0.697       -0.667       -1.530   \n",
       "1           1     -0.366 -1.029       -0.875        1.782        0.139        0.189        0.235   \n",
       "2           2     -0.597 -0.161        0.015        0.112        0.139        0.189        0.235   \n",
       "3           3     -0.905  0.164        0.015        0.112        0.139        0.189        0.235   \n",
       "4           4     -0.905  2.334       -0.875        0.112       -0.697        0.189        0.235   \n",
       "\n",
       "   HstPayApr15  BillSep15  ...  PayMay15  PayApr15  grad_school  university  high_school  \\\n",
       "0       -1.486     -0.643  ...    -0.314    -0.293            0           1            0   \n",
       "1        1.992     -0.659  ...    -0.314    -0.181            0           1            0   \n",
       "2        0.253     -0.299  ...    -0.249    -0.012            0           1            0   \n",
       "3        0.253     -0.057  ...    -0.244    -0.237            0           1            0   \n",
       "4        0.253     -0.579  ...    -0.269    -0.255            0           1            0   \n",
       "\n",
       "   Edu_other  male  married  divorced  DefaultPayment  \n",
       "0          0     0        1         0               1  \n",
       "1          0     0        0         0               1  \n",
       "2          0     0        0         0               0  \n",
       "3          0     0        1         0               0  \n",
       "4          0     1        1         0               0  \n",
       "\n",
       "[5 rows x 26 columns]"
      ]
     },
     "execution_count": 98,
     "metadata": {},
     "output_type": "execute_result"
    }
   ],
   "source": [
    "credit = credit.drop(['Id'], axis=1)\n",
    "credit.head()"
   ]
  },
  {
   "cell_type": "code",
   "execution_count": 99,
   "metadata": {},
   "outputs": [
    {
     "data": {
      "text/plain": [
       "Index(['Unnamed: 0', 'TotalLoan', 'Age', 'HstPaySep15', 'HstPayAug15', 'HstPayJul15',\n",
       "       'HstPayJun15', 'HstPayMay15', 'HstPayApr15', 'BillSep15', 'BillJun15', 'BillApr15',\n",
       "       'PaySep15', 'PayAug15', 'PayJul15', 'PayJun15', 'PayMay15', 'PayApr15', 'grad_school',\n",
       "       'university', 'high_school', 'Edu_other', 'male', 'married', 'divorced', 'DefaultPayment'],\n",
       "      dtype='object')"
      ]
     },
     "execution_count": 99,
     "metadata": {},
     "output_type": "execute_result"
    }
   ],
   "source": [
    "credit.columns"
   ]
  },
  {
   "cell_type": "code",
   "execution_count": 100,
   "metadata": {
    "scrolled": true
   },
   "outputs": [
    {
     "name": "stdout",
     "output_type": "stream",
     "text": [
      "Summary of feature sample\n"
     ]
    },
    {
     "data": {
      "text/plain": [
       "Index(['Unnamed: 0', 'TotalLoan', 'Age', 'HstPaySep15', 'HstPayAug15', 'HstPayJul15',\n",
       "       'HstPayJun15', 'HstPayMay15', 'HstPayApr15', 'BillSep15', 'BillJun15', 'BillApr15',\n",
       "       'PaySep15', 'PayAug15', 'PayJul15', 'PayJun15', 'PayMay15', 'PayApr15', 'grad_school',\n",
       "       'university', 'high_school', 'Edu_other', 'male', 'married', 'divorced'],\n",
       "      dtype='object')"
      ]
     },
     "execution_count": 100,
     "metadata": {},
     "output_type": "execute_result"
    }
   ],
   "source": [
    "#features\n",
    "X = credit.iloc[:,:25]\n",
    "print('Summary of feature sample')\n",
    "X.columns"
   ]
  },
  {
   "cell_type": "code",
   "execution_count": 101,
   "metadata": {},
   "outputs": [
    {
     "data": {
      "text/plain": [
       "0        1\n",
       "1        1\n",
       "2        0\n",
       "3        0\n",
       "4        0\n",
       "        ..\n",
       "29995    0\n",
       "29996    0\n",
       "29997    1\n",
       "29998    1\n",
       "29999    1\n",
       "Name: DefaultPayment, Length: 30000, dtype: int64"
      ]
     },
     "execution_count": 101,
     "metadata": {},
     "output_type": "execute_result"
    }
   ],
   "source": [
    "#dependent variable\n",
    "y = credit['DefaultPayment']\n",
    "y"
   ]
  },
  {
   "cell_type": "code",
   "execution_count": 102,
   "metadata": {},
   "outputs": [],
   "source": [
    "X_train, X_test, y_train, y_test = train_test_split(X,y, test_size = .25, random_state=123)"
   ]
  },
  {
   "cell_type": "code",
   "execution_count": 103,
   "metadata": {},
   "outputs": [
    {
     "data": {
      "text/html": [
       "<div>\n",
       "<style scoped>\n",
       "    .dataframe tbody tr th:only-of-type {\n",
       "        vertical-align: middle;\n",
       "    }\n",
       "\n",
       "    .dataframe tbody tr th {\n",
       "        vertical-align: top;\n",
       "    }\n",
       "\n",
       "    .dataframe thead th {\n",
       "        text-align: right;\n",
       "    }\n",
       "</style>\n",
       "<table border=\"1\" class=\"dataframe\">\n",
       "  <thead>\n",
       "    <tr style=\"text-align: right;\">\n",
       "      <th></th>\n",
       "      <th>Unnamed: 0</th>\n",
       "      <th>TotalLoan</th>\n",
       "      <th>Age</th>\n",
       "      <th>HstPaySep15</th>\n",
       "      <th>HstPayAug15</th>\n",
       "      <th>HstPayJul15</th>\n",
       "      <th>HstPayJun15</th>\n",
       "      <th>HstPayMay15</th>\n",
       "      <th>HstPayApr15</th>\n",
       "      <th>BillSep15</th>\n",
       "      <th>...</th>\n",
       "      <th>PayJun15</th>\n",
       "      <th>PayMay15</th>\n",
       "      <th>PayApr15</th>\n",
       "      <th>grad_school</th>\n",
       "      <th>university</th>\n",
       "      <th>high_school</th>\n",
       "      <th>Edu_other</th>\n",
       "      <th>male</th>\n",
       "      <th>married</th>\n",
       "      <th>divorced</th>\n",
       "    </tr>\n",
       "  </thead>\n",
       "  <tbody>\n",
       "    <tr>\n",
       "      <th>16095</th>\n",
       "      <td>16095</td>\n",
       "      <td>-0.212</td>\n",
       "      <td>0.056</td>\n",
       "      <td>0.905</td>\n",
       "      <td>1.782</td>\n",
       "      <td>2.645</td>\n",
       "      <td>1.899</td>\n",
       "      <td>0.235</td>\n",
       "      <td>0.253</td>\n",
       "      <td>0.111</td>\n",
       "      <td>...</td>\n",
       "      <td>3009</td>\n",
       "      <td>-0.249</td>\n",
       "      <td>4.994</td>\n",
       "      <td>0</td>\n",
       "      <td>1</td>\n",
       "      <td>0</td>\n",
       "      <td>0</td>\n",
       "      <td>0</td>\n",
       "      <td>1</td>\n",
       "      <td>0</td>\n",
       "    </tr>\n",
       "    <tr>\n",
       "      <th>28548</th>\n",
       "      <td>28548</td>\n",
       "      <td>0.328</td>\n",
       "      <td>-0.270</td>\n",
       "      <td>0.015</td>\n",
       "      <td>0.112</td>\n",
       "      <td>0.139</td>\n",
       "      <td>-1.522</td>\n",
       "      <td>-1.530</td>\n",
       "      <td>-1.486</td>\n",
       "      <td>-0.111</td>\n",
       "      <td>...</td>\n",
       "      <td>0</td>\n",
       "      <td>-0.314</td>\n",
       "      <td>-0.293</td>\n",
       "      <td>0</td>\n",
       "      <td>1</td>\n",
       "      <td>0</td>\n",
       "      <td>0</td>\n",
       "      <td>0</td>\n",
       "      <td>0</td>\n",
       "      <td>0</td>\n",
       "    </tr>\n",
       "    <tr>\n",
       "      <th>25096</th>\n",
       "      <td>25096</td>\n",
       "      <td>-1.137</td>\n",
       "      <td>1.900</td>\n",
       "      <td>-0.875</td>\n",
       "      <td>0.112</td>\n",
       "      <td>-0.697</td>\n",
       "      <td>-0.667</td>\n",
       "      <td>-0.648</td>\n",
       "      <td>-0.616</td>\n",
       "      <td>-0.511</td>\n",
       "      <td>...</td>\n",
       "      <td>2880</td>\n",
       "      <td>-0.209</td>\n",
       "      <td>-0.293</td>\n",
       "      <td>0</td>\n",
       "      <td>0</td>\n",
       "      <td>1</td>\n",
       "      <td>0</td>\n",
       "      <td>1</td>\n",
       "      <td>0</td>\n",
       "      <td>0</td>\n",
       "    </tr>\n",
       "    <tr>\n",
       "      <th>12260</th>\n",
       "      <td>12260</td>\n",
       "      <td>-0.597</td>\n",
       "      <td>-1.355</td>\n",
       "      <td>1.795</td>\n",
       "      <td>3.453</td>\n",
       "      <td>3.481</td>\n",
       "      <td>2.755</td>\n",
       "      <td>3.765</td>\n",
       "      <td>2.862</td>\n",
       "      <td>-0.184</td>\n",
       "      <td>...</td>\n",
       "      <td>0</td>\n",
       "      <td>-0.314</td>\n",
       "      <td>-0.237</td>\n",
       "      <td>0</td>\n",
       "      <td>1</td>\n",
       "      <td>0</td>\n",
       "      <td>0</td>\n",
       "      <td>0</td>\n",
       "      <td>0</td>\n",
       "      <td>0</td>\n",
       "    </tr>\n",
       "    <tr>\n",
       "      <th>21549</th>\n",
       "      <td>21549</td>\n",
       "      <td>-0.905</td>\n",
       "      <td>-1.463</td>\n",
       "      <td>-1.765</td>\n",
       "      <td>-1.559</td>\n",
       "      <td>-1.532</td>\n",
       "      <td>-1.522</td>\n",
       "      <td>-1.530</td>\n",
       "      <td>-1.486</td>\n",
       "      <td>-0.662</td>\n",
       "      <td>...</td>\n",
       "      <td>0</td>\n",
       "      <td>0.013</td>\n",
       "      <td>-0.293</td>\n",
       "      <td>0</td>\n",
       "      <td>0</td>\n",
       "      <td>1</td>\n",
       "      <td>0</td>\n",
       "      <td>0</td>\n",
       "      <td>0</td>\n",
       "      <td>0</td>\n",
       "    </tr>\n",
       "  </tbody>\n",
       "</table>\n",
       "<p>5 rows × 25 columns</p>\n",
       "</div>"
      ],
      "text/plain": [
       "       Unnamed: 0  TotalLoan    Age  HstPaySep15  HstPayAug15  HstPayJul15  HstPayJun15  \\\n",
       "16095       16095     -0.212  0.056        0.905        1.782        2.645        1.899   \n",
       "28548       28548      0.328 -0.270        0.015        0.112        0.139       -1.522   \n",
       "25096       25096     -1.137  1.900       -0.875        0.112       -0.697       -0.667   \n",
       "12260       12260     -0.597 -1.355        1.795        3.453        3.481        2.755   \n",
       "21549       21549     -0.905 -1.463       -1.765       -1.559       -1.532       -1.522   \n",
       "\n",
       "       HstPayMay15  HstPayApr15  BillSep15  ...  PayJun15  PayMay15  PayApr15  grad_school  \\\n",
       "16095        0.235        0.253      0.111  ...      3009    -0.249     4.994            0   \n",
       "28548       -1.530       -1.486     -0.111  ...         0    -0.314    -0.293            0   \n",
       "25096       -0.648       -0.616     -0.511  ...      2880    -0.209    -0.293            0   \n",
       "12260        3.765        2.862     -0.184  ...         0    -0.314    -0.237            0   \n",
       "21549       -1.530       -1.486     -0.662  ...         0     0.013    -0.293            0   \n",
       "\n",
       "       university  high_school  Edu_other  male  married  divorced  \n",
       "16095           1            0          0     0        1         0  \n",
       "28548           1            0          0     0        0         0  \n",
       "25096           0            1          0     1        0         0  \n",
       "12260           1            0          0     0        0         0  \n",
       "21549           0            1          0     0        0         0  \n",
       "\n",
       "[5 rows x 25 columns]"
      ]
     },
     "execution_count": 103,
     "metadata": {},
     "output_type": "execute_result"
    }
   ],
   "source": [
    "#verifying if worked\n",
    "X_train.head()"
   ]
  },
  {
   "cell_type": "code",
   "execution_count": 104,
   "metadata": {},
   "outputs": [
    {
     "data": {
      "text/plain": [
       "16095    0\n",
       "28548    0\n",
       "25096    1\n",
       "12260    0\n",
       "21549    0\n",
       "Name: DefaultPayment, dtype: int64"
      ]
     },
     "execution_count": 104,
     "metadata": {},
     "output_type": "execute_result"
    }
   ],
   "source": [
    "y_train.head()"
   ]
  },
  {
   "cell_type": "code",
   "execution_count": 105,
   "metadata": {},
   "outputs": [
    {
     "data": {
      "text/plain": [
       "((22500, 25), (7500, 25))"
      ]
     },
     "execution_count": 105,
     "metadata": {},
     "output_type": "execute_result"
    }
   ],
   "source": [
    "X_train.shape, X_test.shape"
   ]
  },
  {
   "cell_type": "code",
   "execution_count": 106,
   "metadata": {},
   "outputs": [
    {
     "data": {
      "text/plain": [
       "((22500,), (7500,))"
      ]
     },
     "execution_count": 106,
     "metadata": {},
     "output_type": "execute_result"
    }
   ],
   "source": [
    "y_train.shape,y_test.shape"
   ]
  },
  {
   "cell_type": "code",
   "execution_count": 107,
   "metadata": {},
   "outputs": [
    {
     "data": {
      "text/plain": [
       "((16875, 25), (5625, 25))"
      ]
     },
     "execution_count": 107,
     "metadata": {},
     "output_type": "execute_result"
    }
   ],
   "source": [
    "X_train, X_test, y_train, y_test = train_test_split(X_train, y_train)\n",
    "X_train.shape, X_test.shape"
   ]
  },
  {
   "cell_type": "markdown",
   "metadata": {},
   "source": [
    "# Models"
   ]
  },
  {
   "cell_type": "markdown",
   "metadata": {},
   "source": [
    "Random Forest "
   ]
  },
  {
   "cell_type": "code",
   "execution_count": 108,
   "metadata": {},
   "outputs": [],
   "source": [
    "from sklearn.ensemble import RandomForestClassifier\n",
    "modelRF = RandomForestClassifier()"
   ]
  },
  {
   "cell_type": "code",
   "execution_count": 109,
   "metadata": {},
   "outputs": [
    {
     "data": {
      "text/plain": [
       "RandomForestClassifier(bootstrap=True, ccp_alpha=0.0, class_weight=None,\n",
       "                       criterion='gini', max_depth=None, max_features='auto',\n",
       "                       max_leaf_nodes=None, max_samples=None,\n",
       "                       min_impurity_decrease=0.0, min_impurity_split=None,\n",
       "                       min_samples_leaf=1, min_samples_split=2,\n",
       "                       min_weight_fraction_leaf=0.0, n_estimators=100,\n",
       "                       n_jobs=None, oob_score=False, random_state=None,\n",
       "                       verbose=0, warm_start=False)"
      ]
     },
     "execution_count": 109,
     "metadata": {},
     "output_type": "execute_result"
    }
   ],
   "source": [
    "modelRF.fit(X_train,y_train)"
   ]
  },
  {
   "cell_type": "code",
   "execution_count": 110,
   "metadata": {},
   "outputs": [
    {
     "name": "stdout",
     "output_type": "stream",
     "text": [
      "0.8191407599794356\n"
     ]
    },
    {
     "data": {
      "text/plain": [
       "0.9999407407407407"
      ]
     },
     "execution_count": 110,
     "metadata": {},
     "output_type": "execute_result"
    }
   ],
   "source": [
    "print(cross_val_score(modelRF, X_train, y_train, cv = 10, scoring = 'accuracy').mean())\n",
    "modelRF.score(X_train,y_train)"
   ]
  },
  {
   "cell_type": "code",
   "execution_count": 111,
   "metadata": {},
   "outputs": [
    {
     "data": {
      "text/plain": [
       "array([0, 0, 0, ..., 0, 0, 0], dtype=int64)"
      ]
     },
     "execution_count": 111,
     "metadata": {},
     "output_type": "execute_result"
    }
   ],
   "source": [
    "predictionsRF = modelRF.predict(X_test)\n",
    "predictionsRF"
   ]
  },
  {
   "cell_type": "code",
   "execution_count": 112,
   "metadata": {},
   "outputs": [],
   "source": [
    "from sklearn.metrics import confusion_matrix"
   ]
  },
  {
   "cell_type": "code",
   "execution_count": 113,
   "metadata": {},
   "outputs": [],
   "source": [
    "import seaborn as sns"
   ]
  },
  {
   "cell_type": "code",
   "execution_count": 114,
   "metadata": {},
   "outputs": [
    {
     "data": {
      "text/plain": [
       "Text(0.5, 1, 'Confusion Matrix - RF')"
      ]
     },
     "execution_count": 114,
     "metadata": {},
     "output_type": "execute_result"
    },
    {
     "data": {
      "image/png": "[encoded data removed]",
      "text/plain": [
       "<Figure size 288x216 with 2 Axes>"
      ]
     },
     "metadata": {
      "needs_background": "light"
     },
     "output_type": "display_data"
    }
   ],
   "source": [
    "# Confusion Matrix \n",
    "cm_RF = confusion_matrix(y_test, predictionsRF)\n",
    "cm_RF\n",
    "plt.figure(figsize=(4,3))\n",
    "sns.heatmap(cm_RF,annot=True, cmap=\"Blues\", fmt=\"d\", \n",
    "            xticklabels = ['Non-default', 'Default'], \n",
    "            yticklabels = ['Non-default', 'Default'])\n",
    "plt.ylabel('Actual label')\n",
    "plt.xlabel('Predicted label')\n",
    "plt.title(\"Confusion Matrix - RF\")"
   ]
  },
  {
   "cell_type": "markdown",
   "metadata": {},
   "source": [
    "Logistic Regression "
   ]
  },
  {
   "cell_type": "code",
   "execution_count": 115,
   "metadata": {},
   "outputs": [],
   "source": [
    "from sklearn.linear_model import LogisticRegression"
   ]
  },
  {
   "cell_type": "code",
   "execution_count": 116,
   "metadata": {},
   "outputs": [],
   "source": [
    "ModelLR = LogisticRegression()"
   ]
  },
  {
   "cell_type": "code",
   "execution_count": 117,
   "metadata": {},
   "outputs": [
    {
     "data": {
      "text/plain": [
       "LogisticRegression(C=1.0, class_weight=None, dual=False, fit_intercept=True,\n",
       "                   intercept_scaling=1, l1_ratio=None, max_iter=100,\n",
       "                   multi_class='auto', n_jobs=None, penalty='l2',\n",
       "                   random_state=None, solver='lbfgs', tol=0.0001, verbose=0,\n",
       "                   warm_start=False)"
      ]
     },
     "execution_count": 117,
     "metadata": {},
     "output_type": "execute_result"
    }
   ],
   "source": [
    "ModelLR.fit(X_train,y_train)"
   ]
  },
  {
   "cell_type": "code",
   "execution_count": 118,
   "metadata": {},
   "outputs": [
    {
     "name": "stderr",
     "output_type": "stream",
     "text": [
      "C:\\Users\\admin\\anaconda3\\lib\\site-packages\\sklearn\\linear_model\\_logistic.py:940: ConvergenceWarning: lbfgs failed to converge (status=1):\n",
      "STOP: TOTAL NO. of ITERATIONS REACHED LIMIT.\n",
      "\n",
      "Increase the number of iterations (max_iter) or scale the data as shown in:\n",
      "    https://scikit-learn.org/stable/modules/preprocessing.html\n",
      "Please also refer to the documentation for alternative solver options:\n",
      "    https://scikit-learn.org/stable/modules/linear_model.html#logistic-regression\n",
      "  extra_warning_msg=_LOGISTIC_SOLVER_CONVERGENCE_MSG)\n"
     ]
    },
    {
     "name": "stdout",
     "output_type": "stream",
     "text": [
      "0.7991720207777906\n"
     ]
    }
   ],
   "source": [
    "print(cross_val_score(ModelLR, X_train, y_train, cv = 10, scoring = 'accuracy').mean())"
   ]
  },
  {
   "cell_type": "code",
   "execution_count": 119,
   "metadata": {},
   "outputs": [
    {
     "data": {
      "text/plain": [
       "array([0, 0, 0, ..., 0, 0, 0], dtype=int64)"
      ]
     },
     "execution_count": 119,
     "metadata": {},
     "output_type": "execute_result"
    }
   ],
   "source": [
    "predictionsLR = ModelLR.predict(X_test)\n",
    "predictionsLR"
   ]
  },
  {
   "cell_type": "code",
   "execution_count": 120,
   "metadata": {},
   "outputs": [
    {
     "data": {
      "text/plain": [
       "Text(0.5, 1, 'Confusion Matrix - LR')"
      ]
     },
     "execution_count": 120,
     "metadata": {},
     "output_type": "execute_result"
    },
    {
     "data": {
      "image/png": "[encoded data removed]",
      "text/plain": [
       "<Figure size 288x216 with 2 Axes>"
      ]
     },
     "metadata": {
      "needs_background": "light"
     },
     "output_type": "display_data"
    }
   ],
   "source": [
    "# Confusion Matrix \n",
    "cm_LR = confusion_matrix(y_test, predictionsLR)\n",
    "cm_LR\n",
    "plt.figure(figsize=(4,3))\n",
    "sns.heatmap(cm_LR,annot=True, cmap=\"Blues\", fmt=\"d\", \n",
    "            xticklabels = ['Non-default', 'Default'], \n",
    "            yticklabels = ['Non-default', 'Default'])\n",
    "plt.ylabel('Actual label')\n",
    "plt.xlabel('Predicted label')\n",
    "plt.title(\"Confusion Matrix - LR\")"
   ]
  },
  {
   "cell_type": "markdown",
   "metadata": {},
   "source": [
    "SVC"
   ]
  },
  {
   "cell_type": "code",
   "execution_count": 121,
   "metadata": {},
   "outputs": [],
   "source": [
    "from sklearn.svm import SVC"
   ]
  },
  {
   "cell_type": "code",
   "execution_count": 126,
   "metadata": {},
   "outputs": [],
   "source": [
    "modelSVC = SVC(kernel = 'rbf', random_state = 0)"
   ]
  },
  {
   "cell_type": "code",
   "execution_count": 127,
   "metadata": {},
   "outputs": [
    {
     "data": {
      "text/plain": [
       "SVC(C=1.0, break_ties=False, cache_size=200, class_weight=None, coef0=0.0,\n",
       "    decision_function_shape='ovr', degree=3, gamma='scale', kernel='rbf',\n",
       "    max_iter=-1, probability=False, random_state=0, shrinking=True, tol=0.001,\n",
       "    verbose=False)"
      ]
     },
     "execution_count": 127,
     "metadata": {},
     "output_type": "execute_result"
    }
   ],
   "source": [
    "modelSVC.fit(X_train,y_train)"
   ]
  },
  {
   "cell_type": "code",
   "execution_count": 128,
   "metadata": {},
   "outputs": [
    {
     "name": "stdout",
     "output_type": "stream",
     "text": [
      "0.7794962962962962\n"
     ]
    },
    {
     "data": {
      "text/plain": [
       "0.7796148148148148"
      ]
     },
     "execution_count": 128,
     "metadata": {},
     "output_type": "execute_result"
    }
   ],
   "source": [
    "print(cross_val_score(modelSVC, X_train, y_train).mean()) \n",
    "modelSVC.score(X_train,y_train)"
   ]
  },
  {
   "cell_type": "code",
   "execution_count": 130,
   "metadata": {},
   "outputs": [
    {
     "data": {
      "text/plain": [
       "array([0, 0, 0, ..., 0, 0, 0], dtype=int64)"
      ]
     },
     "execution_count": 130,
     "metadata": {},
     "output_type": "execute_result"
    }
   ],
   "source": [
    "predictionsSVC = modelSVC.predict(X_test)\n",
    "predictionsSVC"
   ]
  },
  {
   "cell_type": "code",
   "execution_count": 131,
   "metadata": {},
   "outputs": [
    {
     "data": {
      "text/plain": [
       "Text(0.5, 1, 'Confusion Matrix - SVC')"
      ]
     },
     "execution_count": 131,
     "metadata": {},
     "output_type": "execute_result"
    },
    {
     "data": {
      "image/png": "[encoded data removed]",
      "text/plain": [
       "<Figure size 288x216 with 2 Axes>"
      ]
     },
     "metadata": {
      "needs_background": "light"
     },
     "output_type": "display_data"
    }
   ],
   "source": [
    "# Confusion Matrix \n",
    "cm_SVC = confusion_matrix(y_test, predictionsSVC)\n",
    "cm_LR\n",
    "plt.figure(figsize=(4,3))\n",
    "sns.heatmap(cm_SVC,annot=True, cmap=\"Blues\", fmt=\"d\", \n",
    "            xticklabels = ['Non-default', 'Default'], \n",
    "            yticklabels = ['Non-default', 'Default'])\n",
    "plt.ylabel('Actual label')\n",
    "plt.xlabel('Predicted label')\n",
    "plt.title(\"Confusion Matrix - SVC\")"
   ]
  },
  {
   "cell_type": "markdown",
   "metadata": {},
   "source": [
    "# Recursive Feature Elimination"
   ]
  },
  {
   "cell_type": "code",
   "execution_count": null,
   "metadata": {},
   "outputs": [],
   "source": [
    "# feature extraction\n",
    "model = LogisticRegression(solver='lbfgs')\n",
    "rfe = RFE(model, 5)\n",
    "fit = rfe.fit(X1, Y1)\n",
    "print(\"Num Features: %d\" % fit.n_features_)\n",
    "print(\"Selected Features: %s\" % fit.support_)\n",
    "print(\"Feature Ranking: %s\" % fit.ranking_)"
   ]
  }
 ],
 "metadata": {
  "kernelspec": {
   "display_name": "Python 3",
   "language": "python",
   "name": "python3"
  },
  "language_info": {
   "codemirror_mode": {
    "name": "ipython",
    "version": 3
   },
   "file_extension": ".py",
   "mimetype": "text/x-python",
   "name": "python",
   "nbconvert_exporter": "python",
   "pygments_lexer": "ipython3",
   "version": "3.7.6"
  }
 },
 "nbformat": 4,
 "nbformat_minor": 4
}
